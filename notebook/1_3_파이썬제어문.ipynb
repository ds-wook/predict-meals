{
 "cells": [
  {
   "cell_type": "markdown",
   "metadata": {
    "id": "z3BBxxo4o-pd"
   },
   "source": [
    "## if문"
   ]
  },
  {
   "cell_type": "code",
   "execution_count": null,
   "metadata": {
    "colab": {
     "base_uri": "https://localhost:8080/"
    },
    "id": "BjJewywhplR0",
    "outputId": "ef79a92e-f92d-49b2-b614-22a3e28a470a"
   },
   "outputs": [
    {
     "name": "stdout",
     "output_type": "stream",
     "text": [
      "a는 5보다 크다\n"
     ]
    }
   ],
   "source": [
    "a = 10\n",
    "if a > 5:\n",
    "    print(\"a는 5보다 크다\")\n",
    "else:\n",
    "    print(\"a는 5보다 작거나 같다\")"
   ]
  },
  {
   "cell_type": "markdown",
   "metadata": {
    "id": "e0en0NhTG2eD"
   },
   "source": [
    "### *elif문"
   ]
  },
  {
   "cell_type": "code",
   "execution_count": null,
   "metadata": {
    "id": "yH2fpE5UG2eD",
    "outputId": "f81de03d-a475-4adc-fdb4-c4ccebe91543"
   },
   "outputs": [
    {
     "name": "stdout",
     "output_type": "stream",
     "text": [
      "a는 5보다 크다\n"
     ]
    }
   ],
   "source": [
    "a = 10\n",
    "if a > 10:\n",
    "    print(\"a는 10보다 크다\")\n",
    "elif a > 5:\n",
    "    print(\"a는 5보다 크다\")\n",
    "else:\n",
    "    print(\"a는 5보다 작거나 같다\")"
   ]
  },
  {
   "cell_type": "markdown",
   "metadata": {
    "id": "WJr4ouZypfFj"
   },
   "source": [
    "## while문"
   ]
  },
  {
   "cell_type": "code",
   "execution_count": null,
   "metadata": {
    "colab": {
     "base_uri": "https://localhost:8080/"
    },
    "id": "_w-Ypz7h1vBu",
    "outputId": "6facb25c-92b5-44ee-e2d3-5456e43cbe7c"
   },
   "outputs": [
    {
     "name": "stdout",
     "output_type": "stream",
     "text": [
      "0\n",
      "1\n",
      "2\n",
      "3\n",
      "4\n",
      "5\n",
      "6\n",
      "7\n",
      "8\n",
      "9\n"
     ]
    }
   ],
   "source": [
    "i = 0\n",
    "\n",
    "while i < 10:\n",
    "    print(i)\n",
    "    i = i + 1"
   ]
  },
  {
   "cell_type": "markdown",
   "metadata": {
    "id": "3-N9YaMzG2eF"
   },
   "source": [
    "### *break\n",
    "\n",
    "while문 강제로 빠져나가기"
   ]
  },
  {
   "cell_type": "code",
   "execution_count": null,
   "metadata": {
    "id": "HjdES4HnG2eF",
    "outputId": "a68f4d7f-8470-4ce9-86e2-b58bbb75639b"
   },
   "outputs": [
    {
     "name": "stdout",
     "output_type": "stream",
     "text": [
      "0\n",
      "1\n",
      "2\n",
      "3\n",
      "4\n"
     ]
    }
   ],
   "source": [
    "i = 0\n",
    "\n",
    "while i < 10:\n",
    "    print(i)\n",
    "    i = i + 1\n",
    "    if i == 5:\n",
    "        break"
   ]
  },
  {
   "cell_type": "markdown",
   "metadata": {
    "id": "y8v7Ras2pg3Y"
   },
   "source": [
    "## for문"
   ]
  },
  {
   "cell_type": "code",
   "execution_count": null,
   "metadata": {
    "colab": {
     "base_uri": "https://localhost:8080/"
    },
    "id": "ETvH07ov1zt5",
    "outputId": "528f7c7f-563f-44f8-e28b-9bc371b23159",
    "scrolled": true
   },
   "outputs": [
    {
     "name": "stdout",
     "output_type": "stream",
     "text": [
      "0\n",
      "1\n",
      "2\n",
      "3\n",
      "4\n",
      "5\n",
      "6\n",
      "7\n",
      "8\n",
      "9\n"
     ]
    }
   ],
   "source": [
    "for i in range(10):\n",
    "    print(i)"
   ]
  },
  {
   "cell_type": "markdown",
   "metadata": {
    "id": "EM8iQLLKG2eG"
   },
   "source": [
    "### *continue\n",
    "\n",
    "for문 안의 문장을 수행하는 도중에 continue문을 만나면 아래 문장 실행 안함"
   ]
  },
  {
   "cell_type": "code",
   "execution_count": null,
   "metadata": {
    "id": "C6mQpZXwG2eH",
    "outputId": "66231367-698e-451f-965c-ba2cf4993b1f"
   },
   "outputs": [
    {
     "name": "stdout",
     "output_type": "stream",
     "text": [
      "0\n",
      "1\n",
      "2\n",
      "3\n",
      "4\n",
      "6\n",
      "7\n",
      "8\n",
      "9\n"
     ]
    }
   ],
   "source": [
    "for i in range(10):\n",
    "    if i == 5:\n",
    "        continue\n",
    "    print(i)"
   ]
  },
  {
   "cell_type": "markdown",
   "metadata": {
    "id": "NEkg91bIG2eH"
   },
   "source": [
    "## *리스트 컴프리헨션"
   ]
  },
  {
   "cell_type": "markdown",
   "metadata": {
    "id": "MZXSHFChG2eH"
   },
   "source": [
    "기존에 배운 문법으로 0부터 9까지 정수를 순서대로 가지고 있는 리스트를 생성하는 코드"
   ]
  },
  {
   "cell_type": "code",
   "execution_count": null,
   "metadata": {
    "id": "xaVuDDaXG2eH",
    "outputId": "e80e6a4d-ba0b-491f-dcbb-d8f00532c15c"
   },
   "outputs": [
    {
     "name": "stdout",
     "output_type": "stream",
     "text": [
      "[0, 1, 2, 3, 4, 5, 6, 7, 8, 9]\n"
     ]
    }
   ],
   "source": [
    "numbers = []\n",
    "for i in range(10):\n",
    "    numbers.append(i)\n",
    "\n",
    "print(numbers)"
   ]
  },
  {
   "cell_type": "markdown",
   "metadata": {
    "id": "7py0JCrUG2eI"
   },
   "source": [
    "이러한 코드를 컴프리헨션으로 표기"
   ]
  },
  {
   "cell_type": "code",
   "execution_count": null,
   "metadata": {
    "id": "ygWSEK6yG2eI",
    "outputId": "acb0384b-bb6e-4c33-d703-0c7cd295d41c"
   },
   "outputs": [
    {
     "data": {
      "text/plain": [
       "[0, 1, 2, 3, 4, 5, 6, 7, 8, 9]"
      ]
     },
     "execution_count": 16,
     "metadata": {},
     "output_type": "execute_result"
    }
   ],
   "source": [
    "[i for i in range(10)]"
   ]
  },
  {
   "cell_type": "code",
   "execution_count": null,
   "metadata": {
    "id": "eg3wAd0rG2eI",
    "outputId": "4a373a35-a390-40d3-aa23-357e65e99bfc",
    "scrolled": true
   },
   "outputs": [
    {
     "data": {
      "text/plain": [
       "[0, 2, 4, 6, 8, 10, 12, 14, 16, 18]"
      ]
     },
     "execution_count": 17,
     "metadata": {},
     "output_type": "execute_result"
    }
   ],
   "source": [
    "[i * 2 for i in range(10)]"
   ]
  },
  {
   "cell_type": "code",
   "execution_count": null,
   "metadata": {
    "id": "13uKMWvbG2eI",
    "outputId": "448fe45b-6c31-433f-f025-1700b7f90460",
    "scrolled": true
   },
   "outputs": [
    {
     "data": {
      "text/plain": [
       "[0, 2, 4, 6, 8]"
      ]
     },
     "execution_count": 19,
     "metadata": {},
     "output_type": "execute_result"
    }
   ],
   "source": [
    "[i for i in range(10) if i % 2 == 0]"
   ]
  },
  {
   "cell_type": "code",
   "execution_count": null,
   "metadata": {
    "id": "7H082Mo9G2eJ",
    "outputId": "31f36d23-83db-41cd-8c15-7b1756720e59"
   },
   "outputs": [
    {
     "data": {
      "text/plain": [
       "[('엽떡', '허니콤보'),\n",
       " ('엽떡', '통모짜핫도그'),\n",
       " ('배떡', '허니콤보'),\n",
       " ('배떡', '통모짜핫도그'),\n",
       " ('죠떡', '허니콤보'),\n",
       " ('죠떡', '통모짜핫도그')]"
      ]
     },
     "execution_count": 23,
     "metadata": {},
     "output_type": "execute_result"
    }
   ],
   "source": [
    "[(x, y) for x in [\"엽떡\", \"배떡\", \"죠떡\"] for y in [\"허니콤보\", \"통모짜핫도그\"]]"
   ]
  },
  {
   "cell_type": "markdown",
   "metadata": {
    "id": "g5FK51cqR8Do"
   },
   "source": [
    "## 함수"
   ]
  },
  {
   "cell_type": "code",
   "execution_count": null,
   "metadata": {
    "colab": {
     "base_uri": "https://localhost:8080/",
     "height": 35
    },
    "id": "cljjlQ0E12iD",
    "outputId": "02fde34b-1775-4e06-e9ca-915f8df4712c"
   },
   "outputs": [
    {
     "data": {
      "application/vnd.google.colaboratory.intrinsic+json": {
       "type": "string"
      },
      "text/plain": [
       "'10'"
      ]
     },
     "execution_count": 6,
     "metadata": {},
     "output_type": "execute_result"
    }
   ],
   "source": [
    "ages = [\"10대\", \"20대\", \"30대\", \"40대\"]\n",
    "\n",
    "\n",
    "def change_ages(text: str):\n",
    "    return text[:2]\n",
    "\n",
    "\n",
    "change_ages(ages[0])"
   ]
  },
  {
   "cell_type": "markdown",
   "metadata": {
    "id": "HhgMElj-SJVO"
   },
   "source": [
    "## 내장함수\n",
    "\n",
    "- int\n",
    "\n",
    "  int형(정수형)으로 바꿔줌\n",
    "- len\n",
    "\n",
    "  길이 반환\n",
    "- range\n",
    "\n",
    "  특정 범위의 정수 배열 반환\n",
    "- list\n",
    "\n",
    "  list형으로 변환\n",
    "- map\n",
    "\n",
    "  리스트에 커스텀함수 매칭\n",
    "- sum\n",
    "\n",
    "  합계 반환\n",
    "- max\n",
    "\n",
    "  최댓값 반환\n",
    "- min\n",
    "\n",
    "  최솟값 반환\n",
    "\n",
    "- str\n",
    "\n",
    "  문자열로 변환\n",
    "\n",
    "- type\n",
    "\n",
    "  변수 유형 반환"
   ]
  },
  {
   "cell_type": "code",
   "execution_count": null,
   "metadata": {
    "colab": {
     "base_uri": "https://localhost:8080/"
    },
    "id": "4pcPMQGt54bs",
    "outputId": "69e76251-8784-4baa-cd70-0cafa4cc910c",
    "scrolled": true
   },
   "outputs": [
    {
     "data": {
      "text/plain": [
       "10"
      ]
     },
     "execution_count": 8,
     "metadata": {},
     "output_type": "execute_result"
    }
   ],
   "source": [
    "# int\n",
    "\n",
    "ages = [\"10대\", \"20대\", \"30대\", \"40대\"]\n",
    "\n",
    "\n",
    "def change_ages(text: str):\n",
    "    return int(text[:2])\n",
    "\n",
    "\n",
    "change_ages(ages[0])"
   ]
  },
  {
   "cell_type": "code",
   "execution_count": null,
   "metadata": {
    "colab": {
     "base_uri": "https://localhost:8080/"
    },
    "id": "Ls9foxWd58wP",
    "outputId": "dff96424-138c-496f-be24-127df47e04c4"
   },
   "outputs": [
    {
     "data": {
      "text/plain": [
       "4"
      ]
     },
     "execution_count": 9,
     "metadata": {},
     "output_type": "execute_result"
    }
   ],
   "source": [
    "# len\n",
    "len(ages)"
   ]
  },
  {
   "cell_type": "code",
   "execution_count": null,
   "metadata": {
    "colab": {
     "base_uri": "https://localhost:8080/"
    },
    "id": "eqYcMe-q6k6s",
    "outputId": "8d5003d3-66b1-41c2-e987-e2c85baf0916",
    "scrolled": true
   },
   "outputs": [
    {
     "data": {
      "text/plain": [
       "range(0, 10)"
      ]
     },
     "execution_count": 20,
     "metadata": {},
     "output_type": "execute_result"
    }
   ],
   "source": [
    "# range\n",
    "range(10)"
   ]
  },
  {
   "cell_type": "code",
   "execution_count": null,
   "metadata": {
    "colab": {
     "base_uri": "https://localhost:8080/"
    },
    "id": "7TltY4Xh6io0",
    "outputId": "4c6ac93c-e04a-4ed8-ef21-0322f4583e9b"
   },
   "outputs": [
    {
     "data": {
      "text/plain": [
       "[0, 1, 2, 3, 4, 5, 6, 7, 8, 9]"
      ]
     },
     "execution_count": 12,
     "metadata": {},
     "output_type": "execute_result"
    }
   ],
   "source": [
    "# list\n",
    "list(range(10))"
   ]
  },
  {
   "cell_type": "code",
   "execution_count": null,
   "metadata": {
    "colab": {
     "base_uri": "https://localhost:8080/"
    },
    "id": "uXGrHoRN6jez",
    "outputId": "957583b6-4301-460e-ff27-70b627cf2525"
   },
   "outputs": [
    {
     "data": {
      "text/plain": [
       "[10, 20, 30, 40]"
      ]
     },
     "execution_count": 19,
     "metadata": {},
     "output_type": "execute_result"
    }
   ],
   "source": [
    "# map\n",
    "\n",
    "list(map(change_ages, ages))"
   ]
  },
  {
   "cell_type": "code",
   "execution_count": null,
   "metadata": {
    "colab": {
     "base_uri": "https://localhost:8080/"
    },
    "id": "MqpVamtJ6l3-",
    "outputId": "7faf92e5-5f70-4c4e-9a07-0a172e90bf51"
   },
   "outputs": [
    {
     "data": {
      "text/plain": [
       "100"
      ]
     },
     "execution_count": 24,
     "metadata": {},
     "output_type": "execute_result"
    }
   ],
   "source": [
    "# sum\n",
    "sum(list(map(change_ages, ages)))"
   ]
  },
  {
   "cell_type": "code",
   "execution_count": null,
   "metadata": {
    "colab": {
     "base_uri": "https://localhost:8080/"
    },
    "id": "1e_trBsC6kB9",
    "outputId": "d31a7070-b1e8-4c2c-8205-74edb6235c05"
   },
   "outputs": [
    {
     "data": {
      "text/plain": [
       "40"
      ]
     },
     "execution_count": 21,
     "metadata": {},
     "output_type": "execute_result"
    }
   ],
   "source": [
    "# max\n",
    "max(list(map(change_ages, ages)))"
   ]
  },
  {
   "cell_type": "code",
   "execution_count": null,
   "metadata": {
    "colab": {
     "base_uri": "https://localhost:8080/"
    },
    "id": "a-vHqbtU6kdD",
    "outputId": "bdf2c078-9108-4149-b36a-7245be431b3d",
    "scrolled": true
   },
   "outputs": [
    {
     "data": {
      "text/plain": [
       "10"
      ]
     },
     "execution_count": 22,
     "metadata": {},
     "output_type": "execute_result"
    }
   ],
   "source": [
    "# min\n",
    "min(list(map(change_ages, ages)))"
   ]
  },
  {
   "cell_type": "code",
   "execution_count": null,
   "metadata": {
    "colab": {
     "base_uri": "https://localhost:8080/",
     "height": 35
    },
    "id": "N281lD5Y6lbd",
    "outputId": "3fe6d4e9-da19-44d7-d385-5c4b5b7dd6b5",
    "scrolled": true
   },
   "outputs": [
    {
     "data": {
      "application/vnd.google.colaboratory.intrinsic+json": {
       "type": "string"
      },
      "text/plain": [
       "'10'"
      ]
     },
     "execution_count": 23,
     "metadata": {},
     "output_type": "execute_result"
    }
   ],
   "source": [
    "# str\n",
    "str(min(list(map(change_ages, ages))))"
   ]
  },
  {
   "cell_type": "code",
   "execution_count": null,
   "metadata": {
    "colab": {
     "base_uri": "https://localhost:8080/"
    },
    "id": "5lm0iHmM6mW7",
    "outputId": "72705e6f-3cc0-42e6-f45f-c00dde7227d3"
   },
   "outputs": [
    {
     "data": {
      "text/plain": [
       "str"
      ]
     },
     "execution_count": 25,
     "metadata": {},
     "output_type": "execute_result"
    }
   ],
   "source": [
    "# type\n",
    "type(str(min(list(map(change_ages, ages)))))"
   ]
  },
  {
   "cell_type": "markdown",
   "metadata": {
    "id": "L9s_gecZpi-h"
   },
   "source": [
    "## 연습문제"
   ]
  },
  {
   "cell_type": "markdown",
   "metadata": {
    "id": "SYG96r2tzepY"
   },
   "source": [
    "### 문제1. fruit_list를 생성하여 다음과 같은 지시를 따르시오.\n",
    "\n",
    "1) 반복문을 사용하여 과일 이름을 key로 과일의 순서를 value로 갖는 fruit_dict를 생성하시오."
   ]
  },
  {
   "cell_type": "code",
   "execution_count": null,
   "metadata": {
    "colab": {
     "base_uri": "https://localhost:8080/"
    },
    "executionInfo": {
     "elapsed": 7,
     "status": "ok",
     "timestamp": 1656397728731,
     "user": {
      "displayName": "정성문",
      "userId": "09810754010764137685"
     },
     "user_tz": -540
    },
    "id": "duhFzq_EyMkv",
    "outputId": "e29da0a6-2766-404f-c27f-1997eda72e22"
   },
   "outputs": [
    {
     "data": {
      "text/plain": [
       "{'딸기': 2, '배': 3, '사과': 1, '수박': 4, '오렌지': 0}"
      ]
     },
     "execution_count": 1,
     "metadata": {},
     "output_type": "execute_result"
    }
   ],
   "source": [
    "fruit_list = [\"오렌지\", \"사과\", \"딸기\", \"배\", \"수박\"]\n",
    "\n",
    "fruit_dict = {}\n",
    "for i in range(len(fruit_list)):\n",
    "    fruit_dict[fruit_list[i]] = i\n",
    "\n",
    "fruit_dict"
   ]
  },
  {
   "cell_type": "markdown",
   "metadata": {
    "id": "W6DNaPV60cqx"
   },
   "source": [
    "### 문제2. fruit_dict를 사용하여 다음의 지시를 따라 fruit_list를 수정하시오.\n",
    "\n",
    "1) map 함수를 사용하여 fruit_list의 과일이름을 fruit_dict의 숫자로 바꾸시오."
   ]
  },
  {
   "cell_type": "code",
   "execution_count": null,
   "metadata": {
    "colab": {
     "base_uri": "https://localhost:8080/"
    },
    "executionInfo": {
     "elapsed": 5,
     "status": "ok",
     "timestamp": 1656397728732,
     "user": {
      "displayName": "정성문",
      "userId": "09810754010764137685"
     },
     "user_tz": -540
    },
    "id": "wYS6vw8Rymfw",
    "outputId": "0fa90c61-467b-4d97-b020-5911afe74e50"
   },
   "outputs": [
    {
     "data": {
      "text/plain": [
       "[0, 1, 2, 3, 4]"
      ]
     },
     "execution_count": 2,
     "metadata": {},
     "output_type": "execute_result"
    }
   ],
   "source": [
    "def change_list(text: str):\n",
    "    return fruit_dict[text]\n",
    "\n",
    "\n",
    "fruit_list = list(map(change_list, fruit_list))\n",
    "\n",
    "fruit_list"
   ]
  },
  {
   "cell_type": "markdown",
   "metadata": {
    "id": "EJ8epEN8BPa2"
   },
   "source": [
    "### 문제3. 숫자를 과일로 다시 뒤집기"
   ]
  },
  {
   "cell_type": "code",
   "execution_count": null,
   "metadata": {
    "colab": {
     "base_uri": "https://localhost:8080/"
    },
    "executionInfo": {
     "elapsed": 4,
     "status": "ok",
     "timestamp": 1656397740707,
     "user": {
      "displayName": "정성문",
      "userId": "09810754010764137685"
     },
     "user_tz": -540
    },
    "id": "zbkDZ0zN_2th",
    "outputId": "8eff3e60-5be3-49ae-f038-f1cc4307a425"
   },
   "outputs": [
    {
     "data": {
      "text/plain": [
       "{'딸기': 2, '배': 3, '사과': 1, '수박': 4, '오렌지': 0}"
      ]
     },
     "execution_count": 3,
     "metadata": {},
     "output_type": "execute_result"
    }
   ],
   "source": [
    "fruit_dict"
   ]
  },
  {
   "cell_type": "code",
   "execution_count": null,
   "metadata": {
    "colab": {
     "base_uri": "https://localhost:8080/"
    },
    "executionInfo": {
     "elapsed": 3,
     "status": "ok",
     "timestamp": 1656397952629,
     "user": {
      "displayName": "정성문",
      "userId": "09810754010764137685"
     },
     "user_tz": -540
    },
    "id": "oa58xrob_8dw",
    "outputId": "5a93713b-f7a8-48ac-e677-49c54cf7d787"
   },
   "outputs": [
    {
     "data": {
      "text/plain": [
       "['오렌지', '사과', '딸기', '배', '수박']"
      ]
     },
     "execution_count": 9,
     "metadata": {},
     "output_type": "execute_result"
    }
   ],
   "source": [
    "fruit_dict = {value: key for key, value in fruit_dict.items()}\n",
    "\n",
    "fruit_list = list(map(change_list, fruit_list))\n",
    "fruit_list"
   ]
  }
 ],
 "metadata": {
  "colab": {
   "collapsed_sections": [],
   "provenance": []
  },
  "kernelspec": {
   "display_name": "Python 3",
   "language": "python",
   "name": "python3"
  },
  "language_info": {
   "codemirror_mode": {
    "name": "ipython",
    "version": 3
   },
   "file_extension": ".py",
   "mimetype": "text/x-python",
   "name": "python",
   "nbconvert_exporter": "python",
   "pygments_lexer": "ipython3",
   "version": "3.8.8"
  }
 },
 "nbformat": 4,
 "nbformat_minor": 1
}
