{
 "cells": [
  {
   "cell_type": "code",
   "execution_count": 8,
   "id": "81e16c15",
   "metadata": {},
   "outputs": [],
   "source": [
    "from tqdm.notebook import tqdm\n",
    "import pandas as pd\n",
    "import numpy as np\n",
    "import datetime as dt\n",
    "from lightgbm import LGBMRegressor\n",
    "from catboost import CatBoostRegressor\n",
    "from xgboost import XGBRegressor"
   ]
  },
  {
   "cell_type": "code",
   "execution_count": 9,
   "id": "5a4a69df",
   "metadata": {},
   "outputs": [
    {
     "name": "stdout",
     "output_type": "stream",
     "text": [
      "done\n"
     ]
    },
    {
     "name": "stderr",
     "output_type": "stream",
     "text": [
      "<ipython-input-9-238940bf0821>:16: FutureWarning: Series.dt.weekofyear and Series.dt.week have been deprecated.  Please use Series.dt.isocalendar().week instead.\n",
      "  train[\"주\"] = train[\"일자\"].dt.week\n",
      "<ipython-input-9-238940bf0821>:29: FutureWarning: Series.dt.weekofyear and Series.dt.week have been deprecated.  Please use Series.dt.isocalendar().week instead.\n",
      "  test[\"주\"] = test[\"일자\"].dt.week\n"
     ]
    }
   ],
   "source": [
    "path = \"../input/predict-meals/\"\n",
    "train = pd.read_csv(path + \"train.csv\")\n",
    "test = pd.read_csv(path + \"test.csv\")\n",
    "\n",
    "train[[\"현본사소속재택근무자수\", \"중식계\", \"석식계\"]] = train[[\"현본사소속재택근무자수\", \"중식계\", \"석식계\"]].astype(\n",
    "    \"int\"\n",
    ")\n",
    "test[\"현본사소속재택근무자수\"] = test[\"현본사소속재택근무자수\"].astype(\"int\")\n",
    "\n",
    "train[\"일자\"] = pd.to_datetime(train[\"일자\"])\n",
    "test[\"일자\"] = pd.to_datetime(test[\"일자\"])\n",
    "\n",
    "train[\"년\"] = train[\"일자\"].dt.year\n",
    "train[\"월\"] = train[\"일자\"].dt.month\n",
    "train[\"일\"] = train[\"일자\"].dt.day\n",
    "train[\"주\"] = train[\"일자\"].dt.week\n",
    "train[\"요일\"] = train[\"일자\"].dt.weekday\n",
    "train[\"출근\"] = train[\"본사정원수\"] - (\n",
    "    train[\"본사휴가자수\"] + train[\"본사출장자수\"] + train[\"현본사소속재택근무자수\"]\n",
    ")\n",
    "train[\"휴가비율\"] = train[\"본사휴가자수\"] / train[\"본사정원수\"]\n",
    "train[\"출장비율\"] = train[\"본사출장자수\"] / train[\"본사정원수\"]\n",
    "train[\"야근비율\"] = train[\"본사시간외근무명령서승인건수\"] / train[\"출근\"]\n",
    "train[\"재택비율\"] = train[\"현본사소속재택근무자수\"] / train[\"본사정원수\"]\n",
    "\n",
    "test[\"년\"] = test[\"일자\"].dt.year\n",
    "test[\"월\"] = test[\"일자\"].dt.month\n",
    "test[\"일\"] = test[\"일자\"].dt.day\n",
    "test[\"주\"] = test[\"일자\"].dt.week\n",
    "test[\"요일\"] = test[\"일자\"].dt.weekday\n",
    "test[\"출근\"] = test[\"본사정원수\"] - (test[\"본사휴가자수\"] + test[\"본사출장자수\"] + test[\"현본사소속재택근무자수\"])\n",
    "test[\"휴가비율\"] = test[\"본사휴가자수\"] / test[\"본사정원수\"]\n",
    "test[\"출장비율\"] = test[\"본사출장자수\"] / test[\"본사정원수\"]\n",
    "test[\"야근비율\"] = test[\"본사시간외근무명령서승인건수\"] / test[\"출근\"]\n",
    "test[\"재택비율\"] = test[\"현본사소속재택근무자수\"] / test[\"본사정원수\"]\n",
    "\n",
    "print(\"done\")"
   ]
  },
  {
   "cell_type": "code",
   "execution_count": 10,
   "id": "f43d8eda",
   "metadata": {},
   "outputs": [],
   "source": [
    "train[\"공휴일전후\"] = 0\n",
    "test[\"공휴일전후\"] = 0"
   ]
  },
  {
   "cell_type": "code",
   "execution_count": 11,
   "id": "f17445b2",
   "metadata": {},
   "outputs": [],
   "source": [
    "train_holidays = [\n",
    "    17,\n",
    "    3,\n",
    "    62,\n",
    "    131,\n",
    "    152,\n",
    "    226,\n",
    "    221,\n",
    "    224,\n",
    "    245,\n",
    "    310,\n",
    "    311,\n",
    "    309,\n",
    "    330,\n",
    "    379,\n",
    "    467,\n",
    "    470,\n",
    "    502,\n",
    "    565,\n",
    "    623,\n",
    "    651,\n",
    "    705,\n",
    "    709,\n",
    "    815,\n",
    "    864,\n",
    "    950,\n",
    "    951,\n",
    "    953,\n",
    "    954,\n",
    "    955,\n",
    "    971,\n",
    "    1038,\n",
    "    1099,\n",
    "    1129,\n",
    "    1187,\n",
    "]\n",
    "\n",
    "for holiday in train_holidays:\n",
    "    train.loc[holiday - 1, \"공휴일전후\"] = 1\n",
    "test.loc[9, \"공휴일전후\"] = 1\n",
    "test.loc[19, \"공휴일전후\"] = 1"
   ]
  },
  {
   "cell_type": "code",
   "execution_count": 12,
   "id": "cc31f77a",
   "metadata": {},
   "outputs": [],
   "source": [
    "train = pd.get_dummies(train, columns=[\"공휴일전후\"])\n",
    "test = pd.get_dummies(test, columns=[\"공휴일전후\"])"
   ]
  },
  {
   "cell_type": "code",
   "execution_count": 13,
   "id": "9bc4c584",
   "metadata": {},
   "outputs": [],
   "source": [
    "test.loc[19, \"공휴일전후_0\"] = 1\n",
    "test.loc[19, \"공휴일전후_1\"] = 0"
   ]
  },
  {
   "cell_type": "code",
   "execution_count": 14,
   "id": "d24f3de5",
   "metadata": {},
   "outputs": [],
   "source": [
    "# -----------------------------<Full DATA>-----------------------------------\n",
    "\n",
    "train_lunch = train[\n",
    "    [\n",
    "        \"요일\",\n",
    "        \"공휴일전후_0\",\n",
    "        \"휴가비율\",\n",
    "        \"출장비율\",\n",
    "        \"재택비율\",\n",
    "        \"공휴일전후_1\",\n",
    "        \"출근\",\n",
    "#         \"본사출장자수\",\n",
    "#         \"현본사소속재택근무자수\",\n",
    "#         \"본사휴가자수\",\n",
    "        \"일\",\n",
    "        \"주\",\n",
    "        \"월\",\n",
    "        \"년\",\n",
    "        \"중식계\",\n",
    "    ]\n",
    "]\n",
    "test_lunch = test[\n",
    "    [\n",
    "        \"요일\",\n",
    "        \"공휴일전후_0\",\n",
    "        \"휴가비율\",\n",
    "        \"출장비율\",\n",
    "        \"재택비율\",\n",
    "        \"공휴일전후_1\",\n",
    "        \"출근\",\n",
    "#         \"본사출장자수\",\n",
    "#         \"현본사소속재택근무자수\",\n",
    "#         \"본사휴가자수\",\n",
    "        \"일\",\n",
    "        \"주\",\n",
    "        \"월\",\n",
    "        \"년\",\n",
    "    ]\n",
    "]\n",
    "\n",
    "train_dinner = train[\n",
    "    [\n",
    "        \"요일\",\n",
    "        \"공휴일전후_0\",\n",
    "        \"휴가비율\",\n",
    "        \"출장비율\",\n",
    "        \"재택비율\",\n",
    "        \"공휴일전후_1\",\n",
    "        \"출근\",\n",
    "#         \"본사휴가자수\",\n",
    "#         \"현본사소속재택근무자수\",\n",
    "        \"본사시간외근무명령서승인건수\",\n",
    "#         \"본사출장자수\",\n",
    "        \"석식계\",\n",
    "        \"일\",\n",
    "        \"주\",\n",
    "        \"월\",\n",
    "        \"년\",\n",
    "    ]\n",
    "]\n",
    "test_dinner = test[\n",
    "    [\n",
    "        \"요일\",\n",
    "        \"공휴일전후_0\",\n",
    "        \"휴가비율\",\n",
    "        \"출장비율\",\n",
    "        \"재택비율\",\n",
    "        \"공휴일전후_1\",\n",
    "        \"출근\",\n",
    "#         \"본사휴가자수\",\n",
    "#         \"현본사소속재택근무자수\",\n",
    "        \"본사시간외근무명령서승인건수\",\n",
    "#         \"본사출장자수\",\n",
    "        \"일\",\n",
    "        \"주\",\n",
    "        \"월\",\n",
    "        \"년\",\n",
    "    ]\n",
    "]"
   ]
  },
  {
   "cell_type": "code",
   "execution_count": 15,
   "id": "b64144ee",
   "metadata": {},
   "outputs": [],
   "source": [
    "X_lunch = train_lunch.drop(\"중식계\", axis=1)\n",
    "y_lunch = train_lunch[\"중식계\"]\n",
    "X_dinner = train_dinner.drop(\"석식계\", axis=1)\n",
    "y_dinner = train_dinner[\"석식계\"]"
   ]
  },
  {
   "cell_type": "code",
   "execution_count": 17,
   "id": "a6384ad5",
   "metadata": {},
   "outputs": [],
   "source": [
    "from sklearn.model_selection import train_test_split\n",
    "\n",
    "x_train, x_valid, y_train, y_valid = train_test_split(\n",
    "    X_lunch, y_lunch, test_size=0.15, random_state=42\n",
    ")"
   ]
  },
  {
   "cell_type": "code",
   "execution_count": 19,
   "id": "4935ddfd",
   "metadata": {},
   "outputs": [
    {
     "name": "stdout",
     "output_type": "stream",
     "text": [
      "[0]\tvalidation_0-mae:873.40662\tvalidation_1-mae:863.93726\n",
      "[100]\tvalidation_0-mae:121.74165\tvalidation_1-mae:121.84717\n",
      "[200]\tvalidation_0-mae:47.36787\tvalidation_1-mae:71.60096\n",
      "[300]\tvalidation_0-mae:40.23014\tvalidation_1-mae:69.35230\n",
      "[400]\tvalidation_0-mae:35.87794\tvalidation_1-mae:68.93666\n",
      "[500]\tvalidation_0-mae:32.29570\tvalidation_1-mae:68.78835\n",
      "[600]\tvalidation_0-mae:29.23320\tvalidation_1-mae:68.61154\n",
      "[700]\tvalidation_0-mae:26.58250\tvalidation_1-mae:68.67536\n",
      "[720]\tvalidation_0-mae:26.02900\tvalidation_1-mae:68.75520\n"
     ]
    },
    {
     "data": {
      "text/plain": [
       "XGBRegressor(base_score=0.5, booster='gbtree', colsample_bylevel=1,\n",
       "             colsample_bynode=1, colsample_bytree=1, eval_metric='mae', gamma=0,\n",
       "             gpu_id=-1, importance_type='gain', interaction_constraints='',\n",
       "             lambda=0.001957209705589047, learning_rate=0.02, max_delta_step=0,\n",
       "             max_depth=7, min_child_weight=8, missing=nan,\n",
       "             monotone_constraints='()', n_estimators=10000, n_jobs=8,\n",
       "             num_parallel_tree=1, random_state=42, reg_alpha=0,\n",
       "             reg_lambda=0.00195720978, scale_pos_weight=1,\n",
       "             subsample=0.5134936676742582, tree_method='exact',\n",
       "             validate_parameters=1, verbosity=None)"
      ]
     },
     "execution_count": 19,
     "metadata": {},
     "output_type": "execute_result"
    }
   ],
   "source": [
    "lunch_params = pd.read_pickle(\"../parameters/xgb_lunch_params.pkl\")\n",
    "\n",
    "lunch_model = XGBRegressor(**lunch_params)\n",
    "lunch_model.fit(\n",
    "    x_train,\n",
    "    y_train,\n",
    "    eval_set=[(x_train, y_train), (x_valid, y_valid)],\n",
    "    early_stopping_rounds=100,\n",
    "    verbose=100,\n",
    ")"
   ]
  },
  {
   "cell_type": "code",
   "execution_count": 20,
   "id": "28386fee",
   "metadata": {
    "scrolled": false
   },
   "outputs": [],
   "source": [
    "lunch_model.fit(X_lunch, y_lunch)\n",
    "lunch_preds = lunch_model.predict(test_lunch)"
   ]
  },
  {
   "cell_type": "code",
   "execution_count": 22,
   "id": "0080dd89",
   "metadata": {},
   "outputs": [
    {
     "name": "stdout",
     "output_type": "stream",
     "text": [
      "[0]\tvalidation_0-mae:879.97730\tvalidation_1-mae:870.52014\n",
      "[100]\tvalidation_0-mae:251.04820\tvalidation_1-mae:244.14703\n",
      "[200]\tvalidation_0-mae:86.06233\tvalidation_1-mae:92.36872\n",
      "[300]\tvalidation_0-mae:51.79037\tvalidation_1-mae:72.19988\n",
      "[400]\tvalidation_0-mae:42.41095\tvalidation_1-mae:69.97480\n",
      "[500]\tvalidation_0-mae:37.22838\tvalidation_1-mae:69.67126\n",
      "[600]\tvalidation_0-mae:33.35967\tvalidation_1-mae:69.53409\n",
      "[700]\tvalidation_0-mae:30.31086\tvalidation_1-mae:69.58132\n",
      "[725]\tvalidation_0-mae:29.61041\tvalidation_1-mae:69.53654\n"
     ]
    },
    {
     "data": {
      "text/plain": [
       "XGBRegressor(base_score=0.5, booster='gbtree', colsample_bylevel=1,\n",
       "             colsample_bynode=1, colsample_bytree=0.9796229501882451,\n",
       "             eval_metric='mae', gamma=0, gpu_id=-1, importance_type='gain',\n",
       "             interaction_constraints='', learning_rate=0.012726386555401356,\n",
       "             max_delta_step=0, max_depth=15, min_child_weight=13, missing=nan,\n",
       "             monotone_constraints='()', n_estimators=10000, n_jobs=8,\n",
       "             num_parallel_tree=1, random_state=42, reg_alpha=0, reg_lambda=1,\n",
       "             scale_pos_weight=1, subsample=0.6652282725071904,\n",
       "             tree_method='exact', validate_parameters=1, verbosity=None)"
      ]
     },
     "execution_count": 22,
     "metadata": {},
     "output_type": "execute_result"
    }
   ],
   "source": [
    "dinner_params = pd.read_pickle(\"../parameters/xgb_dinner_params.pkl\")\n",
    "dinner_model = XGBRegressor(**dinner_params)\n",
    "dinner_model.fit(\n",
    "    x_train,\n",
    "    y_train,\n",
    "    eval_set=[(x_train, y_train), (x_valid, y_valid)],\n",
    "    early_stopping_rounds=100,\n",
    "    verbose=100,\n",
    ")"
   ]
  },
  {
   "cell_type": "code",
   "execution_count": null,
   "id": "285c0bc0",
   "metadata": {},
   "outputs": [],
   "source": [
    "dinner_params = pd.read_pickle(\"../parameters/xgb_dinner_params.pkl\")\n",
    "dinner_model = XGBRegressor(**dinner_params)\n",
    "dinner_model.fit(X_dinner, y_dinner)\n",
    "dinner_preds = dinner_model.predict(test_dinner)"
   ]
  },
  {
   "cell_type": "code",
   "execution_count": null,
   "id": "53e2bd45",
   "metadata": {},
   "outputs": [],
   "source": [
    "submission = pd.read_csv(path + \"sample_submission.csv\")\n",
    "submission[\"중식계\"] = lunch_preds\n",
    "submission[\"석식계\"] = dinner_preds\n",
    "\n",
    "submission.to_csv(\"fea_xgb2.csv\", index=False)"
   ]
  }
 ],
 "metadata": {
  "kernelspec": {
   "display_name": "Python 3",
   "language": "python",
   "name": "python3"
  },
  "language_info": {
   "codemirror_mode": {
    "name": "ipython",
    "version": 3
   },
   "file_extension": ".py",
   "mimetype": "text/x-python",
   "name": "python",
   "nbconvert_exporter": "python",
   "pygments_lexer": "ipython3",
   "version": "3.8.10"
  }
 },
 "nbformat": 4,
 "nbformat_minor": 5
}
