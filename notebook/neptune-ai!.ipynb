{
 "cells": [
  {
   "cell_type": "code",
   "execution_count": 1,
   "id": "420507d1",
   "metadata": {},
   "outputs": [],
   "source": [
    "from typing import Tuple\n",
    "\n",
    "import pandas as pd\n",
    "\n",
    "\n",
    "def load_dataset(path: str) -> Tuple[pd.DataFrame, pd.DataFrame]:\n",
    "    train = pd.read_csv(path + \"train.csv\")\n",
    "    test = pd.read_csv(path + \"test.csv\")\n",
    "\n",
    "    drops = [\"조식메뉴\", \"중식메뉴\", \"석식메뉴\"]\n",
    "\n",
    "    train = train.drop(drops, axis=1)\n",
    "    test = test.drop(drops, axis=1)\n",
    "\n",
    "    train[\"월\"] = pd.DatetimeIndex(train[\"일자\"]).month\n",
    "    test[\"월\"] = pd.DatetimeIndex(test[\"일자\"]).month\n",
    "\n",
    "    train[\"일\"] = pd.DatetimeIndex(train[\"일자\"]).day\n",
    "    test[\"일\"] = pd.DatetimeIndex(test[\"일자\"]).day\n",
    "\n",
    "    weekday = {\"월\": 1, \"화\": 2, \"수\": 3, \"목\": 4, \"금\": 5}\n",
    "\n",
    "    train[\"요일\"] = train[\"요일\"].map(weekday)\n",
    "    test[\"요일\"] = test[\"요일\"].map(weekday)\n",
    "\n",
    "    train[\"식사가능자수\"] = train[\"본사정원수\"] - train[\"본사휴가자수\"] - train[\"현본사소속재택근무자수\"]\n",
    "    test[\"식사가능자수\"] = test[\"본사정원수\"] - test[\"본사휴가자수\"] - test[\"현본사소속재택근무자수\"]\n",
    "\n",
    "    train[\"중식참여율\"] = train[\"중식계\"] / train[\"식사가능자수\"]\n",
    "    train[\"석식참여율\"] = train[\"석식계\"] / train[\"식사가능자수\"]\n",
    "\n",
    "    features = [\"월\", \"일\", \"요일\", \"식사가능자수\", \"본사출장자수\", \"본사시간외근무명령서승인건수\"]\n",
    "    labels = [\"중식계\", \"석식계\", \"중식참여율\", \"석식참여율\"]\n",
    "\n",
    "    train = train[features + labels]\n",
    "    test = test[features]\n",
    "\n",
    "    # 요일을 석식 rank에 맞춰 mapping한 요일(석식) 칼럼 만들기.\n",
    "\n",
    "    weekday_rank4dinner = {\n",
    "        1: 1,\n",
    "        2: 2,\n",
    "        3: 5,\n",
    "        4: 3,\n",
    "        5: 4,\n",
    "    }\n",
    "\n",
    "    train[\"요일(석식)\"] = train[\"요일\"].map(weekday_rank4dinner)\n",
    "    test[\"요일(석식)\"] = test[\"요일\"].map(weekday_rank4dinner)\n",
    "\n",
    "    return train, test\n"
   ]
  },
  {
   "cell_type": "code",
   "execution_count": 2,
   "id": "946dc554",
   "metadata": {},
   "outputs": [],
   "source": [
    "import warnings\n",
    "\n",
    "import neptune.new as neptune\n",
    "import pandas as pd\n",
    "from neptune.new.integrations.xgboost import NeptuneCallback\n",
    "from xgboost import XGBRegressor\n",
    "\n",
    "warnings.filterwarnings(\"ignore\")"
   ]
  },
  {
   "cell_type": "code",
   "execution_count": 3,
   "id": "9f1b117f",
   "metadata": {},
   "outputs": [],
   "source": [
    "from sklearn.model_selection import train_test_split\n",
    "\n",
    "train, test = load_dataset(\"../input/predict-meals/\")\n",
    "\n",
    "\n",
    "X_lunch = train[[\"월\", \"일\", \"요일\", \"식사가능자수\", \"본사출장자수\", \"본사시간외근무명령서승인건수\"]]\n",
    "y_lunch = train[\"중식계\"]\n",
    "X_test = test[[\"월\", \"일\", \"요일\", \"식사가능자수\", \"본사출장자수\", \"본사시간외근무명령서승인건수\"]]\n",
    "\n",
    "x_train, x_valid, y_train, y_valid = train_test_split(\n",
    "    X_lunch, y_lunch, test_size=0.15, random_state=42\n",
    ")"
   ]
  },
  {
   "cell_type": "code",
   "execution_count": 4,
   "id": "1337326a",
   "metadata": {},
   "outputs": [
    {
     "name": "stderr",
     "output_type": "stream",
     "text": [
      "Info (NVML): NVML Shared Library Not Found. GPU usage metrics may not be reported. For more information, see https://docs-legacy.neptune.ai/logging-and-managing-experiment-results/logging-experiment-data.html#hardware-consumption \n"
     ]
    },
    {
     "name": "stdout",
     "output_type": "stream",
     "text": [
      "https://app.neptune.ai/ds-wook/predict-meals/e/PRED-7\n",
      "Remember to stop your run once you’ve finished logging your metadata (https://docs.neptune.ai/api-reference/run#stop). It will be stopped automatically only when the notebook kernel/interactive console is terminated.\n"
     ]
    }
   ],
   "source": [
    "run = neptune.init(\n",
    "    project=\"ds-wook/predict-meals\",\n",
    "    api_token=\"eyJhcGlfYWRkcmVzcyI6Imh0dHBzOi8vYXBwLm5lcHR1bmUuYWkiLCJhcGlfdXJsIjoiaHR0cHM6Ly9hcHAubmVwdHVuZS5haSIsImFwaV9rZXkiOiJmM2QyYmRjMy1mYmU5LTQ3ZmEtYTg0YS1hNWFhZmE1ZmVmZTQifQ==\",\n",
    ")\n",
    "neptune_callback = NeptuneCallback(run=run, log_tree=[0, 1, 2, 3])"
   ]
  },
  {
   "cell_type": "code",
   "execution_count": 5,
   "id": "276b04db",
   "metadata": {},
   "outputs": [
    {
     "name": "stdout",
     "output_type": "stream",
     "text": [
      "[0]\tvalidation_0-mae:811.55786\tvalidation_1-mae:802.60211\n",
      "[99]\tvalidation_0-mae:36.03213\tvalidation_1-mae:76.14484\n"
     ]
    },
    {
     "data": {
      "text/plain": [
       "XGBRegressor(base_score=0.5, booster='gbtree', colsample_bylevel=1,\n",
       "             colsample_bynode=1, colsample_bytree=1, eval_metric='mae', gamma=0,\n",
       "             gpu_id=-1, importance_type='gain', interaction_constraints='',\n",
       "             learning_rate=0.09, max_delta_step=0, max_depth=6,\n",
       "             min_child_weight=1, missing=nan, monotone_constraints='()',\n",
       "             n_estimators=100, n_jobs=8, num_parallel_tree=1, random_state=0,\n",
       "             reg_alpha=0, reg_lambda=1, scale_pos_weight=1, subsample=1,\n",
       "             tree_method='exact', validate_parameters=1, verbosity=None)"
      ]
     },
     "execution_count": 5,
     "metadata": {},
     "output_type": "execute_result"
    }
   ],
   "source": [
    "lunch_params = {\n",
    "    \"learning_rate\": 0.09,\n",
    "    \"eval_metric\": \"mae\",\n",
    "}\n",
    "\n",
    "lunch_model = XGBRegressor(**lunch_params)\n",
    "lunch_model.fit(\n",
    "    x_train,\n",
    "    y_train,\n",
    "    eval_set=[(x_train, y_train), (x_valid, y_valid)],\n",
    "    early_stopping_rounds=100,\n",
    "    verbose=100,\n",
    "    callbacks=[neptune_callback],\n",
    ")"
   ]
  },
  {
   "cell_type": "code",
   "execution_count": 6,
   "id": "09fdc1b7",
   "metadata": {},
   "outputs": [
    {
     "name": "stdout",
     "output_type": "stream",
     "text": [
      "https://app.neptune.ai/ds-wook/predict-meals/e/PRED-8\n",
      "Remember to stop your run once you’ve finished logging your metadata (https://docs.neptune.ai/api-reference/run#stop). It will be stopped automatically only when the notebook kernel/interactive console is terminated.\n"
     ]
    }
   ],
   "source": [
    "X_dinner = train[[\"월\", \"일\", \"요일(석식)\", \"식사가능자수\", \"본사출장자수\", \"본사시간외근무명령서승인건수\"]]\n",
    "y_dinner = train[\"석식계\"]\n",
    "run = neptune.init(\n",
    "    project=\"ds-wook/predict-meals\",\n",
    "    api_token=\"eyJhcGlfYWRkcmVzcyI6Imh0dHBzOi8vYXBwLm5lcHR1bmUuYWkiLCJhcGlfdXJsIjoiaHR0cHM6Ly9hcHAubmVwdHVuZS5haSIsImFwaV9rZXkiOiJmM2QyYmRjMy1mYmU5LTQ3ZmEtYTg0YS1hNWFhZmE1ZmVmZTQifQ==\",\n",
    ")\n",
    "neptune_callback = NeptuneCallback(run=run, log_tree=[0, 1, 2, 3])"
   ]
  },
  {
   "cell_type": "code",
   "execution_count": 7,
   "id": "20bb9beb",
   "metadata": {},
   "outputs": [
    {
     "name": "stdout",
     "output_type": "stream",
     "text": [
      "[0]\tvalidation_0-mae:421.87366\tvalidation_1-mae:418.33295\n",
      "[99]\tvalidation_0-mae:24.93787\tvalidation_1-mae:57.77809\n"
     ]
    },
    {
     "data": {
      "text/plain": [
       "XGBRegressor(base_score=0.5, booster='gbtree', colsample_bylevel=1,\n",
       "             colsample_bynode=1, colsample_bytree=1, eval_metric='mae', gamma=0,\n",
       "             gpu_id=-1, importance_type='gain', interaction_constraints='',\n",
       "             learning_rate=0.089, max_delta_step=0, max_depth=6,\n",
       "             min_child_weight=1, missing=nan, monotone_constraints='()',\n",
       "             n_estimators=100, n_jobs=8, num_parallel_tree=1, random_state=0,\n",
       "             reg_alpha=0, reg_lambda=1, scale_pos_weight=1, subsample=1,\n",
       "             tree_method='exact', validate_parameters=1, verbosity=None)"
      ]
     },
     "execution_count": 7,
     "metadata": {},
     "output_type": "execute_result"
    }
   ],
   "source": [
    "x_train, x_valid, y_train, y_valid = train_test_split(\n",
    "    X_dinner, y_dinner, test_size=0.15, random_state=42\n",
    ")\n",
    "\n",
    "dinner_params = {\n",
    "    \"learning_rate\": 0.089,\n",
    "    \"eval_metric\": \"mae\",\n",
    "}\n",
    "\n",
    "dinner_model = XGBRegressor(**dinner_params)\n",
    "dinner_model.fit(\n",
    "    x_train,\n",
    "    y_train,\n",
    "    eval_set=[(x_train, y_train), (x_valid, y_valid)],\n",
    "    early_stopping_rounds=100,\n",
    "    verbose=100,\n",
    "    callbacks=[neptune_callback],\n",
    ")"
   ]
  },
  {
   "cell_type": "code",
   "execution_count": null,
   "id": "275448f8",
   "metadata": {},
   "outputs": [],
   "source": []
  }
 ],
 "metadata": {
  "kernelspec": {
   "display_name": "Python 3",
   "language": "python",
   "name": "python3"
  },
  "language_info": {
   "codemirror_mode": {
    "name": "ipython",
    "version": 3
   },
   "file_extension": ".py",
   "mimetype": "text/x-python",
   "name": "python",
   "nbconvert_exporter": "python",
   "pygments_lexer": "ipython3",
   "version": "3.8.10"
  }
 },
 "nbformat": 4,
 "nbformat_minor": 5
}
