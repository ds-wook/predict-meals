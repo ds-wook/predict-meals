{
 "cells": [
  {
   "cell_type": "markdown",
   "metadata": {
    "id": "OgGn0-L6EGe7"
   },
   "source": [
    "## 파이썬 실습 환경 설정"
   ]
  },
  {
   "cell_type": "markdown",
   "metadata": {
    "id": "it_HSNu_ESYL"
   },
   "source": [
    "## 파이썬이란?"
   ]
  },
  {
   "cell_type": "markdown",
   "metadata": {
    "id": "1CKugWFIEUBs"
   },
   "source": [
    "## 파이썬의 특징"
   ]
  },
  {
   "cell_type": "markdown",
   "metadata": {
    "id": "zDHS7uhrEjjN"
   },
   "source": [
    "## 파이썬 둘러보기"
   ]
  },
  {
   "cell_type": "markdown",
   "metadata": {
    "id": "o8rdDYLFExtq"
   },
   "source": [
    "- 대화형 인터프리터\n",
    "\n",
    "인터프리터 : 사용자가 입력한 코드를 실행하는 환경\n",
    "\n",
    "\n",
    "대화형 : 입력에 따른 결과값이 바로 출력, 입력과 출력이 번갈아 이어지는게 마치 대화하는거 같아서 대화형 인터프리터라고 부름"
   ]
  },
  {
   "cell_type": "code",
   "execution_count": null,
   "metadata": {
    "colab": {
     "base_uri": "https://localhost:8080/"
    },
    "id": "2fg0meyUEm9N",
    "outputId": "69307400-96b3-44b0-a8b5-870d8695aac7"
   },
   "outputs": [
    {
     "data": {
      "text/plain": [
       "2"
      ]
     },
     "execution_count": 1,
     "metadata": {},
     "output_type": "execute_result"
    }
   ],
   "source": [
    "1 + 1"
   ]
  },
  {
   "cell_type": "markdown",
   "metadata": {
    "id": "smOhJlpFEshV"
   },
   "source": [
    "## 파이썬 기초 문법"
   ]
  },
  {
   "cell_type": "markdown",
   "metadata": {
    "id": "hMR0iVFdFHy1"
   },
   "source": [
    "- 사칙연산"
   ]
  },
  {
   "cell_type": "code",
   "execution_count": null,
   "metadata": {
    "colab": {
     "base_uri": "https://localhost:8080/"
    },
    "id": "rhdTrU7jFKF4",
    "outputId": "82b11233-eae9-4d68-a073-2350a793e342",
    "scrolled": true
   },
   "outputs": [
    {
     "data": {
      "text/plain": [
       "3"
      ]
     },
     "execution_count": 2,
     "metadata": {},
     "output_type": "execute_result"
    }
   ],
   "source": [
    "1 + 2"
   ]
  },
  {
   "cell_type": "code",
   "execution_count": null,
   "metadata": {
    "colab": {
     "base_uri": "https://localhost:8080/"
    },
    "id": "SBV66cOCFK5n",
    "outputId": "e9fc28db-152d-4ed5-8e02-cb5e400c7bee"
   },
   "outputs": [
    {
     "data": {
      "text/plain": [
       "8.0"
      ]
     },
     "execution_count": 3,
     "metadata": {},
     "output_type": "execute_result"
    }
   ],
   "source": [
    "24 / 3"
   ]
  },
  {
   "cell_type": "code",
   "execution_count": null,
   "metadata": {
    "colab": {
     "base_uri": "https://localhost:8080/"
    },
    "id": "kB5lVu_0FN7-",
    "outputId": "e55fb1ac-9734-4011-8ea3-841c8e76efb6"
   },
   "outputs": [
    {
     "data": {
      "text/plain": [
       "24"
      ]
     },
     "execution_count": 5,
     "metadata": {},
     "output_type": "execute_result"
    }
   ],
   "source": [
    "3 * 8"
   ]
  },
  {
   "cell_type": "markdown",
   "metadata": {
    "id": "z-8sItEsFQcG"
   },
   "source": [
    "## 변수 대입"
   ]
  },
  {
   "cell_type": "code",
   "execution_count": null,
   "metadata": {
    "colab": {
     "base_uri": "https://localhost:8080/"
    },
    "id": "-oqCO36BFWsG",
    "outputId": "6ab01278-f925-4e08-84f3-9f9558de9812"
   },
   "outputs": [
    {
     "data": {
      "text/plain": [
       "11"
      ]
     },
     "execution_count": 6,
     "metadata": {},
     "output_type": "execute_result"
    }
   ],
   "source": [
    "a = 3\n",
    "b = 8\n",
    "a + b"
   ]
  },
  {
   "cell_type": "code",
   "execution_count": null,
   "metadata": {
    "colab": {
     "base_uri": "https://localhost:8080/"
    },
    "id": "8VSjXbZIFZna",
    "outputId": "07532c35-8c7d-47e3-d520-34c783c9d66c"
   },
   "outputs": [
    {
     "data": {
      "text/plain": [
       "24"
      ]
     },
     "execution_count": 7,
     "metadata": {},
     "output_type": "execute_result"
    }
   ],
   "source": [
    "a * b"
   ]
  },
  {
   "cell_type": "code",
   "execution_count": null,
   "metadata": {
    "colab": {
     "base_uri": "https://localhost:8080/"
    },
    "id": "ncj9LqN7FatL",
    "outputId": "8590fc52-a9d8-4916-e3c6-60a9d7fa0ad0"
   },
   "outputs": [
    {
     "data": {
      "text/plain": [
       "2.6666666666666665"
      ]
     },
     "execution_count": 8,
     "metadata": {},
     "output_type": "execute_result"
    }
   ],
   "source": [
    "b / a"
   ]
  },
  {
   "cell_type": "markdown",
   "metadata": {
    "id": "2lS2IccuFcUq"
   },
   "source": [
    "- 변수에 문자 대입하고 출력"
   ]
  },
  {
   "cell_type": "code",
   "execution_count": null,
   "metadata": {
    "colab": {
     "base_uri": "https://localhost:8080/"
    },
    "id": "y4OS1s_xFijf",
    "outputId": "bfe144c3-b4e2-4742-de35-5ba4908f506c"
   },
   "outputs": [
    {
     "name": "stdout",
     "output_type": "stream",
     "text": [
      "python\n"
     ]
    }
   ],
   "source": [
    "a = \"python\"\n",
    "print(a)"
   ]
  },
  {
   "cell_type": "code",
   "execution_count": null,
   "metadata": {
    "colab": {
     "base_uri": "https://localhost:8080/",
     "height": 35
    },
    "id": "tDkZISlbFkd_",
    "outputId": "3e68828d-f824-4fb9-d630-de28a4dcde9d"
   },
   "outputs": [
    {
     "data": {
      "application/vnd.google.colaboratory.intrinsic+json": {
       "type": "string"
      },
      "text/plain": [
       "'python'"
      ]
     },
     "execution_count": 10,
     "metadata": {},
     "output_type": "execute_result"
    }
   ],
   "source": [
    "a"
   ]
  },
  {
   "cell_type": "markdown",
   "metadata": {
    "id": "5We4km6PFlfl"
   },
   "source": [
    "## 조건문 if"
   ]
  },
  {
   "cell_type": "code",
   "execution_count": null,
   "metadata": {
    "colab": {
     "base_uri": "https://localhost:8080/"
    },
    "id": "joWJ05zpFpQ_",
    "outputId": "5cf89a33-337c-44f1-996f-e9cacb13f0fc"
   },
   "outputs": [
    {
     "name": "stdout",
     "output_type": "stream",
     "text": [
      "a는 2보다 크다\n"
     ]
    }
   ],
   "source": [
    "a = 4\n",
    "if a > 2:\n",
    "    print(\"a는 2보다 크다\")\n",
    "else:\n",
    "    print(\"a는 2보다 작거나 같다\")"
   ]
  },
  {
   "cell_type": "markdown",
   "metadata": {
    "id": "m4m5nezWGEs7"
   },
   "source": [
    "## 반복문 for"
   ]
  },
  {
   "cell_type": "code",
   "execution_count": null,
   "metadata": {
    "colab": {
     "base_uri": "https://localhost:8080/"
    },
    "id": "CXswFYwNGGab",
    "outputId": "ff1633aa-99eb-4ba0-9fa1-ea688b430d85"
   },
   "outputs": [
    {
     "name": "stdout",
     "output_type": "stream",
     "text": [
      "1\n",
      "2\n",
      "3\n"
     ]
    }
   ],
   "source": [
    "for a in [1, 2, 3]:\n",
    "    print(a)"
   ]
  },
  {
   "cell_type": "markdown",
   "metadata": {
    "id": "HozcNpGRGVul"
   },
   "source": [
    "## 반복문 while"
   ]
  },
  {
   "cell_type": "code",
   "execution_count": null,
   "metadata": {
    "colab": {
     "base_uri": "https://localhost:8080/"
    },
    "id": "gArXJNbfGXSl",
    "outputId": "5d07b8db-88d8-4c2d-db40-5f8257277db6"
   },
   "outputs": [
    {
     "name": "stdout",
     "output_type": "stream",
     "text": [
      "1\n",
      "2\n",
      "3\n"
     ]
    }
   ],
   "source": [
    "i = 0\n",
    "while i < 3:\n",
    "    i = i + 1\n",
    "    print(i)"
   ]
  },
  {
   "cell_type": "markdown",
   "metadata": {
    "id": "kmA0iaFoGgg2"
   },
   "source": [
    "## 함수"
   ]
  },
  {
   "cell_type": "code",
   "execution_count": null,
   "metadata": {
    "colab": {
     "base_uri": "https://localhost:8080/"
    },
    "id": "-NxAVfwbGhVs",
    "outputId": "51cf91f7-a350-4710-edfa-633f7077eff9"
   },
   "outputs": [
    {
     "data": {
      "text/plain": [
       "7"
      ]
     },
     "execution_count": 17,
     "metadata": {},
     "output_type": "execute_result"
    }
   ],
   "source": [
    "def add(a, b):\n",
    "    return a + b\n",
    "\n",
    "\n",
    "add(3, 4)"
   ]
  }
 ],
 "metadata": {
  "colab": {
   "collapsed_sections": [],
   "name": "1주차_1_파이썬기초.ipynb",
   "provenance": []
  },
  "kernelspec": {
   "display_name": "Python 3",
   "language": "python",
   "name": "python3"
  },
  "language_info": {
   "codemirror_mode": {
    "name": "ipython",
    "version": 3
   },
   "file_extension": ".py",
   "mimetype": "text/x-python",
   "name": "python",
   "nbconvert_exporter": "python",
   "pygments_lexer": "ipython3",
   "version": "3.8.8"
  }
 },
 "nbformat": 4,
 "nbformat_minor": 1
}
