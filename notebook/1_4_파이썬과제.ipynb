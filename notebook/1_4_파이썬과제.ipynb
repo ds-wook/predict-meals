{
 "cells": [
  {
   "cell_type": "markdown",
   "metadata": {
    "id": "IOo8DgI7D44k"
   },
   "source": [
    "## 1번 문제\n",
    "\n",
    "- 홀짝\n",
    "\n",
    "  임의의 자연수 x가 주어질 때, x가 홀수인지 짝수인지 판별하는 함수를 작성하세요\n",
    "\n",
    "- 입출력 예\n",
    "\n",
    "|x|result|\n",
    "|-------|------|\n",
    "|10|'짝수'|\n",
    "|11|'홀수'|"
   ]
  },
  {
   "cell_type": "code",
   "execution_count": null,
   "metadata": {},
   "outputs": [],
   "source": [
    "# 일반적인 풀이\n",
    "def judge_odd_even(number: int) -> str:\n",
    "    if number % 2:\n",
    "        return \"홀수\"\n",
    "    return \"짝수\""
   ]
  },
  {
   "cell_type": "code",
   "execution_count": 4,
   "metadata": {},
   "outputs": [],
   "source": [
    "# Pythonic code\n",
    "def judge_odd_even(number: int) -> str:\n",
    "    return \"홀수\" if number % 2 else \"짝수\""
   ]
  },
  {
   "cell_type": "code",
   "execution_count": 5,
   "metadata": {},
   "outputs": [
    {
     "data": {
      "text/plain": [
       "'짝수'"
      ]
     },
     "execution_count": 5,
     "metadata": {},
     "output_type": "execute_result"
    }
   ],
   "source": [
    "judge_odd_even(10)"
   ]
  },
  {
   "cell_type": "code",
   "execution_count": 6,
   "metadata": {},
   "outputs": [
    {
     "data": {
      "text/plain": [
       "'홀수'"
      ]
     },
     "execution_count": 6,
     "metadata": {},
     "output_type": "execute_result"
    }
   ],
   "source": [
    "judge_odd_even(11)"
   ]
  },
  {
   "cell_type": "markdown",
   "metadata": {
    "id": "axULaMk5GriQ"
   },
   "source": [
    "## 2번 문제\n",
    "- 없는 숫자 더하기 (https://programmers.co.kr/learn/courses/30/lessons/86051?language=python3)\n",
    "\n",
    "  0부터 9까지의 숫자 중 일부가 들어있는 정수 배열 numbers가 매개변수로 주어집니다. <br>\n",
    "  numbers에서 찾을 수 없는 0부터 9까지의 숫자를 모두 찾아 더한 수를 return 하도록 func 함수를 완성해주세요.\n",
    "\n",
    "- 입출력 예\n",
    "\n",
    "|numbers|result|\n",
    "|-------|------|\n",
    "|[1,2,3,4,6,7,8,0]|14|\n",
    "|[5,8,4,0,6,7,9]|6|\n"
   ]
  },
  {
   "cell_type": "code",
   "execution_count": 1,
   "metadata": {},
   "outputs": [],
   "source": [
    "# set을 이용한 풀이\n",
    "def add_missing_number(numbers: list) -> float:\n",
    "    return sum(set(range(10)) - set(numbers))"
   ]
  },
  {
   "cell_type": "code",
   "execution_count": null,
   "metadata": {},
   "outputs": [],
   "source": [
    "# 가우스 합을 이용한 풀이\n",
    "def add_missing_number(numbers: list) -> float:\n",
    "    return 45 - sum(numbers)"
   ]
  },
  {
   "cell_type": "code",
   "execution_count": 2,
   "metadata": {},
   "outputs": [
    {
     "data": {
      "text/plain": [
       "14"
      ]
     },
     "execution_count": 2,
     "metadata": {},
     "output_type": "execute_result"
    }
   ],
   "source": [
    "add_missing_number([1, 2, 3, 4, 6, 7, 8, 0])"
   ]
  },
  {
   "cell_type": "code",
   "execution_count": 3,
   "metadata": {},
   "outputs": [
    {
     "data": {
      "text/plain": [
       "6"
      ]
     },
     "execution_count": 3,
     "metadata": {},
     "output_type": "execute_result"
    }
   ],
   "source": [
    "add_missing_number([5, 8, 4, 0, 6, 7, 9])"
   ]
  },
  {
   "cell_type": "markdown",
   "metadata": {
    "id": "g0zh9aeqGyjf"
   },
   "source": [
    "## 3번 문제\n",
    "- 콜라츠 추측 ([https://programmers.co.kr/learn/courses/30/lessons/12943](https://programmers.co.kr/learn/courses/30/lessons/12943))\n",
    "\n",
    "- \n",
    "\n",
    "  1-1). 입력된 수가 짝수라면 2로 나눕니다. \n",
    "\n",
    "  1-2). 입력된 수가 홀수라면 3을 곱하고 1을 더합니다. \n",
    "\n",
    "  2). 결과로 나온 수에 같은 작업을 1이 될 때까지 반복합니다. \n",
    "\n",
    "- 단, 주어진 수가 1인 경우에는 0을, 작업을 500번 반복할 때까지 1이 되지 않는다면 –1을 반환해 주세요.\n",
    "\n",
    "- 입출력 예\n",
    "\n",
    "|numbers|result|\n",
    "|-------|------|\n",
    "|6|8|\n",
    "|16|4|\n",
    "|626331|-1|"
   ]
  },
  {
   "cell_type": "code",
   "execution_count": 28,
   "metadata": {},
   "outputs": [],
   "source": [
    "def guess_collatz(num: int) -> int:\n",
    "    count = 0\n",
    "    while num > 1 and count < 500:\n",
    "        num = num * 3 + 1 if num % 2 else num / 2\n",
    "        count += 1\n",
    "    return count if count < 500 else -1"
   ]
  },
  {
   "cell_type": "code",
   "execution_count": 29,
   "metadata": {},
   "outputs": [
    {
     "data": {
      "text/plain": [
       "8"
      ]
     },
     "execution_count": 29,
     "metadata": {},
     "output_type": "execute_result"
    }
   ],
   "source": [
    "guess_collatz(6)"
   ]
  },
  {
   "cell_type": "code",
   "execution_count": 30,
   "metadata": {},
   "outputs": [
    {
     "data": {
      "text/plain": [
       "4"
      ]
     },
     "execution_count": 30,
     "metadata": {},
     "output_type": "execute_result"
    }
   ],
   "source": [
    "guess_collatz(16)"
   ]
  },
  {
   "cell_type": "code",
   "execution_count": 31,
   "metadata": {},
   "outputs": [
    {
     "data": {
      "text/plain": [
       "-1"
      ]
     },
     "execution_count": 31,
     "metadata": {},
     "output_type": "execute_result"
    }
   ],
   "source": [
    "guess_collatz(626331)"
   ]
  },
  {
   "cell_type": "code",
   "execution_count": 32,
   "metadata": {},
   "outputs": [
    {
     "data": {
      "text/plain": [
       "0"
      ]
     },
     "execution_count": 32,
     "metadata": {},
     "output_type": "execute_result"
    }
   ],
   "source": [
    "guess_collatz(1)"
   ]
  },
  {
   "cell_type": "markdown",
   "metadata": {
    "id": "AtoigO13G3s2"
   },
   "source": [
    "## 4번 문제\n",
    "- 하샤드 수([https://programmers.co.kr/learn/courses/30/lessons/12947](https://programmers.co.kr/learn/courses/30/lessons/12947))\n",
    "\n",
    "- 양의 정수 x가 하샤드 수이려면 x의 자릿수의 합으로 x가 나누어져야 합니다. 예를 들어 18의 자릿수 합은 1+8=9이고, 18은 9로 나누어 떨어지므로 18은 하샤드 수입니다. 자연수 x를 입력받아 x가 하샤드 수인지 아닌지 검사하는 함수, solution을 완성해주세요.\n",
    "\n",
    "- 입출력 예\n",
    "\n",
    "|numbers|result|\n",
    "|-------|------|\n",
    "|10|True|\n",
    "|12|True|\n",
    "|11|False|\n",
    "|13|False|"
   ]
  },
  {
   "cell_type": "code",
   "execution_count": 55,
   "metadata": {},
   "outputs": [],
   "source": [
    "# 일반적인 풀이\n",
    "def judge_harshad(numbers: int) -> bool:\n",
    "    string_numbers = str(numbers)\n",
    "    answer = 0\n",
    "    for number in string_numbers:\n",
    "        answer += int(number)\n",
    "\n",
    "    return True if numbers % answer == 0 else False"
   ]
  },
  {
   "cell_type": "code",
   "execution_count": 58,
   "metadata": {},
   "outputs": [],
   "source": [
    "# Pythonic code\n",
    "def judge_harshad(numbers: int) -> bool:\n",
    "    return numbers % sum([int(number) for number in str(numbers)]) == 0"
   ]
  },
  {
   "cell_type": "code",
   "execution_count": 59,
   "metadata": {},
   "outputs": [
    {
     "data": {
      "text/plain": [
       "True"
      ]
     },
     "execution_count": 59,
     "metadata": {},
     "output_type": "execute_result"
    }
   ],
   "source": [
    "judge_harshad(10)"
   ]
  },
  {
   "cell_type": "code",
   "execution_count": 47,
   "metadata": {},
   "outputs": [
    {
     "data": {
      "text/plain": [
       "True"
      ]
     },
     "execution_count": 47,
     "metadata": {},
     "output_type": "execute_result"
    }
   ],
   "source": [
    "judge_harshad(12)"
   ]
  },
  {
   "cell_type": "code",
   "execution_count": 48,
   "metadata": {},
   "outputs": [
    {
     "data": {
      "text/plain": [
       "False"
      ]
     },
     "execution_count": 48,
     "metadata": {},
     "output_type": "execute_result"
    }
   ],
   "source": [
    "judge_harshad(11)"
   ]
  },
  {
   "cell_type": "code",
   "execution_count": 49,
   "metadata": {},
   "outputs": [
    {
     "data": {
      "text/plain": [
       "False"
      ]
     },
     "execution_count": 49,
     "metadata": {},
     "output_type": "execute_result"
    }
   ],
   "source": [
    "judge_harshad(13)"
   ]
  },
  {
   "cell_type": "markdown",
   "metadata": {
    "id": "-Xe9NOsqEXTi"
   },
   "source": [
    "## 5번 문제\n",
    "\n",
    "- 거스름돈\n",
    "\n",
    "  물건의 가격 price, 지불한 돈 money를 인자로 받아 어떤 지폐를 몇장 거슬러 줘야 할 지 알려주는 함수를 작성하세요.\n",
    "\n",
    "  이때, 가능하면 큰 단위의 지폐를 우선적으로 거슬러줍니다.\n",
    "\n",
    "  예를들어, price:137000원, money:200000원이면\n",
    "\n",
    "  거스름돈은 63000원이고 5만원권 1장, 만원권 1장, 천원권 3장을 거슬러 줍니다."
   ]
  },
  {
   "cell_type": "code",
   "execution_count": 52,
   "metadata": {},
   "outputs": [
    {
     "name": "stdout",
     "output_type": "stream",
     "text": [
      "5만원권 : 1\n",
      "1만원권 : 1\n",
      "1천원권 : 3\n"
     ]
    }
   ],
   "source": [
    "def back_change(price: int, money: int):\n",
    "    change = money - price\n",
    "    change_50000 = change // 50000\n",
    "    change = change % 50000\n",
    "    change_10000 = change // 10000\n",
    "    change = change % 10000\n",
    "    change_1000 = change // 1000\n",
    "    print(\"5만원권 : \" + str(change_50000))\n",
    "    print(\"1만원권 : \" + str(change_10000))\n",
    "    print(\"1천원권 : \" + str(change_1000))\n",
    "\n",
    "    \n",
    "back_change(137000, 200000)"
   ]
  }
 ],
 "metadata": {
  "colab": {
   "collapsed_sections": [],
   "provenance": []
  },
  "kernelspec": {
   "display_name": "Python 3 (ipykernel)",
   "language": "python",
   "name": "python3"
  },
  "language_info": {
   "codemirror_mode": {
    "name": "ipython",
    "version": 3
   },
   "file_extension": ".py",
   "mimetype": "text/x-python",
   "name": "python",
   "nbconvert_exporter": "python",
   "pygments_lexer": "ipython3",
   "version": "3.10.4"
  }
 },
 "nbformat": 4,
 "nbformat_minor": 1
}
