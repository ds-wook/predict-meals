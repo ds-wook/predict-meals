{
 "cells": [
  {
   "cell_type": "code",
   "execution_count": 1,
   "id": "f334015f",
   "metadata": {},
   "outputs": [
    {
     "name": "stderr",
     "output_type": "stream",
     "text": [
      "/home/leewook/anaconda3/envs/meals/lib/python3.8/site-packages/gensim/similarities/__init__.py:15: UserWarning: The gensim.similarities.levenshtein submodule is disabled, because the optional Levenshtein package <https://pypi.org/project/python-Levenshtein/> is unavailable. Install Levenhstein (e.g. `pip install python-Levenshtein`) to suppress this warning.\n",
      "  warnings.warn(msg)\n"
     ]
    }
   ],
   "source": [
    "import pandas as pd\n",
    "import numpy as np\n",
    "import matplotlib.pyplot as plt\n",
    "from tqdm import tqdm\n",
    "from sklearn.preprocessing import LabelEncoder\n",
    "from sklearn.model_selection import train_test_split\n",
    "from sklearn.metrics import mean_absolute_error\n",
    "from lightgbm import LGBMRegressor\n",
    "\n",
    "from gensim.models import Word2Vec\n",
    "from gensim.models import KeyedVectors\n",
    "from sklearn.manifold import TSNE\n",
    "from sklearn.decomposition import PCA"
   ]
  },
  {
   "cell_type": "code",
   "execution_count": 2,
   "id": "a1943447",
   "metadata": {},
   "outputs": [],
   "source": [
    "# HYPER PARAMETERS\n",
    "\n",
    "\n",
    "class CFG:\n",
    "    emb_dim = 200\n",
    "\n",
    "\n",
    "args = CFG"
   ]
  },
  {
   "cell_type": "code",
   "execution_count": 3,
   "id": "99de6498",
   "metadata": {},
   "outputs": [
    {
     "data": {
      "text/html": [
       "<div>\n",
       "<style scoped>\n",
       "    .dataframe tbody tr th:only-of-type {\n",
       "        vertical-align: middle;\n",
       "    }\n",
       "\n",
       "    .dataframe tbody tr th {\n",
       "        vertical-align: top;\n",
       "    }\n",
       "\n",
       "    .dataframe thead th {\n",
       "        text-align: right;\n",
       "    }\n",
       "</style>\n",
       "<table border=\"1\" class=\"dataframe\">\n",
       "  <thead>\n",
       "    <tr style=\"text-align: right;\">\n",
       "      <th></th>\n",
       "      <th>일자</th>\n",
       "      <th>요일</th>\n",
       "      <th>본사정원수</th>\n",
       "      <th>본사휴가자수</th>\n",
       "      <th>본사출장자수</th>\n",
       "      <th>본사시간외근무명령서승인건수</th>\n",
       "      <th>현본사소속재택근무자수</th>\n",
       "      <th>조식메뉴</th>\n",
       "      <th>중식메뉴</th>\n",
       "      <th>석식메뉴</th>\n",
       "      <th>중식계</th>\n",
       "      <th>석식계</th>\n",
       "    </tr>\n",
       "  </thead>\n",
       "  <tbody>\n",
       "    <tr>\n",
       "      <th>0</th>\n",
       "      <td>2016-02-01</td>\n",
       "      <td>월</td>\n",
       "      <td>2601</td>\n",
       "      <td>50</td>\n",
       "      <td>150</td>\n",
       "      <td>238</td>\n",
       "      <td>0.0</td>\n",
       "      <td>모닝롤/찐빵  우유/두유/주스 계란후라이  호두죽/쌀밥 (쌀:국내산) 된장찌개  쥐...</td>\n",
       "      <td>쌀밥/잡곡밥 (쌀,현미흑미:국내산) 오징어찌개  쇠불고기 (쇠고기:호주산) 계란찜 ...</td>\n",
       "      <td>쌀밥/잡곡밥 (쌀,현미흑미:국내산) 육개장  자반고등어구이  두부조림  건파래무침 ...</td>\n",
       "      <td>1039.0</td>\n",
       "      <td>331.0</td>\n",
       "    </tr>\n",
       "    <tr>\n",
       "      <th>1</th>\n",
       "      <td>2016-02-02</td>\n",
       "      <td>화</td>\n",
       "      <td>2601</td>\n",
       "      <td>50</td>\n",
       "      <td>173</td>\n",
       "      <td>319</td>\n",
       "      <td>0.0</td>\n",
       "      <td>모닝롤/단호박샌드  우유/두유/주스 계란후라이  팥죽/쌀밥 (쌀:국내산) 호박젓국찌...</td>\n",
       "      <td>쌀밥/잡곡밥 (쌀,현미흑미:국내산) 김치찌개  가자미튀김  모둠소세지구이  마늘쫑무...</td>\n",
       "      <td>콩나물밥*양념장 (쌀,현미흑미:국내산) 어묵국  유산슬 (쇠고기:호주산) 아삭고추무...</td>\n",
       "      <td>867.0</td>\n",
       "      <td>560.0</td>\n",
       "    </tr>\n",
       "    <tr>\n",
       "      <th>2</th>\n",
       "      <td>2016-02-03</td>\n",
       "      <td>수</td>\n",
       "      <td>2601</td>\n",
       "      <td>56</td>\n",
       "      <td>180</td>\n",
       "      <td>111</td>\n",
       "      <td>0.0</td>\n",
       "      <td>모닝롤/베이글  우유/두유/주스 계란후라이  표고버섯죽/쌀밥 (쌀:국내산) 콩나물국...</td>\n",
       "      <td>카레덮밥 (쌀,현미흑미:국내산) 팽이장국  치킨핑거 (닭고기:국내산) 쫄면야채무침 ...</td>\n",
       "      <td>쌀밥/잡곡밥 (쌀,현미흑미:국내산) 청국장찌개  황태양념구이 (황태:러시아산) 고기...</td>\n",
       "      <td>1017.0</td>\n",
       "      <td>573.0</td>\n",
       "    </tr>\n",
       "    <tr>\n",
       "      <th>3</th>\n",
       "      <td>2016-02-04</td>\n",
       "      <td>목</td>\n",
       "      <td>2601</td>\n",
       "      <td>104</td>\n",
       "      <td>220</td>\n",
       "      <td>355</td>\n",
       "      <td>0.0</td>\n",
       "      <td>모닝롤/토마토샌드  우유/두유/주스 계란후라이  닭죽/쌀밥 (쌀,닭:국내산) 근대국...</td>\n",
       "      <td>쌀밥/잡곡밥 (쌀,현미흑미:국내산) 쇠고기무국  주꾸미볶음  부추전  시금치나물  ...</td>\n",
       "      <td>미니김밥*겨자장 (쌀,현미흑미:국내산) 우동  멕시칸샐러드  군고구마  무피클  포...</td>\n",
       "      <td>978.0</td>\n",
       "      <td>525.0</td>\n",
       "    </tr>\n",
       "    <tr>\n",
       "      <th>4</th>\n",
       "      <td>2016-02-05</td>\n",
       "      <td>금</td>\n",
       "      <td>2601</td>\n",
       "      <td>278</td>\n",
       "      <td>181</td>\n",
       "      <td>34</td>\n",
       "      <td>0.0</td>\n",
       "      <td>모닝롤/와플  우유/두유/주스 계란후라이  쇠고기죽/쌀밥 (쌀:국내산) 재첩국  방...</td>\n",
       "      <td>쌀밥/잡곡밥 (쌀,현미흑미:국내산) 떡국  돈육씨앗강정 (돼지고기:국내산) 우엉잡채...</td>\n",
       "      <td>쌀밥/잡곡밥 (쌀,현미흑미:국내산) 차돌박이찌개 (쇠고기:호주산) 닭갈비 (닭고기:...</td>\n",
       "      <td>925.0</td>\n",
       "      <td>330.0</td>\n",
       "    </tr>\n",
       "  </tbody>\n",
       "</table>\n",
       "</div>"
      ],
      "text/plain": [
       "           일자 요일  본사정원수  본사휴가자수  본사출장자수  본사시간외근무명령서승인건수  현본사소속재택근무자수  \\\n",
       "0  2016-02-01  월   2601      50     150             238          0.0   \n",
       "1  2016-02-02  화   2601      50     173             319          0.0   \n",
       "2  2016-02-03  수   2601      56     180             111          0.0   \n",
       "3  2016-02-04  목   2601     104     220             355          0.0   \n",
       "4  2016-02-05  금   2601     278     181              34          0.0   \n",
       "\n",
       "                                                조식메뉴  \\\n",
       "0  모닝롤/찐빵  우유/두유/주스 계란후라이  호두죽/쌀밥 (쌀:국내산) 된장찌개  쥐...   \n",
       "1  모닝롤/단호박샌드  우유/두유/주스 계란후라이  팥죽/쌀밥 (쌀:국내산) 호박젓국찌...   \n",
       "2  모닝롤/베이글  우유/두유/주스 계란후라이  표고버섯죽/쌀밥 (쌀:국내산) 콩나물국...   \n",
       "3  모닝롤/토마토샌드  우유/두유/주스 계란후라이  닭죽/쌀밥 (쌀,닭:국내산) 근대국...   \n",
       "4  모닝롤/와플  우유/두유/주스 계란후라이  쇠고기죽/쌀밥 (쌀:국내산) 재첩국  방...   \n",
       "\n",
       "                                                중식메뉴  \\\n",
       "0  쌀밥/잡곡밥 (쌀,현미흑미:국내산) 오징어찌개  쇠불고기 (쇠고기:호주산) 계란찜 ...   \n",
       "1  쌀밥/잡곡밥 (쌀,현미흑미:국내산) 김치찌개  가자미튀김  모둠소세지구이  마늘쫑무...   \n",
       "2  카레덮밥 (쌀,현미흑미:국내산) 팽이장국  치킨핑거 (닭고기:국내산) 쫄면야채무침 ...   \n",
       "3  쌀밥/잡곡밥 (쌀,현미흑미:국내산) 쇠고기무국  주꾸미볶음  부추전  시금치나물  ...   \n",
       "4  쌀밥/잡곡밥 (쌀,현미흑미:국내산) 떡국  돈육씨앗강정 (돼지고기:국내산) 우엉잡채...   \n",
       "\n",
       "                                                석식메뉴     중식계    석식계  \n",
       "0  쌀밥/잡곡밥 (쌀,현미흑미:국내산) 육개장  자반고등어구이  두부조림  건파래무침 ...  1039.0  331.0  \n",
       "1  콩나물밥*양념장 (쌀,현미흑미:국내산) 어묵국  유산슬 (쇠고기:호주산) 아삭고추무...   867.0  560.0  \n",
       "2  쌀밥/잡곡밥 (쌀,현미흑미:국내산) 청국장찌개  황태양념구이 (황태:러시아산) 고기...  1017.0  573.0  \n",
       "3  미니김밥*겨자장 (쌀,현미흑미:국내산) 우동  멕시칸샐러드  군고구마  무피클  포...   978.0  525.0  \n",
       "4  쌀밥/잡곡밥 (쌀,현미흑미:국내산) 차돌박이찌개 (쇠고기:호주산) 닭갈비 (닭고기:...   925.0  330.0  "
      ]
     },
     "execution_count": 3,
     "metadata": {},
     "output_type": "execute_result"
    }
   ],
   "source": [
    "path = \"../input/predict-meals/\"\n",
    "train = pd.read_csv(path + \"train.csv\")\n",
    "test = pd.read_csv(path + \"test.csv\")\n",
    "submit = pd.read_csv(path + \"sample_submission.csv\")\n",
    "train.head()"
   ]
  },
  {
   "cell_type": "code",
   "execution_count": 4,
   "id": "5d3fb516",
   "metadata": {},
   "outputs": [],
   "source": [
    "df_all = pd.concat([train, test])"
   ]
  },
  {
   "cell_type": "code",
   "execution_count": 5,
   "id": "f059821e",
   "metadata": {},
   "outputs": [],
   "source": [
    "# Basic text preprocessing\n",
    "\n",
    "\n",
    "def split_process(x, q):\n",
    "    x_ = []\n",
    "    x = x.split(\" \")\n",
    "    for i in x:\n",
    "        if \"(\" in i and \":\" in i and \")\" in i:\n",
    "            continue\n",
    "        if \"/\" in i:\n",
    "            x_.extend(i.split(\"/\"))\n",
    "        else:\n",
    "            x_.append(i)\n",
    "    x_ = list(set(x_))\n",
    "    x_.remove(\"\")\n",
    "    return x_"
   ]
  },
  {
   "cell_type": "code",
   "execution_count": 6,
   "id": "32d3094b",
   "metadata": {},
   "outputs": [],
   "source": [
    "# Get all combinations for training w2v (train + test)\n",
    "\n",
    "food_combinations = []\n",
    "for i in [\"조식메뉴\", \"중식메뉴\", \"석식메뉴\"]:\n",
    "    food_combinations += df_all[i].apply(lambda x: split_process(x, i)).to_list()"
   ]
  },
  {
   "cell_type": "code",
   "execution_count": 7,
   "id": "23d3aeb1",
   "metadata": {},
   "outputs": [
    {
     "name": "stdout",
     "output_type": "stream",
     "text": [
      "Model loaded\n"
     ]
    }
   ],
   "source": [
    "# Train or load w2v model\n",
    "\n",
    "TRAIN_W2V = True\n",
    "try:\n",
    "    model = Word2Vec.load(\"food_embedding.model\")\n",
    "    print(\"Model loaded\")\n",
    "except:\n",
    "    if TRAIN_W2V:\n",
    "        print(\"Training w2v\")\n",
    "        model = Word2Vec(\n",
    "            sentences=food_combinations,\n",
    "            vector_size=args.emb_dim,\n",
    "            window=7,\n",
    "            min_count=0,\n",
    "            workers=4,\n",
    "            sg=0,\n",
    "            epochs=5000,\n",
    "        )\n",
    "        model.save(\"food_embedding.model\")\n",
    "    else:\n",
    "        print(\"Model loading failed. Do not train.\")"
   ]
  },
  {
   "cell_type": "code",
   "execution_count": 8,
   "id": "ec53fd26",
   "metadata": {},
   "outputs": [],
   "source": [
    "def process_date(df):\n",
    "    df[\"일자\"] = pd.to_datetime(df[\"일자\"], format=\"%Y-%m-%d\")\n",
    "    df[\"년\"] = df[\"일자\"].dt.year\n",
    "    df[\"월\"] = df[\"일자\"].dt.month\n",
    "    df[\"일\"] = df[\"일자\"].dt.day\n",
    "    df[\"주\"] = df[\"일자\"].dt.week\n",
    "    df[\"요일\"] = df[\"일자\"].dt.weekday\n",
    "    df = df.drop(\"일자\", axis=1)\n",
    "    return df\n",
    "\n",
    "\n",
    "def get_food_embedding(x):\n",
    "    x_ = []\n",
    "    x = x.split(\" \")\n",
    "    for i in x:\n",
    "        if \"(\" in i and \":\" in i and \")\" in i:\n",
    "            continue\n",
    "        if \"/\" in i:\n",
    "            x_.extend(i.split(\"/\"))\n",
    "        else:\n",
    "            x_.append(i)\n",
    "    x_ = list(set(x_))\n",
    "    x_.remove(\"\")\n",
    "    vec_ = np.zeros(args.emb_dim)\n",
    "    for i in x_:\n",
    "        vec = model.wv.get_vector(i)\n",
    "        vec_ += vec\n",
    "    vec_ /= len(x_)\n",
    "    return vec_"
   ]
  },
  {
   "cell_type": "code",
   "execution_count": 9,
   "id": "c5385fd4",
   "metadata": {},
   "outputs": [
    {
     "name": "stderr",
     "output_type": "stream",
     "text": [
      "<ipython-input-8-401e2f3435e2>:6: FutureWarning: Series.dt.weekofyear and Series.dt.week have been deprecated.  Please use Series.dt.isocalendar().week instead.\n",
      "  df[\"주\"] = df[\"일자\"].dt.week\n"
     ]
    }
   ],
   "source": [
    "# General preprocessing\n",
    "train = process_date(train)\n",
    "day_encoder = LabelEncoder()\n",
    "train[\"요일\"] = day_encoder.fit_transform(train[\"요일\"])"
   ]
  },
  {
   "cell_type": "code",
   "execution_count": 10,
   "id": "8ea35bf5",
   "metadata": {},
   "outputs": [],
   "source": [
    "# Get embedding\n",
    "train['조식메뉴_embedding'] = train['조식메뉴'].apply(lambda x: get_food_embedding(x))\n",
    "train['중식메뉴_embedding'] = train['중식메뉴'].apply(lambda x: get_food_embedding(x))\n",
    "train['석식메뉴_embedding'] = train['석식메뉴'].apply(lambda x: get_food_embedding(x))"
   ]
  },
  {
   "cell_type": "code",
   "execution_count": 11,
   "id": "e867f114",
   "metadata": {},
   "outputs": [],
   "source": [
    "train[[\"현본사소속재택근무자수\", \"중식계\", \"석식계\"]] = train[[\"현본사소속재택근무자수\", \"중식계\", \"석식계\"]].astype(\n",
    "    \"int\"\n",
    ")\n",
    "train[\"출근\"] = train[\"본사정원수\"] - (\n",
    "    train[\"본사휴가자수\"] + train[\"본사출장자수\"] + train[\"현본사소속재택근무자수\"]\n",
    ")\n",
    "train[\"휴가비율\"] = train[\"본사휴가자수\"] / train[\"본사정원수\"]\n",
    "train[\"출장비율\"] = train[\"본사출장자수\"] / train[\"본사정원수\"]\n",
    "train[\"야근비율\"] = train[\"본사시간외근무명령서승인건수\"] / train[\"출근\"]\n",
    "train[\"재택비율\"] = train[\"현본사소속재택근무자수\"] / train[\"본사정원수\"]\n",
    "train[\"식사가능자수\"] = train[\"본사정원수\"] - train[\"본사휴가자수\"] - train[\"현본사소속재택근무자수\"]"
   ]
  },
  {
   "cell_type": "code",
   "execution_count": 12,
   "id": "e021c7a9",
   "metadata": {},
   "outputs": [
    {
     "name": "stdout",
     "output_type": "stream",
     "text": [
      "<class 'pandas.core.frame.DataFrame'>\n",
      "RangeIndex: 1205 entries, 0 to 1204\n",
      "Data columns (total 24 columns):\n",
      " #   Column          Non-Null Count  Dtype  \n",
      "---  ------          --------------  -----  \n",
      " 0   요일              1205 non-null   int64  \n",
      " 1   본사정원수           1205 non-null   int64  \n",
      " 2   본사휴가자수          1205 non-null   int64  \n",
      " 3   본사출장자수          1205 non-null   int64  \n",
      " 4   본사시간외근무명령서승인건수  1205 non-null   int64  \n",
      " 5   현본사소속재택근무자수     1205 non-null   int64  \n",
      " 6   조식메뉴            1205 non-null   object \n",
      " 7   중식메뉴            1205 non-null   object \n",
      " 8   석식메뉴            1205 non-null   object \n",
      " 9   중식계             1205 non-null   int64  \n",
      " 10  석식계             1205 non-null   int64  \n",
      " 11  년               1205 non-null   int64  \n",
      " 12  월               1205 non-null   int64  \n",
      " 13  일               1205 non-null   int64  \n",
      " 14  주               1205 non-null   int64  \n",
      " 15  조식메뉴_embedding  1205 non-null   object \n",
      " 16  중식메뉴_embedding  1205 non-null   object \n",
      " 17  석식메뉴_embedding  1205 non-null   object \n",
      " 18  출근              1205 non-null   int64  \n",
      " 19  휴가비율            1205 non-null   float64\n",
      " 20  출장비율            1205 non-null   float64\n",
      " 21  야근비율            1205 non-null   float64\n",
      " 22  재택비율            1205 non-null   float64\n",
      " 23  식사가능자수          1205 non-null   int64  \n",
      "dtypes: float64(4), int64(14), object(6)\n",
      "memory usage: 226.1+ KB\n"
     ]
    }
   ],
   "source": [
    "train.info()"
   ]
  },
  {
   "cell_type": "code",
   "execution_count": 13,
   "id": "6fe0989d",
   "metadata": {},
   "outputs": [],
   "source": [
    "y_lunch = train[\"중식계\"]\n",
    "y_dinner = train[\"석식계\"]\n",
    "train.drop([\"조식메뉴\", \"중식메뉴\", \"석식메뉴\", \"중식계\", \"석식계\"], axis=1, inplace=True)"
   ]
  },
  {
   "cell_type": "code",
   "execution_count": 14,
   "id": "821eb78a",
   "metadata": {},
   "outputs": [],
   "source": [
    "X_common = train[\n",
    "    [\n",
    "        \"년\",\n",
    "        \"월\",\n",
    "        \"일\",\n",
    "        \"식사가능자수\",\n",
    "        \"주\",\n",
    "        \"요일\",\n",
    "        \"출근\",\n",
    "        \"휴가비율\",\n",
    "        \"출장비율\",\n",
    "        \"야근비율\",\n",
    "        \"재택비율\",\n",
    "    ]\n",
    "]"
   ]
  },
  {
   "cell_type": "code",
   "execution_count": 28,
   "id": "1b501849",
   "metadata": {},
   "outputs": [
    {
     "data": {
      "text/plain": [
       "0       [-0.27641419001988005, 0.49010108198438374, 0....\n",
       "1       [0.3575967748959859, -0.4345718224843343, 0.37...\n",
       "2       [-0.40610839639391216, 0.1882472378867013, 1.0...\n",
       "3       [0.5150311092535654, 1.2116996347904205, -0.00...\n",
       "4       [0.18974069612366812, 0.6862473083393914, 0.97...\n",
       "                              ...                        \n",
       "1200    [0.27814774711926776, -0.26777855679392815, -0...\n",
       "1201    [-0.16018237421909967, -0.028216694792111714, ...\n",
       "1202    [0.532713749579021, -0.7373491334063667, 0.063...\n",
       "1203    [-0.8323680758476257, 0.07871099561452866, -0....\n",
       "1204    [-0.9803705215454102, -0.31528616944948834, -0...\n",
       "Name: 석식메뉴_embedding, Length: 1205, dtype: object"
      ]
     },
     "execution_count": 28,
     "metadata": {},
     "output_type": "execute_result"
    }
   ],
   "source": [
    "train.loc[:, '석식메뉴_embedding']"
   ]
  },
  {
   "cell_type": "code",
   "execution_count": 35,
   "id": "7f36c516",
   "metadata": {
    "scrolled": false
   },
   "outputs": [
    {
     "data": {
      "text/plain": [
       "1205"
      ]
     },
     "execution_count": 35,
     "metadata": {},
     "output_type": "execute_result"
    }
   ],
   "source": [
    "len(train.iloc[:, 12].to_numpy().tolist())"
   ]
  },
  {
   "cell_type": "code",
   "execution_count": 38,
   "id": "c15db482",
   "metadata": {},
   "outputs": [
    {
     "data": {
      "text/html": [
       "<div>\n",
       "<style scoped>\n",
       "    .dataframe tbody tr th:only-of-type {\n",
       "        vertical-align: middle;\n",
       "    }\n",
       "\n",
       "    .dataframe tbody tr th {\n",
       "        vertical-align: top;\n",
       "    }\n",
       "\n",
       "    .dataframe thead th {\n",
       "        text-align: right;\n",
       "    }\n",
       "</style>\n",
       "<table border=\"1\" class=\"dataframe\">\n",
       "  <thead>\n",
       "    <tr style=\"text-align: right;\">\n",
       "      <th></th>\n",
       "      <th>년</th>\n",
       "      <th>월</th>\n",
       "      <th>일</th>\n",
       "      <th>식사가능자수</th>\n",
       "      <th>주</th>\n",
       "      <th>요일</th>\n",
       "      <th>출근</th>\n",
       "      <th>휴가비율</th>\n",
       "      <th>출장비율</th>\n",
       "      <th>야근비율</th>\n",
       "      <th>재택비율</th>\n",
       "    </tr>\n",
       "  </thead>\n",
       "  <tbody>\n",
       "    <tr>\n",
       "      <th>0</th>\n",
       "      <td>2016</td>\n",
       "      <td>2</td>\n",
       "      <td>1</td>\n",
       "      <td>2551</td>\n",
       "      <td>5</td>\n",
       "      <td>0</td>\n",
       "      <td>2401</td>\n",
       "      <td>0.019223</td>\n",
       "      <td>0.057670</td>\n",
       "      <td>0.099125</td>\n",
       "      <td>0.000000</td>\n",
       "    </tr>\n",
       "    <tr>\n",
       "      <th>1</th>\n",
       "      <td>2016</td>\n",
       "      <td>2</td>\n",
       "      <td>2</td>\n",
       "      <td>2551</td>\n",
       "      <td>5</td>\n",
       "      <td>1</td>\n",
       "      <td>2378</td>\n",
       "      <td>0.019223</td>\n",
       "      <td>0.066513</td>\n",
       "      <td>0.134146</td>\n",
       "      <td>0.000000</td>\n",
       "    </tr>\n",
       "    <tr>\n",
       "      <th>2</th>\n",
       "      <td>2016</td>\n",
       "      <td>2</td>\n",
       "      <td>3</td>\n",
       "      <td>2545</td>\n",
       "      <td>5</td>\n",
       "      <td>2</td>\n",
       "      <td>2365</td>\n",
       "      <td>0.021530</td>\n",
       "      <td>0.069204</td>\n",
       "      <td>0.046934</td>\n",
       "      <td>0.000000</td>\n",
       "    </tr>\n",
       "    <tr>\n",
       "      <th>3</th>\n",
       "      <td>2016</td>\n",
       "      <td>2</td>\n",
       "      <td>4</td>\n",
       "      <td>2497</td>\n",
       "      <td>5</td>\n",
       "      <td>3</td>\n",
       "      <td>2277</td>\n",
       "      <td>0.039985</td>\n",
       "      <td>0.084583</td>\n",
       "      <td>0.155907</td>\n",
       "      <td>0.000000</td>\n",
       "    </tr>\n",
       "    <tr>\n",
       "      <th>4</th>\n",
       "      <td>2016</td>\n",
       "      <td>2</td>\n",
       "      <td>5</td>\n",
       "      <td>2323</td>\n",
       "      <td>5</td>\n",
       "      <td>4</td>\n",
       "      <td>2142</td>\n",
       "      <td>0.106882</td>\n",
       "      <td>0.069589</td>\n",
       "      <td>0.015873</td>\n",
       "      <td>0.000000</td>\n",
       "    </tr>\n",
       "    <tr>\n",
       "      <th>...</th>\n",
       "      <td>...</td>\n",
       "      <td>...</td>\n",
       "      <td>...</td>\n",
       "      <td>...</td>\n",
       "      <td>...</td>\n",
       "      <td>...</td>\n",
       "      <td>...</td>\n",
       "      <td>...</td>\n",
       "      <td>...</td>\n",
       "      <td>...</td>\n",
       "      <td>...</td>\n",
       "    </tr>\n",
       "    <tr>\n",
       "      <th>1200</th>\n",
       "      <td>2021</td>\n",
       "      <td>1</td>\n",
       "      <td>20</td>\n",
       "      <td>2517</td>\n",
       "      <td>3</td>\n",
       "      <td>2</td>\n",
       "      <td>2319</td>\n",
       "      <td>0.025142</td>\n",
       "      <td>0.066376</td>\n",
       "      <td>0.001725</td>\n",
       "      <td>0.131076</td>\n",
       "    </tr>\n",
       "    <tr>\n",
       "      <th>1201</th>\n",
       "      <td>2021</td>\n",
       "      <td>1</td>\n",
       "      <td>21</td>\n",
       "      <td>2540</td>\n",
       "      <td>3</td>\n",
       "      <td>3</td>\n",
       "      <td>2309</td>\n",
       "      <td>0.030841</td>\n",
       "      <td>0.077439</td>\n",
       "      <td>0.200087</td>\n",
       "      <td>0.117667</td>\n",
       "    </tr>\n",
       "    <tr>\n",
       "      <th>1202</th>\n",
       "      <td>2021</td>\n",
       "      <td>1</td>\n",
       "      <td>22</td>\n",
       "      <td>2425</td>\n",
       "      <td>3</td>\n",
       "      <td>4</td>\n",
       "      <td>2177</td>\n",
       "      <td>0.085484</td>\n",
       "      <td>0.083138</td>\n",
       "      <td>0.000459</td>\n",
       "      <td>0.101576</td>\n",
       "    </tr>\n",
       "    <tr>\n",
       "      <th>1203</th>\n",
       "      <td>2021</td>\n",
       "      <td>1</td>\n",
       "      <td>25</td>\n",
       "      <td>2549</td>\n",
       "      <td>4</td>\n",
       "      <td>0</td>\n",
       "      <td>2396</td>\n",
       "      <td>0.035870</td>\n",
       "      <td>0.051291</td>\n",
       "      <td>0.257095</td>\n",
       "      <td>0.109621</td>\n",
       "    </tr>\n",
       "    <tr>\n",
       "      <th>1204</th>\n",
       "      <td>2021</td>\n",
       "      <td>1</td>\n",
       "      <td>26</td>\n",
       "      <td>2552</td>\n",
       "      <td>4</td>\n",
       "      <td>1</td>\n",
       "      <td>2369</td>\n",
       "      <td>0.023131</td>\n",
       "      <td>0.061348</td>\n",
       "      <td>0.232588</td>\n",
       "      <td>0.121354</td>\n",
       "    </tr>\n",
       "  </tbody>\n",
       "</table>\n",
       "<p>1205 rows × 11 columns</p>\n",
       "</div>"
      ],
      "text/plain": [
       "         년  월   일  식사가능자수  주  요일    출근      휴가비율      출장비율      야근비율      재택비율\n",
       "0     2016  2   1    2551  5   0  2401  0.019223  0.057670  0.099125  0.000000\n",
       "1     2016  2   2    2551  5   1  2378  0.019223  0.066513  0.134146  0.000000\n",
       "2     2016  2   3    2545  5   2  2365  0.021530  0.069204  0.046934  0.000000\n",
       "3     2016  2   4    2497  5   3  2277  0.039985  0.084583  0.155907  0.000000\n",
       "4     2016  2   5    2323  5   4  2142  0.106882  0.069589  0.015873  0.000000\n",
       "...    ... ..  ..     ... ..  ..   ...       ...       ...       ...       ...\n",
       "1200  2021  1  20    2517  3   2  2319  0.025142  0.066376  0.001725  0.131076\n",
       "1201  2021  1  21    2540  3   3  2309  0.030841  0.077439  0.200087  0.117667\n",
       "1202  2021  1  22    2425  3   4  2177  0.085484  0.083138  0.000459  0.101576\n",
       "1203  2021  1  25    2549  4   0  2396  0.035870  0.051291  0.257095  0.109621\n",
       "1204  2021  1  26    2552  4   1  2369  0.023131  0.061348  0.232588  0.121354\n",
       "\n",
       "[1205 rows x 11 columns]"
      ]
     },
     "execution_count": 38,
     "metadata": {},
     "output_type": "execute_result"
    }
   ],
   "source": [
    "X_common"
   ]
  },
  {
   "cell_type": "code",
   "execution_count": 19,
   "id": "88c7ef1a",
   "metadata": {},
   "outputs": [],
   "source": [
    "emb_arr_lunch = np.array(train.iloc[:, 11].to_numpy().tolist())  # Ver 2\n",
    "emb_arr_dinner = np.array(train.iloc[:, 12].to_numpy().tolist())  # Ver 2\n",
    "\n",
    "X_train_lunch = np.concatenate((X_common.to_numpy(), emb_arr_lunch), axis=1)\n",
    "X_train_dinner = np.concatenate((X_common.to_numpy(), emb_arr_dinner), axis=1)"
   ]
  },
  {
   "cell_type": "code",
   "execution_count": 20,
   "id": "a6c85450",
   "metadata": {},
   "outputs": [],
   "source": [
    "from sklearn.linear_model import BayesianRidge\n",
    "\n",
    "# 대회 규칙\n",
    "# 평가산식 : MAE(Mean Absolute Error)\n",
    "lunch_model = BayesianRidge(n_iter=300, verbose=True)\n",
    "dinner_model = BayesianRidge(n_iter=300, verbose=True)"
   ]
  },
  {
   "cell_type": "code",
   "execution_count": 21,
   "id": "b110dcb8",
   "metadata": {},
   "outputs": [
    {
     "name": "stdout",
     "output_type": "stream",
     "text": [
      "Convergence after  11  iterations\n"
     ]
    },
    {
     "data": {
      "text/plain": [
       "BayesianRidge(verbose=True)"
      ]
     },
     "execution_count": 21,
     "metadata": {},
     "output_type": "execute_result"
    }
   ],
   "source": [
    "lunch_model.fit(X_train_lunch, y_lunch)"
   ]
  },
  {
   "cell_type": "code",
   "execution_count": 22,
   "id": "9537dcd5",
   "metadata": {
    "scrolled": false
   },
   "outputs": [
    {
     "ename": "ValueError",
     "evalue": "Input contains NaN, infinity or a value too large for dtype('float64').",
     "output_type": "error",
     "traceback": [
      "\u001b[0;31m---------------------------------------------------------------------------\u001b[0m",
      "\u001b[0;31mValueError\u001b[0m                                Traceback (most recent call last)",
      "\u001b[0;32m<ipython-input-22-c9dd59bef7e9>\u001b[0m in \u001b[0;36m<module>\u001b[0;34m\u001b[0m\n\u001b[0;32m----> 1\u001b[0;31m \u001b[0mdinner_model\u001b[0m\u001b[0;34m.\u001b[0m\u001b[0mfit\u001b[0m\u001b[0;34m(\u001b[0m\u001b[0mX_train_dinner\u001b[0m\u001b[0;34m,\u001b[0m \u001b[0my_dinner\u001b[0m\u001b[0;34m)\u001b[0m\u001b[0;34m\u001b[0m\u001b[0;34m\u001b[0m\u001b[0m\n\u001b[0m",
      "\u001b[0;32m~/anaconda3/envs/meals/lib/python3.8/site-packages/sklearn/linear_model/_bayes.py\u001b[0m in \u001b[0;36mfit\u001b[0;34m(self, X, y, sample_weight)\u001b[0m\n\u001b[1;32m    199\u001b[0m                              ' Got {!r}.'.format(self.n_iter))\n\u001b[1;32m    200\u001b[0m \u001b[0;34m\u001b[0m\u001b[0m\n\u001b[0;32m--> 201\u001b[0;31m         \u001b[0mX\u001b[0m\u001b[0;34m,\u001b[0m \u001b[0my\u001b[0m \u001b[0;34m=\u001b[0m \u001b[0mself\u001b[0m\u001b[0;34m.\u001b[0m\u001b[0m_validate_data\u001b[0m\u001b[0;34m(\u001b[0m\u001b[0mX\u001b[0m\u001b[0;34m,\u001b[0m \u001b[0my\u001b[0m\u001b[0;34m,\u001b[0m \u001b[0mdtype\u001b[0m\u001b[0;34m=\u001b[0m\u001b[0mnp\u001b[0m\u001b[0;34m.\u001b[0m\u001b[0mfloat64\u001b[0m\u001b[0;34m,\u001b[0m \u001b[0my_numeric\u001b[0m\u001b[0;34m=\u001b[0m\u001b[0;32mTrue\u001b[0m\u001b[0;34m)\u001b[0m\u001b[0;34m\u001b[0m\u001b[0;34m\u001b[0m\u001b[0m\n\u001b[0m\u001b[1;32m    202\u001b[0m \u001b[0;34m\u001b[0m\u001b[0m\n\u001b[1;32m    203\u001b[0m         \u001b[0;32mif\u001b[0m \u001b[0msample_weight\u001b[0m \u001b[0;32mis\u001b[0m \u001b[0;32mnot\u001b[0m \u001b[0;32mNone\u001b[0m\u001b[0;34m:\u001b[0m\u001b[0;34m\u001b[0m\u001b[0;34m\u001b[0m\u001b[0m\n",
      "\u001b[0;32m~/anaconda3/envs/meals/lib/python3.8/site-packages/sklearn/base.py\u001b[0m in \u001b[0;36m_validate_data\u001b[0;34m(self, X, y, reset, validate_separately, **check_params)\u001b[0m\n\u001b[1;32m    431\u001b[0m                 \u001b[0my\u001b[0m \u001b[0;34m=\u001b[0m \u001b[0mcheck_array\u001b[0m\u001b[0;34m(\u001b[0m\u001b[0my\u001b[0m\u001b[0;34m,\u001b[0m \u001b[0;34m**\u001b[0m\u001b[0mcheck_y_params\u001b[0m\u001b[0;34m)\u001b[0m\u001b[0;34m\u001b[0m\u001b[0;34m\u001b[0m\u001b[0m\n\u001b[1;32m    432\u001b[0m             \u001b[0;32melse\u001b[0m\u001b[0;34m:\u001b[0m\u001b[0;34m\u001b[0m\u001b[0;34m\u001b[0m\u001b[0m\n\u001b[0;32m--> 433\u001b[0;31m                 \u001b[0mX\u001b[0m\u001b[0;34m,\u001b[0m \u001b[0my\u001b[0m \u001b[0;34m=\u001b[0m \u001b[0mcheck_X_y\u001b[0m\u001b[0;34m(\u001b[0m\u001b[0mX\u001b[0m\u001b[0;34m,\u001b[0m \u001b[0my\u001b[0m\u001b[0;34m,\u001b[0m \u001b[0;34m**\u001b[0m\u001b[0mcheck_params\u001b[0m\u001b[0;34m)\u001b[0m\u001b[0;34m\u001b[0m\u001b[0;34m\u001b[0m\u001b[0m\n\u001b[0m\u001b[1;32m    434\u001b[0m             \u001b[0mout\u001b[0m \u001b[0;34m=\u001b[0m \u001b[0mX\u001b[0m\u001b[0;34m,\u001b[0m \u001b[0my\u001b[0m\u001b[0;34m\u001b[0m\u001b[0;34m\u001b[0m\u001b[0m\n\u001b[1;32m    435\u001b[0m \u001b[0;34m\u001b[0m\u001b[0m\n",
      "\u001b[0;32m~/anaconda3/envs/meals/lib/python3.8/site-packages/sklearn/utils/validation.py\u001b[0m in \u001b[0;36minner_f\u001b[0;34m(*args, **kwargs)\u001b[0m\n\u001b[1;32m     61\u001b[0m             \u001b[0mextra_args\u001b[0m \u001b[0;34m=\u001b[0m \u001b[0mlen\u001b[0m\u001b[0;34m(\u001b[0m\u001b[0margs\u001b[0m\u001b[0;34m)\u001b[0m \u001b[0;34m-\u001b[0m \u001b[0mlen\u001b[0m\u001b[0;34m(\u001b[0m\u001b[0mall_args\u001b[0m\u001b[0;34m)\u001b[0m\u001b[0;34m\u001b[0m\u001b[0;34m\u001b[0m\u001b[0m\n\u001b[1;32m     62\u001b[0m             \u001b[0;32mif\u001b[0m \u001b[0mextra_args\u001b[0m \u001b[0;34m<=\u001b[0m \u001b[0;36m0\u001b[0m\u001b[0;34m:\u001b[0m\u001b[0;34m\u001b[0m\u001b[0;34m\u001b[0m\u001b[0m\n\u001b[0;32m---> 63\u001b[0;31m                 \u001b[0;32mreturn\u001b[0m \u001b[0mf\u001b[0m\u001b[0;34m(\u001b[0m\u001b[0;34m*\u001b[0m\u001b[0margs\u001b[0m\u001b[0;34m,\u001b[0m \u001b[0;34m**\u001b[0m\u001b[0mkwargs\u001b[0m\u001b[0;34m)\u001b[0m\u001b[0;34m\u001b[0m\u001b[0;34m\u001b[0m\u001b[0m\n\u001b[0m\u001b[1;32m     64\u001b[0m \u001b[0;34m\u001b[0m\u001b[0m\n\u001b[1;32m     65\u001b[0m             \u001b[0;31m# extra_args > 0\u001b[0m\u001b[0;34m\u001b[0m\u001b[0;34m\u001b[0m\u001b[0;34m\u001b[0m\u001b[0m\n",
      "\u001b[0;32m~/anaconda3/envs/meals/lib/python3.8/site-packages/sklearn/utils/validation.py\u001b[0m in \u001b[0;36mcheck_X_y\u001b[0;34m(X, y, accept_sparse, accept_large_sparse, dtype, order, copy, force_all_finite, ensure_2d, allow_nd, multi_output, ensure_min_samples, ensure_min_features, y_numeric, estimator)\u001b[0m\n\u001b[1;32m    869\u001b[0m         \u001b[0;32mraise\u001b[0m \u001b[0mValueError\u001b[0m\u001b[0;34m(\u001b[0m\u001b[0;34m\"y cannot be None\"\u001b[0m\u001b[0;34m)\u001b[0m\u001b[0;34m\u001b[0m\u001b[0;34m\u001b[0m\u001b[0m\n\u001b[1;32m    870\u001b[0m \u001b[0;34m\u001b[0m\u001b[0m\n\u001b[0;32m--> 871\u001b[0;31m     X = check_array(X, accept_sparse=accept_sparse,\n\u001b[0m\u001b[1;32m    872\u001b[0m                     \u001b[0maccept_large_sparse\u001b[0m\u001b[0;34m=\u001b[0m\u001b[0maccept_large_sparse\u001b[0m\u001b[0;34m,\u001b[0m\u001b[0;34m\u001b[0m\u001b[0;34m\u001b[0m\u001b[0m\n\u001b[1;32m    873\u001b[0m                     \u001b[0mdtype\u001b[0m\u001b[0;34m=\u001b[0m\u001b[0mdtype\u001b[0m\u001b[0;34m,\u001b[0m \u001b[0morder\u001b[0m\u001b[0;34m=\u001b[0m\u001b[0morder\u001b[0m\u001b[0;34m,\u001b[0m \u001b[0mcopy\u001b[0m\u001b[0;34m=\u001b[0m\u001b[0mcopy\u001b[0m\u001b[0;34m,\u001b[0m\u001b[0;34m\u001b[0m\u001b[0;34m\u001b[0m\u001b[0m\n",
      "\u001b[0;32m~/anaconda3/envs/meals/lib/python3.8/site-packages/sklearn/utils/validation.py\u001b[0m in \u001b[0;36minner_f\u001b[0;34m(*args, **kwargs)\u001b[0m\n\u001b[1;32m     61\u001b[0m             \u001b[0mextra_args\u001b[0m \u001b[0;34m=\u001b[0m \u001b[0mlen\u001b[0m\u001b[0;34m(\u001b[0m\u001b[0margs\u001b[0m\u001b[0;34m)\u001b[0m \u001b[0;34m-\u001b[0m \u001b[0mlen\u001b[0m\u001b[0;34m(\u001b[0m\u001b[0mall_args\u001b[0m\u001b[0;34m)\u001b[0m\u001b[0;34m\u001b[0m\u001b[0;34m\u001b[0m\u001b[0m\n\u001b[1;32m     62\u001b[0m             \u001b[0;32mif\u001b[0m \u001b[0mextra_args\u001b[0m \u001b[0;34m<=\u001b[0m \u001b[0;36m0\u001b[0m\u001b[0;34m:\u001b[0m\u001b[0;34m\u001b[0m\u001b[0;34m\u001b[0m\u001b[0m\n\u001b[0;32m---> 63\u001b[0;31m                 \u001b[0;32mreturn\u001b[0m \u001b[0mf\u001b[0m\u001b[0;34m(\u001b[0m\u001b[0;34m*\u001b[0m\u001b[0margs\u001b[0m\u001b[0;34m,\u001b[0m \u001b[0;34m**\u001b[0m\u001b[0mkwargs\u001b[0m\u001b[0;34m)\u001b[0m\u001b[0;34m\u001b[0m\u001b[0;34m\u001b[0m\u001b[0m\n\u001b[0m\u001b[1;32m     64\u001b[0m \u001b[0;34m\u001b[0m\u001b[0m\n\u001b[1;32m     65\u001b[0m             \u001b[0;31m# extra_args > 0\u001b[0m\u001b[0;34m\u001b[0m\u001b[0;34m\u001b[0m\u001b[0;34m\u001b[0m\u001b[0m\n",
      "\u001b[0;32m~/anaconda3/envs/meals/lib/python3.8/site-packages/sklearn/utils/validation.py\u001b[0m in \u001b[0;36mcheck_array\u001b[0;34m(array, accept_sparse, accept_large_sparse, dtype, order, copy, force_all_finite, ensure_2d, allow_nd, ensure_min_samples, ensure_min_features, estimator)\u001b[0m\n\u001b[1;32m    718\u001b[0m \u001b[0;34m\u001b[0m\u001b[0m\n\u001b[1;32m    719\u001b[0m         \u001b[0;32mif\u001b[0m \u001b[0mforce_all_finite\u001b[0m\u001b[0;34m:\u001b[0m\u001b[0;34m\u001b[0m\u001b[0;34m\u001b[0m\u001b[0m\n\u001b[0;32m--> 720\u001b[0;31m             _assert_all_finite(array,\n\u001b[0m\u001b[1;32m    721\u001b[0m                                allow_nan=force_all_finite == 'allow-nan')\n\u001b[1;32m    722\u001b[0m \u001b[0;34m\u001b[0m\u001b[0m\n",
      "\u001b[0;32m~/anaconda3/envs/meals/lib/python3.8/site-packages/sklearn/utils/validation.py\u001b[0m in \u001b[0;36m_assert_all_finite\u001b[0;34m(X, allow_nan, msg_dtype)\u001b[0m\n\u001b[1;32m    101\u001b[0m                 not allow_nan and not np.isfinite(X).all()):\n\u001b[1;32m    102\u001b[0m             \u001b[0mtype_err\u001b[0m \u001b[0;34m=\u001b[0m \u001b[0;34m'infinity'\u001b[0m \u001b[0;32mif\u001b[0m \u001b[0mallow_nan\u001b[0m \u001b[0;32melse\u001b[0m \u001b[0;34m'NaN, infinity'\u001b[0m\u001b[0;34m\u001b[0m\u001b[0;34m\u001b[0m\u001b[0m\n\u001b[0;32m--> 103\u001b[0;31m             raise ValueError(\n\u001b[0m\u001b[1;32m    104\u001b[0m                     \u001b[0mmsg_err\u001b[0m\u001b[0;34m.\u001b[0m\u001b[0mformat\u001b[0m\u001b[0;34m\u001b[0m\u001b[0;34m\u001b[0m\u001b[0m\n\u001b[1;32m    105\u001b[0m                     (type_err,\n",
      "\u001b[0;31mValueError\u001b[0m: Input contains NaN, infinity or a value too large for dtype('float64')."
     ]
    }
   ],
   "source": [
    "dinner_model.fit(X_train_dinner, y_dinner)"
   ]
  },
  {
   "cell_type": "markdown",
   "id": "48ae7ec6",
   "metadata": {},
   "source": [
    "# inference"
   ]
  },
  {
   "cell_type": "code",
   "execution_count": null,
   "id": "dfa24d18",
   "metadata": {},
   "outputs": [],
   "source": [
    "# Apply general preprocessing\n",
    "test = process_date(test)\n",
    "test[\"요일\"] = day_encoder.transform(test[\"요일\"])\n",
    "test[\"조식메뉴_embedding\"] = test[\"조식메뉴\"].apply(lambda x: get_food_embedding(x))\n",
    "test[\"중식메뉴_embedding\"] = test[\"중식메뉴\"].apply(lambda x: get_food_embedding(x))\n",
    "test[\"석식메뉴_embedding\"] = test[\"석식메뉴\"].apply(lambda x: get_food_embedding(x))\n",
    "test.drop(['조식메뉴', '중식메뉴', '석식메뉴'], axis=1, inplace=True)\n",
    "\n",
    "test[\"현본사소속재택근무자수\"] = test[\"현본사소속재택근무자수\"].astype(\"int\")\n",
    "test[\"식사가능자수\"] = test[\"본사정원수\"] - test[\"본사휴가자수\"] - test[\"현본사소속재택근무자수\"]\n",
    "test[\"출근\"] = test[\"본사정원수\"] - (test[\"본사휴가자수\"] + test[\"본사출장자수\"] + test[\"현본사소속재택근무자수\"])\n",
    "test[\"휴가비율\"] = test[\"본사휴가자수\"] / test[\"본사정원수\"]\n",
    "test[\"출장비율\"] = test[\"본사출장자수\"] / test[\"본사정원수\"]\n",
    "test[\"야근비율\"] = test[\"본사시간외근무명령서승인건수\"] / test[\"출근\"]\n",
    "test[\"재택비율\"] = test[\"현본사소속재택근무자수\"] / test[\"본사정원수\"]"
   ]
  },
  {
   "cell_type": "code",
   "execution_count": null,
   "id": "6a1aaebb",
   "metadata": {},
   "outputs": [],
   "source": [
    "X_test_common = test.iloc[:, :9]"
   ]
  },
  {
   "cell_type": "code",
   "execution_count": null,
   "id": "a69a124a",
   "metadata": {},
   "outputs": [],
   "source": [
    "# Get embedding\n",
    "test_emb_arr_lunch = np.array(test.iloc[:, 10].to_numpy().tolist()) # Ver 2\n",
    "test_emb_arr_dinner = np.array(test.iloc[:, 11].to_numpy().tolist()) # Ver 2\n",
    "# Concat\n",
    "test_lunch = np.concatenate((X_test_common.to_numpy(), test_emb_arr_lunch), axis=1)\n",
    "test_dinner = np.concatenate((X_test_common.to_numpy(), test_emb_arr_dinner), axis=1)"
   ]
  },
  {
   "cell_type": "code",
   "execution_count": null,
   "id": "0d81e049",
   "metadata": {},
   "outputs": [],
   "source": [
    "# Inference\n",
    "\n",
    "test_pred_lunch = lunch_model.predict(test_lunch)\n",
    "test_pred_dinner = dinner_model.predict(test_dinner)"
   ]
  },
  {
   "cell_type": "code",
   "execution_count": null,
   "id": "25f99de8",
   "metadata": {},
   "outputs": [],
   "source": [
    "submit['중식계'] = test_pred_lunch\n",
    "submit['석식계'] = test_pred_dinner"
   ]
  },
  {
   "cell_type": "code",
   "execution_count": null,
   "id": "5416a249",
   "metadata": {},
   "outputs": [],
   "source": [
    "submit.to_csv(\"random_forest.csv\", index=False)"
   ]
  }
 ],
 "metadata": {
  "kernelspec": {
   "display_name": "Python 3",
   "language": "python",
   "name": "python3"
  },
  "language_info": {
   "codemirror_mode": {
    "name": "ipython",
    "version": 3
   },
   "file_extension": ".py",
   "mimetype": "text/x-python",
   "name": "python",
   "nbconvert_exporter": "python",
   "pygments_lexer": "ipython3",
   "version": "3.8.10"
  }
 },
 "nbformat": 4,
 "nbformat_minor": 5
}
