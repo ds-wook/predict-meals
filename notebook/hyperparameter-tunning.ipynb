{
 "cells": [
  {
   "cell_type": "code",
   "execution_count": 1,
   "id": "2d3d0044",
   "metadata": {},
   "outputs": [],
   "source": [
    "import warnings\n",
    "\n",
    "import matplotlib.font_manager as fm\n",
    "import matplotlib.pyplot as plt\n",
    "import numpy as np\n",
    "import pandas as pd\n",
    "import seaborn as sns\n",
    "import optuna\n",
    "from optuna.samplers import TPESampler\n",
    "from xgboost import XGBRegressor\n",
    "\n",
    "warnings.filterwarnings(\"ignore\")\n",
    "\n",
    "\n",
    "path_gothic = \"/usr/share/fonts/truetype/nanum/NanumGothic.ttf\"\n",
    "fontprop = fm.FontProperties(fname=path_gothic, size=20)"
   ]
  },
  {
   "cell_type": "code",
   "execution_count": 2,
   "id": "1ae3587f",
   "metadata": {},
   "outputs": [],
   "source": [
    "path = \"../input/predict-meals/\"\n",
    "train = pd.read_csv(path + \"train.csv\")\n",
    "test = pd.read_csv(path + \"test.csv\")\n",
    "submit = pd.read_csv(path + \"sample_submission.csv\")"
   ]
  },
  {
   "cell_type": "code",
   "execution_count": 3,
   "id": "cccbd29e",
   "metadata": {},
   "outputs": [],
   "source": [
    "drops = [\"조식메뉴\", \"중식메뉴\", \"석식메뉴\"]\n",
    "\n",
    "train = train.drop(drops, axis=1)\n",
    "test = test.drop(drops, axis=1)\n",
    "\n",
    "train[\"월\"] = pd.DatetimeIndex(train[\"일자\"]).month\n",
    "test[\"월\"] = pd.DatetimeIndex(test[\"일자\"]).month\n",
    "\n",
    "train[\"일\"] = pd.DatetimeIndex(train[\"일자\"]).day\n",
    "test[\"일\"] = pd.DatetimeIndex(test[\"일자\"]).day\n",
    "\n",
    "weekday = {\"월\": 1, \"화\": 2, \"수\": 3, \"목\": 4, \"금\": 5}\n",
    "\n",
    "train[\"요일\"] = train[\"요일\"].map(weekday)\n",
    "test[\"요일\"] = test[\"요일\"].map(weekday)\n",
    "\n",
    "train[\"식사가능자수\"] = train[\"본사정원수\"] - train[\"본사휴가자수\"] - train[\"현본사소속재택근무자수\"]\n",
    "test[\"식사가능자수\"] = test[\"본사정원수\"] - test[\"본사휴가자수\"] - test[\"현본사소속재택근무자수\"]\n",
    "\n",
    "train[\"중식참여율\"] = train[\"중식계\"] / train[\"식사가능자수\"]\n",
    "train[\"석식참여율\"] = train[\"석식계\"] / train[\"식사가능자수\"]\n",
    "\n",
    "features = [\"월\", \"일\", \"요일\", \"식사가능자수\", \"본사출장자수\", \"본사시간외근무명령서승인건수\"]\n",
    "labels = [\"중식계\", \"석식계\", \"중식참여율\", \"석식참여율\"]\n",
    "\n",
    "train = train[features + labels]\n",
    "test = test[features]\n",
    "\n",
    "# 요일을 석식 rank에 맞춰 mapping한 요일(석식) 칼럼 만들기.\n",
    "\n",
    "weekday_rank4dinner = {\n",
    "    1: 1,\n",
    "    2: 2,\n",
    "    3: 5,\n",
    "    4: 3,\n",
    "    5: 4,\n",
    "}\n",
    "\n",
    "train[\"요일(석식)\"] = train[\"요일\"].map(weekday_rank4dinner)\n",
    "test[\"요일(석식)\"] = test[\"요일\"].map(weekday_rank4dinner)"
   ]
  },
  {
   "cell_type": "code",
   "execution_count": 4,
   "id": "52df469f",
   "metadata": {},
   "outputs": [],
   "source": [
    "from sklearn.model_selection import train_test_split\n",
    "from sklearn.metrics import mean_absolute_error\n",
    "\n",
    "X_lunch = train[[\"월\", \"일\", \"요일\", \"식사가능자수\", \"본사출장자수\", \"본사시간외근무명령서승인건수\"]]\n",
    "y_lunch = train[\"중식계\"]\n",
    "\n",
    "train_x, test_x, train_y, test_y = train_test_split(X_lunch, y_lunch, test_size=0.3, random_state=42)"
   ]
  },
  {
   "cell_type": "code",
   "execution_count": 30,
   "id": "ed5c65da",
   "metadata": {},
   "outputs": [],
   "source": [
    "def objective(trial):\n",
    "    param = {\n",
    "        \"lambda\": trial.suggest_loguniform(\"lambda\", 1e-3, 1e-01),\n",
    "#         \"alpha\": trial.suggest_loguniform(\"alpha\", 1e-3, 1e-01),\n",
    "#         \"colsample_bytree\": trial.suggest_float(\"colsample_bytree\", 0.5, 1),\n",
    "        \"subsample\": trial.suggest_float(\"subsample\", 0.5, 1),\n",
    "        \"learning_rate\": 0.02,\n",
    "        \"n_estimators\": 10000,\n",
    "        \"max_depth\": trial.suggest_int(\"max_depth\", 3, 20),\n",
    "        \"random_state\": 42,\n",
    "        \"min_child_weight\": trial.suggest_int(\"min_child_weight\", 1, 300),\n",
    "    }\n",
    "    model = XGBRegressor(**param)\n",
    "\n",
    "    model.fit(\n",
    "        train_x,\n",
    "        train_y,\n",
    "        eval_set=[(test_x, test_y)],\n",
    "        early_stopping_rounds=100,\n",
    "        verbose=False,\n",
    "    )\n",
    "\n",
    "    preds = model.predict(test_x)\n",
    "\n",
    "    mae = mean_absolute_error(test_y, preds)\n",
    "\n",
    "    return mae"
   ]
  },
  {
   "cell_type": "code",
   "execution_count": 31,
   "id": "30fa38d1",
   "metadata": {
    "scrolled": false
   },
   "outputs": [
    {
     "name": "stderr",
     "output_type": "stream",
     "text": [
      "\u001b[32m[I 2021-07-09 18:30:39,948]\u001b[0m A new study created in memory with name: no-name-3a94bebc-54fb-4653-afc4-a547e444acfa\u001b[0m\n",
      "\u001b[32m[I 2021-07-09 18:30:43,682]\u001b[0m Trial 0 finished with value: 69.24352247543756 and parameters: {'lambda': 0.005611516415334507, 'subsample': 0.9753571532049581, 'max_depth': 16, 'min_child_weight': 180}. Best is trial 0 with value: 69.24352247543756.\u001b[0m\n",
      "\u001b[32m[I 2021-07-09 18:30:44,384]\u001b[0m Trial 1 finished with value: 93.57701953866864 and parameters: {'lambda': 0.0020513382630874496, 'subsample': 0.5779972601681014, 'max_depth': 4, 'min_child_weight': 260}. Best is trial 0 with value: 69.24352247543756.\u001b[0m\n",
      "\u001b[32m[I 2021-07-09 18:30:48,144]\u001b[0m Trial 2 finished with value: 78.3061565588851 and parameters: {'lambda': 0.015930522616241012, 'subsample': 0.8540362888980227, 'max_depth': 3, 'min_child_weight': 291}. Best is trial 0 with value: 69.24352247543756.\u001b[0m\n",
      "\u001b[32m[I 2021-07-09 18:30:49,848]\u001b[0m Trial 3 finished with value: 66.61411154731202 and parameters: {'lambda': 0.04622589001020832, 'subsample': 0.6061695553391381, 'max_depth': 6, 'min_child_weight': 56}. Best is trial 3 with value: 66.61411154731202.\u001b[0m\n",
      "\u001b[32m[I 2021-07-09 18:30:52,348]\u001b[0m Trial 4 finished with value: 67.53438631342262 and parameters: {'lambda': 0.0040596116104843075, 'subsample': 0.762378215816119, 'max_depth': 10, 'min_child_weight': 88}. Best is trial 3 with value: 66.61411154731202.\u001b[0m\n",
      "\u001b[32m[I 2021-07-09 18:30:56,404]\u001b[0m Trial 5 finished with value: 69.01549605901728 and parameters: {'lambda': 0.01673808578875214, 'subsample': 0.569746930326021, 'max_depth': 8, 'min_child_weight': 110}. Best is trial 3 with value: 66.61411154731202.\u001b[0m\n",
      "\u001b[32m[I 2021-07-09 18:30:59,537]\u001b[0m Trial 6 finished with value: 68.51173160616206 and parameters: {'lambda': 0.008168455894760165, 'subsample': 0.8925879806965068, 'max_depth': 6, 'min_child_weight': 155}. Best is trial 3 with value: 66.61411154731202.\u001b[0m\n",
      "\u001b[32m[I 2021-07-09 18:31:01,895]\u001b[0m Trial 7 finished with value: 65.66172944379775 and parameters: {'lambda': 0.015304852121831466, 'subsample': 0.5232252063599989, 'max_depth': 13, 'min_child_weight': 52}. Best is trial 7 with value: 65.66172944379775.\u001b[0m\n",
      "\u001b[32m[I 2021-07-09 18:31:05,623]\u001b[0m Trial 8 finished with value: 73.01051010216139 and parameters: {'lambda': 0.0013492834268013251, 'subsample': 0.9744427686266666, 'max_depth': 20, 'min_child_weight': 243}. Best is trial 7 with value: 65.66172944379775.\u001b[0m\n",
      "\u001b[32m[I 2021-07-09 18:31:08,719]\u001b[0m Trial 9 finished with value: 71.78423284035361 and parameters: {'lambda': 0.0040665633135147945, 'subsample': 0.5488360570031919, 'max_depth': 15, 'min_child_weight': 133}. Best is trial 7 with value: 65.66172944379775.\u001b[0m\n",
      "\u001b[32m[I 2021-07-09 18:31:10,088]\u001b[0m Trial 10 finished with value: 61.934331161541174 and parameters: {'lambda': 0.08037365728880538, 'subsample': 0.6781702803845243, 'max_depth': 13, 'min_child_weight': 4}. Best is trial 10 with value: 61.934331161541174.\u001b[0m\n",
      "\u001b[32m[I 2021-07-09 18:31:11,248]\u001b[0m Trial 11 finished with value: 62.292409159201945 and parameters: {'lambda': 0.09263828560788537, 'subsample': 0.6811598871846295, 'max_depth': 14, 'min_child_weight': 6}. Best is trial 10 with value: 61.934331161541174.\u001b[0m\n",
      "\u001b[32m[I 2021-07-09 18:31:12,729]\u001b[0m Trial 12 finished with value: 61.23874230147725 and parameters: {'lambda': 0.09627827430737362, 'subsample': 0.6953463565675985, 'max_depth': 18, 'min_child_weight': 11}. Best is trial 12 with value: 61.23874230147725.\u001b[0m\n",
      "\u001b[32m[I 2021-07-09 18:31:14,290]\u001b[0m Trial 13 finished with value: 62.56034839350874 and parameters: {'lambda': 0.08705533492006683, 'subsample': 0.7144511396346392, 'max_depth': 19, 'min_child_weight': 4}. Best is trial 12 with value: 61.23874230147725.\u001b[0m\n",
      "\u001b[32m[I 2021-07-09 18:31:16,373]\u001b[0m Trial 14 finished with value: 62.30234240563535 and parameters: {'lambda': 0.04263209259770765, 'subsample': 0.6473275361457449, 'max_depth': 18, 'min_child_weight': 3}. Best is trial 12 with value: 61.23874230147725.\u001b[0m\n",
      "\u001b[32m[I 2021-07-09 18:31:17,197]\u001b[0m Trial 15 finished with value: 63.46690617345315 and parameters: {'lambda': 0.05078103459086016, 'subsample': 0.7842394769275147, 'max_depth': 11, 'min_child_weight': 42}. Best is trial 12 with value: 61.23874230147725.\u001b[0m\n",
      "\u001b[32m[I 2021-07-09 18:31:18,483]\u001b[0m Trial 16 finished with value: 63.90844197563045 and parameters: {'lambda': 0.03030868655828181, 'subsample': 0.6508514944431754, 'max_depth': 17, 'min_child_weight': 33}. Best is trial 12 with value: 61.23874230147725.\u001b[0m\n",
      "\u001b[32m[I 2021-07-09 18:31:22,517]\u001b[0m Trial 17 finished with value: 66.61846455948128 and parameters: {'lambda': 0.08521176809510654, 'subsample': 0.8223006021165266, 'max_depth': 13, 'min_child_weight': 85}. Best is trial 12 with value: 61.23874230147725.\u001b[0m\n",
      "\u001b[32m[I 2021-07-09 18:31:28,088]\u001b[0m Trial 18 finished with value: 74.45130823462048 and parameters: {'lambda': 0.024266831813146802, 'subsample': 0.7121842108210625, 'max_depth': 20, 'min_child_weight': 194}. Best is trial 12 with value: 61.23874230147725.\u001b[0m\n",
      "\u001b[32m[I 2021-07-09 18:31:29,239]\u001b[0m Trial 19 finished with value: 62.7074584539424 and parameters: {'lambda': 0.058146950898554935, 'subsample': 0.72275786362894, 'max_depth': 9, 'min_child_weight': 23}. Best is trial 12 with value: 61.23874230147725.\u001b[0m\n",
      "\u001b[32m[I 2021-07-09 18:31:32,097]\u001b[0m Trial 20 finished with value: 68.38159234484256 and parameters: {'lambda': 0.0707651028734774, 'subsample': 0.5001069230113128, 'max_depth': 12, 'min_child_weight': 71}. Best is trial 12 with value: 61.23874230147725.\u001b[0m\n",
      "\u001b[32m[I 2021-07-09 18:31:34,385]\u001b[0m Trial 21 finished with value: 61.624013953446024 and parameters: {'lambda': 0.09732976250912774, 'subsample': 0.6647066753130935, 'max_depth': 15, 'min_child_weight': 6}. Best is trial 12 with value: 61.23874230147725.\u001b[0m\n",
      "\u001b[32m[I 2021-07-09 18:31:35,855]\u001b[0m Trial 22 finished with value: 61.892333436407434 and parameters: {'lambda': 0.031221611173425673, 'subsample': 0.6356812913816002, 'max_depth': 16, 'min_child_weight': 18}. Best is trial 12 with value: 61.23874230147725.\u001b[0m\n",
      "\u001b[32m[I 2021-07-09 18:31:37,551]\u001b[0m Trial 23 finished with value: 63.81318782574564 and parameters: {'lambda': 0.03917034330357435, 'subsample': 0.6203959500094764, 'max_depth': 16, 'min_child_weight': 28}. Best is trial 12 with value: 61.23874230147725.\u001b[0m\n",
      "\u001b[32m[I 2021-07-09 18:31:41,562]\u001b[0m Trial 24 finished with value: 63.656162944287885 and parameters: {'lambda': 0.023359165903466823, 'subsample': 0.6142569359160629, 'max_depth': 18, 'min_child_weight': 1}. Best is trial 12 with value: 61.23874230147725.\u001b[0m\n",
      "\u001b[32m[I 2021-07-09 18:31:44,762]\u001b[0m Trial 25 finished with value: 68.67109743402808 and parameters: {'lambda': 0.029767695867883547, 'subsample': 0.6769895369919797, 'max_depth': 15, 'min_child_weight': 105}. Best is trial 12 with value: 61.23874230147725.\u001b[0m\n",
      "\u001b[32m[I 2021-07-09 18:31:47,666]\u001b[0m Trial 26 finished with value: 65.72287035778741 and parameters: {'lambda': 0.009931835433255544, 'subsample': 0.7558087826168356, 'max_depth': 17, 'min_child_weight': 68}. Best is trial 12 with value: 61.23874230147725.\u001b[0m\n",
      "\u001b[32m[I 2021-07-09 18:31:48,991]\u001b[0m Trial 27 finished with value: 62.86887085635359 and parameters: {'lambda': 0.07199673357188695, 'subsample': 0.8051773535772515, 'max_depth': 19, 'min_child_weight': 27}. Best is trial 12 with value: 61.23874230147725.\u001b[0m\n",
      "\u001b[32m[I 2021-07-09 18:31:50,269]\u001b[0m Trial 28 finished with value: 62.358616022773866 and parameters: {'lambda': 0.09649841314816973, 'subsample': 0.633991704060336, 'max_depth': 15, 'min_child_weight': 20}. Best is trial 12 with value: 61.23874230147725.\u001b[0m\n",
      "\u001b[32m[I 2021-07-09 18:31:54,115]\u001b[0m Trial 29 finished with value: 77.95282968763489 and parameters: {'lambda': 0.055975804443845624, 'subsample': 0.5809720045014073, 'max_depth': 16, 'min_child_weight': 194}. Best is trial 12 with value: 61.23874230147725.\u001b[0m\n",
      "\u001b[32m[I 2021-07-09 18:31:56,191]\u001b[0m Trial 30 finished with value: 63.81448220943219 and parameters: {'lambda': 0.03195129115981841, 'subsample': 0.7045710470136021, 'max_depth': 17, 'min_child_weight': 52}. Best is trial 12 with value: 61.23874230147725.\u001b[0m\n",
      "\u001b[32m[I 2021-07-09 18:31:57,459]\u001b[0m Trial 31 finished with value: 61.77207549500861 and parameters: {'lambda': 0.096618400146029, 'subsample': 0.6766845178612163, 'max_depth': 13, 'min_child_weight': 8}. Best is trial 12 with value: 61.23874230147725.\u001b[0m\n"
     ]
    },
    {
     "name": "stderr",
     "output_type": "stream",
     "text": [
      "\u001b[32m[I 2021-07-09 18:31:59,148]\u001b[0m Trial 32 finished with value: 61.47306392732905 and parameters: {'lambda': 0.06444871183824874, 'subsample': 0.6600354772806227, 'max_depth': 14, 'min_child_weight': 14}. Best is trial 12 with value: 61.23874230147725.\u001b[0m\n",
      "\u001b[32m[I 2021-07-09 18:32:02,298]\u001b[0m Trial 33 finished with value: 63.680284822843355 and parameters: {'lambda': 0.0627613868076351, 'subsample': 0.7433585061814858, 'max_depth': 14, 'min_child_weight': 1}. Best is trial 12 with value: 61.23874230147725.\u001b[0m\n",
      "\u001b[32m[I 2021-07-09 18:32:04,312]\u001b[0m Trial 34 finished with value: 63.259008628887365 and parameters: {'lambda': 0.09844341773249896, 'subsample': 0.6653740094126572, 'max_depth': 11, 'min_child_weight': 36}. Best is trial 12 with value: 61.23874230147725.\u001b[0m\n",
      "\u001b[32m[I 2021-07-09 18:32:06,749]\u001b[0m Trial 35 finished with value: 66.1863801229066 and parameters: {'lambda': 0.09711870442113799, 'subsample': 0.6901789315795475, 'max_depth': 12, 'min_child_weight': 64}. Best is trial 12 with value: 61.23874230147725.\u001b[0m\n",
      "\u001b[32m[I 2021-07-09 18:32:13,117]\u001b[0m Trial 36 finished with value: 68.33788699998381 and parameters: {'lambda': 0.06468521045979511, 'subsample': 0.598927472475655, 'max_depth': 14, 'min_child_weight': 84}. Best is trial 12 with value: 61.23874230147725.\u001b[0m\n",
      "\u001b[32m[I 2021-07-09 18:32:20,754]\u001b[0m Trial 37 finished with value: 63.764692738569906 and parameters: {'lambda': 0.04342092600160291, 'subsample': 0.7343904004758547, 'max_depth': 10, 'min_child_weight': 45}. Best is trial 12 with value: 61.23874230147725.\u001b[0m\n",
      "\u001b[32m[I 2021-07-09 18:32:22,264]\u001b[0m Trial 38 finished with value: 82.91439482125129 and parameters: {'lambda': 0.01929673351073521, 'subsample': 0.7684642579148409, 'max_depth': 13, 'min_child_weight': 298}. Best is trial 12 with value: 61.23874230147725.\u001b[0m\n",
      "\u001b[32m[I 2021-07-09 18:32:26,365]\u001b[0m Trial 39 finished with value: 89.70474765840815 and parameters: {'lambda': 0.09864964828328482, 'subsample': 0.5550097199931655, 'max_depth': 15, 'min_child_weight': 249}. Best is trial 12 with value: 61.23874230147725.\u001b[0m\n",
      "\u001b[32m[I 2021-07-09 18:32:34,221]\u001b[0m Trial 40 finished with value: 68.69451714615795 and parameters: {'lambda': 0.006541222383238451, 'subsample': 0.6530995794551507, 'max_depth': 18, 'min_child_weight': 103}. Best is trial 12 with value: 61.23874230147725.\u001b[0m\n",
      "\u001b[32m[I 2021-07-09 18:32:35,751]\u001b[0m Trial 41 finished with value: 62.13111070243035 and parameters: {'lambda': 0.013542686930965145, 'subsample': 0.5984365789057382, 'max_depth': 16, 'min_child_weight': 17}. Best is trial 12 with value: 61.23874230147725.\u001b[0m\n",
      "\u001b[32m[I 2021-07-09 18:32:37,652]\u001b[0m Trial 42 finished with value: 62.56125324734008 and parameters: {'lambda': 0.050920014856124594, 'subsample': 0.6317559218786086, 'max_depth': 16, 'min_child_weight': 15}. Best is trial 12 with value: 61.23874230147725.\u001b[0m\n",
      "\u001b[32m[I 2021-07-09 18:32:38,938]\u001b[0m Trial 43 finished with value: 61.67383881036748 and parameters: {'lambda': 0.07325564256676405, 'subsample': 0.6881662992439908, 'max_depth': 14, 'min_child_weight': 15}. Best is trial 12 with value: 61.23874230147725.\u001b[0m\n",
      "\u001b[32m[I 2021-07-09 18:32:40,569]\u001b[0m Trial 44 finished with value: 63.512987252757036 and parameters: {'lambda': 0.07442501273574188, 'subsample': 0.6973803234776084, 'max_depth': 14, 'min_child_weight': 44}. Best is trial 12 with value: 61.23874230147725.\u001b[0m\n",
      "\u001b[32m[I 2021-07-09 18:32:44,205]\u001b[0m Trial 45 finished with value: 70.56599641241421 and parameters: {'lambda': 0.002211720840937829, 'subsample': 0.6649148038229485, 'max_depth': 12, 'min_child_weight': 143}. Best is trial 12 with value: 61.23874230147725.\u001b[0m\n",
      "\u001b[32m[I 2021-07-09 18:32:46,449]\u001b[0m Trial 46 finished with value: 65.29369478594532 and parameters: {'lambda': 0.03906204451382047, 'subsample': 0.7290166724133127, 'max_depth': 13, 'min_child_weight': 58}. Best is trial 12 with value: 61.23874230147725.\u001b[0m\n",
      "\u001b[32m[I 2021-07-09 18:32:47,450]\u001b[0m Trial 47 finished with value: 61.76463578155686 and parameters: {'lambda': 0.08065629968861508, 'subsample': 0.6918569649574697, 'max_depth': 10, 'min_child_weight': 9}. Best is trial 12 with value: 61.23874230147725.\u001b[0m\n",
      "\u001b[32m[I 2021-07-09 18:32:48,831]\u001b[0m Trial 48 finished with value: 63.41402239298952 and parameters: {'lambda': 0.07713781874622783, 'subsample': 0.9030454596298365, 'max_depth': 8, 'min_child_weight': 34}. Best is trial 12 with value: 61.23874230147725.\u001b[0m\n",
      "\u001b[32m[I 2021-07-09 18:32:50,046]\u001b[0m Trial 49 finished with value: 62.21313888591956 and parameters: {'lambda': 0.04908978589511385, 'subsample': 0.6967562454590777, 'max_depth': 7, 'min_child_weight': 13}. Best is trial 12 with value: 61.23874230147725.\u001b[0m\n",
      "\u001b[32m[I 2021-07-09 18:32:51,535]\u001b[0m Trial 50 finished with value: 63.895069817811745 and parameters: {'lambda': 0.06053201568697815, 'subsample': 0.7729184262253551, 'max_depth': 10, 'min_child_weight': 49}. Best is trial 12 with value: 61.23874230147725.\u001b[0m\n",
      "\u001b[32m[I 2021-07-09 18:32:52,903]\u001b[0m Trial 51 finished with value: 62.10867515058148 and parameters: {'lambda': 0.09886636251931565, 'subsample': 0.672110219088848, 'max_depth': 11, 'min_child_weight': 3}. Best is trial 12 with value: 61.23874230147725.\u001b[0m\n",
      "\u001b[32m[I 2021-07-09 18:32:54,905]\u001b[0m Trial 52 finished with value: 61.382917878377505 and parameters: {'lambda': 0.07972135153107347, 'subsample': 0.7109563511538084, 'max_depth': 9, 'min_child_weight': 11}. Best is trial 12 with value: 61.23874230147725.\u001b[0m\n",
      "\u001b[32m[I 2021-07-09 18:32:55,508]\u001b[0m Trial 53 finished with value: 82.7913991179914 and parameters: {'lambda': 0.08107337729326518, 'subsample': 0.716737295904551, 'max_depth': 5, 'min_child_weight': 279}. Best is trial 12 with value: 61.23874230147725.\u001b[0m\n",
      "\u001b[32m[I 2021-07-09 18:32:56,968]\u001b[0m Trial 54 finished with value: 63.247834263585546 and parameters: {'lambda': 0.06692886400270036, 'subsample': 0.7510760858949869, 'max_depth': 9, 'min_child_weight': 33}. Best is trial 12 with value: 61.23874230147725.\u001b[0m\n",
      "\u001b[32m[I 2021-07-09 18:32:59,202]\u001b[0m Trial 55 finished with value: 62.75622536200845 and parameters: {'lambda': 0.0832613523427992, 'subsample': 0.6523025296197087, 'max_depth': 9, 'min_child_weight': 2}. Best is trial 12 with value: 61.23874230147725.\u001b[0m\n",
      "\u001b[32m[I 2021-07-09 18:33:00,814]\u001b[0m Trial 56 finished with value: 62.455718762308194 and parameters: {'lambda': 0.054485575906884416, 'subsample': 0.786587135785393, 'max_depth': 10, 'min_child_weight': 24}. Best is trial 12 with value: 61.23874230147725.\u001b[0m\n",
      "\u001b[32m[I 2021-07-09 18:33:04,966]\u001b[0m Trial 57 finished with value: 66.85397359942863 and parameters: {'lambda': 0.04407365064340112, 'subsample': 0.7105417134543335, 'max_depth': 8, 'min_child_weight': 74}. Best is trial 12 with value: 61.23874230147725.\u001b[0m\n",
      "\u001b[32m[I 2021-07-09 18:33:11,348]\u001b[0m Trial 58 finished with value: 61.93508303099574 and parameters: {'lambda': 0.08217015814028863, 'subsample': 0.6873326117306818, 'max_depth': 7, 'min_child_weight': 9}. Best is trial 12 with value: 61.23874230147725.\u001b[0m\n",
      "\u001b[32m[I 2021-07-09 18:33:14,164]\u001b[0m Trial 59 finished with value: 63.45755023850921 and parameters: {'lambda': 0.034432060495362404, 'subsample': 0.7304176400165904, 'max_depth': 19, 'min_child_weight': 39}. Best is trial 12 with value: 61.23874230147725.\u001b[0m\n",
      "\u001b[32m[I 2021-07-09 18:33:17,005]\u001b[0m Trial 60 finished with value: 80.73760067428672 and parameters: {'lambda': 0.06731747899418314, 'subsample': 0.6177911680080858, 'max_depth': 12, 'min_child_weight': 219}. Best is trial 12 with value: 61.23874230147725.\u001b[0m\n",
      "\u001b[32m[I 2021-07-09 18:33:18,546]\u001b[0m Trial 61 finished with value: 61.97015619014508 and parameters: {'lambda': 0.08873320717214923, 'subsample': 0.6683504825911255, 'max_depth': 14, 'min_child_weight': 13}. Best is trial 12 with value: 61.23874230147725.\u001b[0m\n",
      "\u001b[32m[I 2021-07-09 18:33:19,909]\u001b[0m Trial 62 finished with value: 62.80380261668843 and parameters: {'lambda': 0.07295241415501347, 'subsample': 0.642907272641543, 'max_depth': 15, 'min_child_weight': 24}. Best is trial 12 with value: 61.23874230147725.\u001b[0m\n",
      "\u001b[32m[I 2021-07-09 18:33:21,033]\u001b[0m Trial 63 finished with value: 61.76794414625642 and parameters: {'lambda': 0.09980492823361085, 'subsample': 0.6831079333379159, 'max_depth': 11, 'min_child_weight': 8}. Best is trial 12 with value: 61.23874230147725.\u001b[0m\n"
     ]
    },
    {
     "name": "stderr",
     "output_type": "stream",
     "text": [
      "\u001b[32m[I 2021-07-09 18:33:24,051]\u001b[0m Trial 64 finished with value: 62.88202612966464 and parameters: {'lambda': 0.05763098042562872, 'subsample': 0.6991692276471567, 'max_depth': 11, 'min_child_weight': 1}. Best is trial 12 with value: 61.23874230147725.\u001b[0m\n",
      "\u001b[32m[I 2021-07-09 18:33:25,626]\u001b[0m Trial 65 finished with value: 63.14910094118908 and parameters: {'lambda': 0.08623390322336445, 'subsample': 0.657137736355762, 'max_depth': 11, 'min_child_weight': 25}. Best is trial 12 with value: 61.23874230147725.\u001b[0m\n",
      "\u001b[32m[I 2021-07-09 18:33:27,708]\u001b[0m Trial 66 finished with value: 64.73369191628134 and parameters: {'lambda': 0.05086355267817809, 'subsample': 0.7414533142589442, 'max_depth': 9, 'min_child_weight': 57}. Best is trial 12 with value: 61.23874230147725.\u001b[0m\n",
      "\u001b[32m[I 2021-07-09 18:33:29,555]\u001b[0m Trial 67 finished with value: 61.12148570487513 and parameters: {'lambda': 0.03845099065210128, 'subsample': 0.6843709136349125, 'max_depth': 10, 'min_child_weight': 11}. Best is trial 67 with value: 61.12148570487513.\u001b[0m\n",
      "\u001b[32m[I 2021-07-09 18:33:31,342]\u001b[0m Trial 68 finished with value: 63.15189595512264 and parameters: {'lambda': 0.03598782926899308, 'subsample': 0.7199949648952798, 'max_depth': 8, 'min_child_weight': 31}. Best is trial 67 with value: 61.12148570487513.\u001b[0m\n",
      "\u001b[32m[I 2021-07-09 18:33:34,074]\u001b[0m Trial 69 finished with value: 62.2553134517775 and parameters: {'lambda': 0.0036411412693933424, 'subsample': 0.6250905176269511, 'max_depth': 20, 'min_child_weight': 18}. Best is trial 67 with value: 61.12148570487513.\u001b[0m\n",
      "\u001b[32m[I 2021-07-09 18:33:44,159]\u001b[0m Trial 70 finished with value: 71.98668337658624 and parameters: {'lambda': 0.06303443365482972, 'subsample': 0.7093358658719285, 'max_depth': 10, 'min_child_weight': 168}. Best is trial 67 with value: 61.12148570487513.\u001b[0m\n",
      "\u001b[32m[I 2021-07-09 18:33:45,350]\u001b[0m Trial 71 finished with value: 61.684579132670194 and parameters: {'lambda': 0.09923820981192831, 'subsample': 0.6902505445207764, 'max_depth': 10, 'min_child_weight': 9}. Best is trial 67 with value: 61.12148570487513.\u001b[0m\n",
      "\u001b[32m[I 2021-07-09 18:33:46,919]\u001b[0m Trial 72 finished with value: 62.28569674096713 and parameters: {'lambda': 0.07296520012786101, 'subsample': 0.6865121974778349, 'max_depth': 9, 'min_child_weight': 2}. Best is trial 67 with value: 61.12148570487513.\u001b[0m\n",
      "\u001b[32m[I 2021-07-09 18:33:48,359]\u001b[0m Trial 73 finished with value: 61.99595416580116 and parameters: {'lambda': 0.025800740327075782, 'subsample': 0.648635541358208, 'max_depth': 10, 'min_child_weight': 13}. Best is trial 67 with value: 61.12148570487513.\u001b[0m\n",
      "\u001b[32m[I 2021-07-09 18:33:50,042]\u001b[0m Trial 74 finished with value: 63.242278589069514 and parameters: {'lambda': 0.08852631057546331, 'subsample': 0.6754492993244742, 'max_depth': 12, 'min_child_weight': 27}. Best is trial 67 with value: 61.12148570487513.\u001b[0m\n",
      "\u001b[32m[I 2021-07-09 18:33:52,321]\u001b[0m Trial 75 finished with value: 63.79079795542343 and parameters: {'lambda': 0.05740756968188478, 'subsample': 0.5821824513706114, 'max_depth': 10, 'min_child_weight': 35}. Best is trial 67 with value: 61.12148570487513.\u001b[0m\n",
      "\u001b[32m[I 2021-07-09 18:33:53,565]\u001b[0m Trial 76 finished with value: 63.66532602889762 and parameters: {'lambda': 0.04533461755798509, 'subsample': 0.7008670260233385, 'max_depth': 17, 'min_child_weight': 45}. Best is trial 67 with value: 61.12148570487513.\u001b[0m\n",
      "\u001b[32m[I 2021-07-09 18:33:55,282]\u001b[0m Trial 77 finished with value: 62.07818585601301 and parameters: {'lambda': 0.07467965690442949, 'subsample': 0.6600759437137195, 'max_depth': 8, 'min_child_weight': 1}. Best is trial 67 with value: 61.12148570487513.\u001b[0m\n",
      "\u001b[32m[I 2021-07-09 18:33:56,758]\u001b[0m Trial 78 finished with value: 61.9523811340332 and parameters: {'lambda': 0.0663727593670584, 'subsample': 0.6407973238110785, 'max_depth': 13, 'min_child_weight': 16}. Best is trial 67 with value: 61.12148570487513.\u001b[0m\n",
      "\u001b[32m[I 2021-07-09 18:33:58,306]\u001b[0m Trial 79 finished with value: 63.393686010034045 and parameters: {'lambda': 0.09911277522166742, 'subsample': 0.7236819733500254, 'max_depth': 9, 'min_child_weight': 40}. Best is trial 67 with value: 61.12148570487513.\u001b[0m\n",
      "\u001b[32m[I 2021-07-09 18:34:01,766]\u001b[0m Trial 80 finished with value: 69.36124137751963 and parameters: {'lambda': 0.04058488420307169, 'subsample': 0.6064559687244826, 'max_depth': 15, 'min_child_weight': 121}. Best is trial 67 with value: 61.12148570487513.\u001b[0m\n",
      "\u001b[32m[I 2021-07-09 18:34:02,759]\u001b[0m Trial 81 finished with value: 61.83560237568386 and parameters: {'lambda': 0.09123702990823088, 'subsample': 0.6855501022030198, 'max_depth': 11, 'min_child_weight': 9}. Best is trial 67 with value: 61.12148570487513.\u001b[0m\n",
      "\u001b[32m[I 2021-07-09 18:34:03,798]\u001b[0m Trial 82 finished with value: 62.24695497586582 and parameters: {'lambda': 0.09874931221227239, 'subsample': 0.6802822814455347, 'max_depth': 12, 'min_child_weight': 8}. Best is trial 67 with value: 61.12148570487513.\u001b[0m\n",
      "\u001b[32m[I 2021-07-09 18:34:05,252]\u001b[0m Trial 83 finished with value: 62.45370396988168 and parameters: {'lambda': 0.07631044565411334, 'subsample': 0.737533923667801, 'max_depth': 14, 'min_child_weight': 24}. Best is trial 67 with value: 61.12148570487513.\u001b[0m\n",
      "\u001b[32m[I 2021-07-09 18:34:06,478]\u001b[0m Trial 84 finished with value: 62.47283313814448 and parameters: {'lambda': 0.08328528786271122, 'subsample': 0.6937020547271344, 'max_depth': 10, 'min_child_weight': 19}. Best is trial 67 with value: 61.12148570487513.\u001b[0m\n",
      "\u001b[32m[I 2021-07-09 18:34:10,683]\u001b[0m Trial 85 finished with value: 64.09316570587579 and parameters: {'lambda': 0.013020108887942425, 'subsample': 0.7095986384366539, 'max_depth': 18, 'min_child_weight': 1}. Best is trial 67 with value: 61.12148570487513.\u001b[0m\n",
      "\u001b[32m[I 2021-07-09 18:34:11,917]\u001b[0m Trial 86 finished with value: 61.33200984765153 and parameters: {'lambda': 0.055420919359519025, 'subsample': 0.675313750479487, 'max_depth': 11, 'min_child_weight': 8}. Best is trial 67 with value: 61.12148570487513.\u001b[0m\n",
      "\u001b[32m[I 2021-07-09 18:34:13,533]\u001b[0m Trial 87 finished with value: 64.00674223504673 and parameters: {'lambda': 0.04758841016395954, 'subsample': 0.6696017424855789, 'max_depth': 7, 'min_child_weight': 30}. Best is trial 67 with value: 61.12148570487513.\u001b[0m\n",
      "\u001b[32m[I 2021-07-09 18:34:14,899]\u001b[0m Trial 88 finished with value: 62.309062346569085 and parameters: {'lambda': 0.0529964360950499, 'subsample': 0.6300719474946507, 'max_depth': 11, 'min_child_weight': 19}. Best is trial 67 with value: 61.12148570487513.\u001b[0m\n",
      "\u001b[32m[I 2021-07-09 18:34:16,184]\u001b[0m Trial 89 finished with value: 63.75000164390269 and parameters: {'lambda': 0.061643405288768965, 'subsample': 0.7474537067274845, 'max_depth': 13, 'min_child_weight': 50}. Best is trial 67 with value: 61.12148570487513.\u001b[0m\n",
      "\u001b[32m[I 2021-07-09 18:34:17,367]\u001b[0m Trial 90 finished with value: 61.59660730309249 and parameters: {'lambda': 0.05672291356001309, 'subsample': 0.6616419284671347, 'max_depth': 10, 'min_child_weight': 9}. Best is trial 67 with value: 61.12148570487513.\u001b[0m\n",
      "\u001b[32m[I 2021-07-09 18:34:18,247]\u001b[0m Trial 91 finished with value: 61.94502556521589 and parameters: {'lambda': 0.06814285689934452, 'subsample': 0.6612581171154434, 'max_depth': 10, 'min_child_weight': 10}. Best is trial 67 with value: 61.12148570487513.\u001b[0m\n",
      "\u001b[32m[I 2021-07-09 18:34:19,190]\u001b[0m Trial 92 finished with value: 62.5385721533338 and parameters: {'lambda': 0.05661878585113517, 'subsample': 0.6422346020308434, 'max_depth': 9, 'min_child_weight': 14}. Best is trial 67 with value: 61.12148570487513.\u001b[0m\n",
      "\u001b[32m[I 2021-07-09 18:34:20,259]\u001b[0m Trial 93 finished with value: 61.739686913253195 and parameters: {'lambda': 0.07959010851047248, 'subsample': 0.7026636583635358, 'max_depth': 9, 'min_child_weight': 6}. Best is trial 67 with value: 61.12148570487513.\u001b[0m\n",
      "\u001b[32m[I 2021-07-09 18:34:22,327]\u001b[0m Trial 94 finished with value: 62.55977867716584 and parameters: {'lambda': 0.048030143742351566, 'subsample': 0.7068869886228437, 'max_depth': 9, 'min_child_weight': 1}. Best is trial 67 with value: 61.12148570487513.\u001b[0m\n",
      "\u001b[32m[I 2021-07-09 18:34:23,504]\u001b[0m Trial 95 finished with value: 62.12588022558729 and parameters: {'lambda': 0.0614809938417051, 'subsample': 0.724058577180846, 'max_depth': 8, 'min_child_weight': 21}. Best is trial 67 with value: 61.12148570487513.\u001b[0m\n"
     ]
    },
    {
     "name": "stderr",
     "output_type": "stream",
     "text": [
      "\u001b[32m[I 2021-07-09 18:34:25,027]\u001b[0m Trial 96 finished with value: 63.428979146546425 and parameters: {'lambda': 0.07110825519617572, 'subsample': 0.6725810938265009, 'max_depth': 11, 'min_child_weight': 39}. Best is trial 67 with value: 61.12148570487513.\u001b[0m\n",
      "\u001b[32m[I 2021-07-09 18:34:27,471]\u001b[0m Trial 97 finished with value: 63.128558459202885 and parameters: {'lambda': 0.039646758328010706, 'subsample': 0.7577460877118479, 'max_depth': 16, 'min_child_weight': 31}. Best is trial 67 with value: 61.12148570487513.\u001b[0m\n",
      "\u001b[32m[I 2021-07-09 18:34:28,660]\u001b[0m Trial 98 finished with value: 62.04946664683727 and parameters: {'lambda': 0.028050382521863954, 'subsample': 0.6529809146716476, 'max_depth': 12, 'min_child_weight': 6}. Best is trial 67 with value: 61.12148570487513.\u001b[0m\n",
      "\u001b[32m[I 2021-07-09 18:34:30,557]\u001b[0m Trial 99 finished with value: 62.937129173489566 and parameters: {'lambda': 0.021018888686276726, 'subsample': 0.701241173847251, 'max_depth': 3, 'min_child_weight': 22}. Best is trial 67 with value: 61.12148570487513.\u001b[0m\n"
     ]
    },
    {
     "name": "stdout",
     "output_type": "stream",
     "text": [
      "Number of finished trials: 100\n",
      "Best trial: {'lambda': 0.03845099065210128, 'subsample': 0.6843709136349125, 'max_depth': 10, 'min_child_weight': 11}\n"
     ]
    }
   ],
   "source": [
    "sampler = TPESampler(seed=42)\n",
    "study = optuna.create_study(direction=\"minimize\", sampler=sampler)\n",
    "study.optimize(objective, n_trials=100)\n",
    "print(\"Number of finished trials:\", len(study.trials))\n",
    "print(\"Best trial:\", study.best_trial.params)"
   ]
  },
  {
   "cell_type": "code",
   "execution_count": 34,
   "id": "17479577",
   "metadata": {},
   "outputs": [
    {
     "data": {
      "application/vnd.plotly.v1+json": {
       "config": {
        "plotlyServerURL": "https://plot.ly"
       },
       "data": [
        {
         "mode": "markers",
         "name": "Objective Value",
         "type": "scatter",
         "x": [
          0,
          1,
          2,
          3,
          4,
          5,
          6,
          7,
          8,
          9,
          10,
          11,
          12,
          13,
          14,
          15,
          16,
          17,
          18,
          19,
          20,
          21,
          22,
          23,
          24,
          25,
          26,
          27,
          28,
          29,
          30,
          31,
          32,
          33,
          34,
          35,
          36,
          37,
          38,
          39,
          40,
          41,
          42,
          43,
          44,
          45,
          46,
          47,
          48,
          49,
          50,
          51,
          52,
          53,
          54,
          55,
          56,
          57,
          58,
          59,
          60,
          61,
          62,
          63,
          64,
          65,
          66,
          67,
          68,
          69,
          70,
          71,
          72,
          73,
          74,
          75,
          76,
          77,
          78,
          79,
          80,
          81,
          82,
          83,
          84,
          85,
          86,
          87,
          88,
          89,
          90,
          91,
          92,
          93,
          94,
          95,
          96,
          97,
          98,
          99
         ],
         "y": [
          69.24352247543756,
          93.57701953866864,
          78.3061565588851,
          66.61411154731202,
          67.53438631342262,
          69.01549605901728,
          68.51173160616206,
          65.66172944379775,
          73.01051010216139,
          71.78423284035361,
          61.934331161541174,
          62.292409159201945,
          61.23874230147725,
          62.56034839350874,
          62.30234240563535,
          63.46690617345315,
          63.90844197563045,
          66.61846455948128,
          74.45130823462048,
          62.7074584539424,
          68.38159234484256,
          61.624013953446024,
          61.892333436407434,
          63.81318782574564,
          63.656162944287885,
          68.67109743402808,
          65.72287035778741,
          62.86887085635359,
          62.358616022773866,
          77.95282968763489,
          63.81448220943219,
          61.77207549500861,
          61.47306392732905,
          63.680284822843355,
          63.259008628887365,
          66.1863801229066,
          68.33788699998381,
          63.764692738569906,
          82.91439482125129,
          89.70474765840815,
          68.69451714615795,
          62.13111070243035,
          62.56125324734008,
          61.67383881036748,
          63.512987252757036,
          70.56599641241421,
          65.29369478594532,
          61.76463578155686,
          63.41402239298952,
          62.21313888591956,
          63.895069817811745,
          62.10867515058148,
          61.382917878377505,
          82.7913991179914,
          63.247834263585546,
          62.75622536200845,
          62.455718762308194,
          66.85397359942863,
          61.93508303099574,
          63.45755023850921,
          80.73760067428672,
          61.97015619014508,
          62.80380261668843,
          61.76794414625642,
          62.88202612966464,
          63.14910094118908,
          64.73369191628134,
          61.12148570487513,
          63.15189595512264,
          62.2553134517775,
          71.98668337658624,
          61.684579132670194,
          62.28569674096713,
          61.99595416580116,
          63.242278589069514,
          63.79079795542343,
          63.66532602889762,
          62.07818585601301,
          61.9523811340332,
          63.393686010034045,
          69.36124137751963,
          61.83560237568386,
          62.24695497586582,
          62.45370396988168,
          62.47283313814448,
          64.09316570587579,
          61.33200984765153,
          64.00674223504673,
          62.309062346569085,
          63.75000164390269,
          61.59660730309249,
          61.94502556521589,
          62.5385721533338,
          61.739686913253195,
          62.55977867716584,
          62.12588022558729,
          63.428979146546425,
          63.128558459202885,
          62.04946664683727,
          62.937129173489566
         ]
        },
        {
         "name": "Best Value",
         "type": "scatter",
         "x": [
          0,
          1,
          2,
          3,
          4,
          5,
          6,
          7,
          8,
          9,
          10,
          11,
          12,
          13,
          14,
          15,
          16,
          17,
          18,
          19,
          20,
          21,
          22,
          23,
          24,
          25,
          26,
          27,
          28,
          29,
          30,
          31,
          32,
          33,
          34,
          35,
          36,
          37,
          38,
          39,
          40,
          41,
          42,
          43,
          44,
          45,
          46,
          47,
          48,
          49,
          50,
          51,
          52,
          53,
          54,
          55,
          56,
          57,
          58,
          59,
          60,
          61,
          62,
          63,
          64,
          65,
          66,
          67,
          68,
          69,
          70,
          71,
          72,
          73,
          74,
          75,
          76,
          77,
          78,
          79,
          80,
          81,
          82,
          83,
          84,
          85,
          86,
          87,
          88,
          89,
          90,
          91,
          92,
          93,
          94,
          95,
          96,
          97,
          98,
          99
         ],
         "y": [
          69.24352247543756,
          69.24352247543756,
          69.24352247543756,
          66.61411154731202,
          66.61411154731202,
          66.61411154731202,
          66.61411154731202,
          65.66172944379775,
          65.66172944379775,
          65.66172944379775,
          61.934331161541174,
          61.934331161541174,
          61.23874230147725,
          61.23874230147725,
          61.23874230147725,
          61.23874230147725,
          61.23874230147725,
          61.23874230147725,
          61.23874230147725,
          61.23874230147725,
          61.23874230147725,
          61.23874230147725,
          61.23874230147725,
          61.23874230147725,
          61.23874230147725,
          61.23874230147725,
          61.23874230147725,
          61.23874230147725,
          61.23874230147725,
          61.23874230147725,
          61.23874230147725,
          61.23874230147725,
          61.23874230147725,
          61.23874230147725,
          61.23874230147725,
          61.23874230147725,
          61.23874230147725,
          61.23874230147725,
          61.23874230147725,
          61.23874230147725,
          61.23874230147725,
          61.23874230147725,
          61.23874230147725,
          61.23874230147725,
          61.23874230147725,
          61.23874230147725,
          61.23874230147725,
          61.23874230147725,
          61.23874230147725,
          61.23874230147725,
          61.23874230147725,
          61.23874230147725,
          61.23874230147725,
          61.23874230147725,
          61.23874230147725,
          61.23874230147725,
          61.23874230147725,
          61.23874230147725,
          61.23874230147725,
          61.23874230147725,
          61.23874230147725,
          61.23874230147725,
          61.23874230147725,
          61.23874230147725,
          61.23874230147725,
          61.23874230147725,
          61.23874230147725,
          61.12148570487513,
          61.12148570487513,
          61.12148570487513,
          61.12148570487513,
          61.12148570487513,
          61.12148570487513,
          61.12148570487513,
          61.12148570487513,
          61.12148570487513,
          61.12148570487513,
          61.12148570487513,
          61.12148570487513,
          61.12148570487513,
          61.12148570487513,
          61.12148570487513,
          61.12148570487513,
          61.12148570487513,
          61.12148570487513,
          61.12148570487513,
          61.12148570487513,
          61.12148570487513,
          61.12148570487513,
          61.12148570487513,
          61.12148570487513,
          61.12148570487513,
          61.12148570487513,
          61.12148570487513,
          61.12148570487513,
          61.12148570487513,
          61.12148570487513,
          61.12148570487513,
          61.12148570487513,
          61.12148570487513
         ]
        }
       ],
       "layout": {
        "template": {
         "data": {
          "bar": [
           {
            "error_x": {
             "color": "#2a3f5f"
            },
            "error_y": {
             "color": "#2a3f5f"
            },
            "marker": {
             "line": {
              "color": "#E5ECF6",
              "width": 0.5
             }
            },
            "type": "bar"
           }
          ],
          "barpolar": [
           {
            "marker": {
             "line": {
              "color": "#E5ECF6",
              "width": 0.5
             }
            },
            "type": "barpolar"
           }
          ],
          "carpet": [
           {
            "aaxis": {
             "endlinecolor": "#2a3f5f",
             "gridcolor": "white",
             "linecolor": "white",
             "minorgridcolor": "white",
             "startlinecolor": "#2a3f5f"
            },
            "baxis": {
             "endlinecolor": "#2a3f5f",
             "gridcolor": "white",
             "linecolor": "white",
             "minorgridcolor": "white",
             "startlinecolor": "#2a3f5f"
            },
            "type": "carpet"
           }
          ],
          "choropleth": [
           {
            "colorbar": {
             "outlinewidth": 0,
             "ticks": ""
            },
            "type": "choropleth"
           }
          ],
          "contour": [
           {
            "colorbar": {
             "outlinewidth": 0,
             "ticks": ""
            },
            "colorscale": [
             [
              0,
              "#0d0887"
             ],
             [
              0.1111111111111111,
              "#46039f"
             ],
             [
              0.2222222222222222,
              "#7201a8"
             ],
             [
              0.3333333333333333,
              "#9c179e"
             ],
             [
              0.4444444444444444,
              "#bd3786"
             ],
             [
              0.5555555555555556,
              "#d8576b"
             ],
             [
              0.6666666666666666,
              "#ed7953"
             ],
             [
              0.7777777777777778,
              "#fb9f3a"
             ],
             [
              0.8888888888888888,
              "#fdca26"
             ],
             [
              1,
              "#f0f921"
             ]
            ],
            "type": "contour"
           }
          ],
          "contourcarpet": [
           {
            "colorbar": {
             "outlinewidth": 0,
             "ticks": ""
            },
            "type": "contourcarpet"
           }
          ],
          "heatmap": [
           {
            "colorbar": {
             "outlinewidth": 0,
             "ticks": ""
            },
            "colorscale": [
             [
              0,
              "#0d0887"
             ],
             [
              0.1111111111111111,
              "#46039f"
             ],
             [
              0.2222222222222222,
              "#7201a8"
             ],
             [
              0.3333333333333333,
              "#9c179e"
             ],
             [
              0.4444444444444444,
              "#bd3786"
             ],
             [
              0.5555555555555556,
              "#d8576b"
             ],
             [
              0.6666666666666666,
              "#ed7953"
             ],
             [
              0.7777777777777778,
              "#fb9f3a"
             ],
             [
              0.8888888888888888,
              "#fdca26"
             ],
             [
              1,
              "#f0f921"
             ]
            ],
            "type": "heatmap"
           }
          ],
          "heatmapgl": [
           {
            "colorbar": {
             "outlinewidth": 0,
             "ticks": ""
            },
            "colorscale": [
             [
              0,
              "#0d0887"
             ],
             [
              0.1111111111111111,
              "#46039f"
             ],
             [
              0.2222222222222222,
              "#7201a8"
             ],
             [
              0.3333333333333333,
              "#9c179e"
             ],
             [
              0.4444444444444444,
              "#bd3786"
             ],
             [
              0.5555555555555556,
              "#d8576b"
             ],
             [
              0.6666666666666666,
              "#ed7953"
             ],
             [
              0.7777777777777778,
              "#fb9f3a"
             ],
             [
              0.8888888888888888,
              "#fdca26"
             ],
             [
              1,
              "#f0f921"
             ]
            ],
            "type": "heatmapgl"
           }
          ],
          "histogram": [
           {
            "marker": {
             "colorbar": {
              "outlinewidth": 0,
              "ticks": ""
             }
            },
            "type": "histogram"
           }
          ],
          "histogram2d": [
           {
            "colorbar": {
             "outlinewidth": 0,
             "ticks": ""
            },
            "colorscale": [
             [
              0,
              "#0d0887"
             ],
             [
              0.1111111111111111,
              "#46039f"
             ],
             [
              0.2222222222222222,
              "#7201a8"
             ],
             [
              0.3333333333333333,
              "#9c179e"
             ],
             [
              0.4444444444444444,
              "#bd3786"
             ],
             [
              0.5555555555555556,
              "#d8576b"
             ],
             [
              0.6666666666666666,
              "#ed7953"
             ],
             [
              0.7777777777777778,
              "#fb9f3a"
             ],
             [
              0.8888888888888888,
              "#fdca26"
             ],
             [
              1,
              "#f0f921"
             ]
            ],
            "type": "histogram2d"
           }
          ],
          "histogram2dcontour": [
           {
            "colorbar": {
             "outlinewidth": 0,
             "ticks": ""
            },
            "colorscale": [
             [
              0,
              "#0d0887"
             ],
             [
              0.1111111111111111,
              "#46039f"
             ],
             [
              0.2222222222222222,
              "#7201a8"
             ],
             [
              0.3333333333333333,
              "#9c179e"
             ],
             [
              0.4444444444444444,
              "#bd3786"
             ],
             [
              0.5555555555555556,
              "#d8576b"
             ],
             [
              0.6666666666666666,
              "#ed7953"
             ],
             [
              0.7777777777777778,
              "#fb9f3a"
             ],
             [
              0.8888888888888888,
              "#fdca26"
             ],
             [
              1,
              "#f0f921"
             ]
            ],
            "type": "histogram2dcontour"
           }
          ],
          "mesh3d": [
           {
            "colorbar": {
             "outlinewidth": 0,
             "ticks": ""
            },
            "type": "mesh3d"
           }
          ],
          "parcoords": [
           {
            "line": {
             "colorbar": {
              "outlinewidth": 0,
              "ticks": ""
             }
            },
            "type": "parcoords"
           }
          ],
          "pie": [
           {
            "automargin": true,
            "type": "pie"
           }
          ],
          "scatter": [
           {
            "marker": {
             "colorbar": {
              "outlinewidth": 0,
              "ticks": ""
             }
            },
            "type": "scatter"
           }
          ],
          "scatter3d": [
           {
            "line": {
             "colorbar": {
              "outlinewidth": 0,
              "ticks": ""
             }
            },
            "marker": {
             "colorbar": {
              "outlinewidth": 0,
              "ticks": ""
             }
            },
            "type": "scatter3d"
           }
          ],
          "scattercarpet": [
           {
            "marker": {
             "colorbar": {
              "outlinewidth": 0,
              "ticks": ""
             }
            },
            "type": "scattercarpet"
           }
          ],
          "scattergeo": [
           {
            "marker": {
             "colorbar": {
              "outlinewidth": 0,
              "ticks": ""
             }
            },
            "type": "scattergeo"
           }
          ],
          "scattergl": [
           {
            "marker": {
             "colorbar": {
              "outlinewidth": 0,
              "ticks": ""
             }
            },
            "type": "scattergl"
           }
          ],
          "scattermapbox": [
           {
            "marker": {
             "colorbar": {
              "outlinewidth": 0,
              "ticks": ""
             }
            },
            "type": "scattermapbox"
           }
          ],
          "scatterpolar": [
           {
            "marker": {
             "colorbar": {
              "outlinewidth": 0,
              "ticks": ""
             }
            },
            "type": "scatterpolar"
           }
          ],
          "scatterpolargl": [
           {
            "marker": {
             "colorbar": {
              "outlinewidth": 0,
              "ticks": ""
             }
            },
            "type": "scatterpolargl"
           }
          ],
          "scatterternary": [
           {
            "marker": {
             "colorbar": {
              "outlinewidth": 0,
              "ticks": ""
             }
            },
            "type": "scatterternary"
           }
          ],
          "surface": [
           {
            "colorbar": {
             "outlinewidth": 0,
             "ticks": ""
            },
            "colorscale": [
             [
              0,
              "#0d0887"
             ],
             [
              0.1111111111111111,
              "#46039f"
             ],
             [
              0.2222222222222222,
              "#7201a8"
             ],
             [
              0.3333333333333333,
              "#9c179e"
             ],
             [
              0.4444444444444444,
              "#bd3786"
             ],
             [
              0.5555555555555556,
              "#d8576b"
             ],
             [
              0.6666666666666666,
              "#ed7953"
             ],
             [
              0.7777777777777778,
              "#fb9f3a"
             ],
             [
              0.8888888888888888,
              "#fdca26"
             ],
             [
              1,
              "#f0f921"
             ]
            ],
            "type": "surface"
           }
          ],
          "table": [
           {
            "cells": {
             "fill": {
              "color": "#EBF0F8"
             },
             "line": {
              "color": "white"
             }
            },
            "header": {
             "fill": {
              "color": "#C8D4E3"
             },
             "line": {
              "color": "white"
             }
            },
            "type": "table"
           }
          ]
         },
         "layout": {
          "annotationdefaults": {
           "arrowcolor": "#2a3f5f",
           "arrowhead": 0,
           "arrowwidth": 1
          },
          "autotypenumbers": "strict",
          "coloraxis": {
           "colorbar": {
            "outlinewidth": 0,
            "ticks": ""
           }
          },
          "colorscale": {
           "diverging": [
            [
             0,
             "#8e0152"
            ],
            [
             0.1,
             "#c51b7d"
            ],
            [
             0.2,
             "#de77ae"
            ],
            [
             0.3,
             "#f1b6da"
            ],
            [
             0.4,
             "#fde0ef"
            ],
            [
             0.5,
             "#f7f7f7"
            ],
            [
             0.6,
             "#e6f5d0"
            ],
            [
             0.7,
             "#b8e186"
            ],
            [
             0.8,
             "#7fbc41"
            ],
            [
             0.9,
             "#4d9221"
            ],
            [
             1,
             "#276419"
            ]
           ],
           "sequential": [
            [
             0,
             "#0d0887"
            ],
            [
             0.1111111111111111,
             "#46039f"
            ],
            [
             0.2222222222222222,
             "#7201a8"
            ],
            [
             0.3333333333333333,
             "#9c179e"
            ],
            [
             0.4444444444444444,
             "#bd3786"
            ],
            [
             0.5555555555555556,
             "#d8576b"
            ],
            [
             0.6666666666666666,
             "#ed7953"
            ],
            [
             0.7777777777777778,
             "#fb9f3a"
            ],
            [
             0.8888888888888888,
             "#fdca26"
            ],
            [
             1,
             "#f0f921"
            ]
           ],
           "sequentialminus": [
            [
             0,
             "#0d0887"
            ],
            [
             0.1111111111111111,
             "#46039f"
            ],
            [
             0.2222222222222222,
             "#7201a8"
            ],
            [
             0.3333333333333333,
             "#9c179e"
            ],
            [
             0.4444444444444444,
             "#bd3786"
            ],
            [
             0.5555555555555556,
             "#d8576b"
            ],
            [
             0.6666666666666666,
             "#ed7953"
            ],
            [
             0.7777777777777778,
             "#fb9f3a"
            ],
            [
             0.8888888888888888,
             "#fdca26"
            ],
            [
             1,
             "#f0f921"
            ]
           ]
          },
          "colorway": [
           "#636efa",
           "#EF553B",
           "#00cc96",
           "#ab63fa",
           "#FFA15A",
           "#19d3f3",
           "#FF6692",
           "#B6E880",
           "#FF97FF",
           "#FECB52"
          ],
          "font": {
           "color": "#2a3f5f"
          },
          "geo": {
           "bgcolor": "white",
           "lakecolor": "white",
           "landcolor": "#E5ECF6",
           "showlakes": true,
           "showland": true,
           "subunitcolor": "white"
          },
          "hoverlabel": {
           "align": "left"
          },
          "hovermode": "closest",
          "mapbox": {
           "style": "light"
          },
          "paper_bgcolor": "white",
          "plot_bgcolor": "#E5ECF6",
          "polar": {
           "angularaxis": {
            "gridcolor": "white",
            "linecolor": "white",
            "ticks": ""
           },
           "bgcolor": "#E5ECF6",
           "radialaxis": {
            "gridcolor": "white",
            "linecolor": "white",
            "ticks": ""
           }
          },
          "scene": {
           "xaxis": {
            "backgroundcolor": "#E5ECF6",
            "gridcolor": "white",
            "gridwidth": 2,
            "linecolor": "white",
            "showbackground": true,
            "ticks": "",
            "zerolinecolor": "white"
           },
           "yaxis": {
            "backgroundcolor": "#E5ECF6",
            "gridcolor": "white",
            "gridwidth": 2,
            "linecolor": "white",
            "showbackground": true,
            "ticks": "",
            "zerolinecolor": "white"
           },
           "zaxis": {
            "backgroundcolor": "#E5ECF6",
            "gridcolor": "white",
            "gridwidth": 2,
            "linecolor": "white",
            "showbackground": true,
            "ticks": "",
            "zerolinecolor": "white"
           }
          },
          "shapedefaults": {
           "line": {
            "color": "#2a3f5f"
           }
          },
          "ternary": {
           "aaxis": {
            "gridcolor": "white",
            "linecolor": "white",
            "ticks": ""
           },
           "baxis": {
            "gridcolor": "white",
            "linecolor": "white",
            "ticks": ""
           },
           "bgcolor": "#E5ECF6",
           "caxis": {
            "gridcolor": "white",
            "linecolor": "white",
            "ticks": ""
           }
          },
          "title": {
           "x": 0.05
          },
          "xaxis": {
           "automargin": true,
           "gridcolor": "white",
           "linecolor": "white",
           "ticks": "",
           "title": {
            "standoff": 15
           },
           "zerolinecolor": "white",
           "zerolinewidth": 2
          },
          "yaxis": {
           "automargin": true,
           "gridcolor": "white",
           "linecolor": "white",
           "ticks": "",
           "title": {
            "standoff": 15
           },
           "zerolinecolor": "white",
           "zerolinewidth": 2
          }
         }
        },
        "title": {
         "text": "Optimization History Plot"
        },
        "xaxis": {
         "title": {
          "text": "#Trials"
         }
        },
        "yaxis": {
         "title": {
          "text": "Objective Value"
         }
        }
       }
      },
      "text/html": [
       "<div>                            <div id=\"0a640c6a-e0fa-4704-a821-52f8207aa438\" class=\"plotly-graph-div\" style=\"height:525px; width:100%;\"></div>            <script type=\"text/javascript\">                require([\"plotly\"], function(Plotly) {                    window.PLOTLYENV=window.PLOTLYENV || {};                                    if (document.getElementById(\"0a640c6a-e0fa-4704-a821-52f8207aa438\")) {                    Plotly.newPlot(                        \"0a640c6a-e0fa-4704-a821-52f8207aa438\",                        [{\"mode\": \"markers\", \"name\": \"Objective Value\", \"type\": \"scatter\", \"x\": [0, 1, 2, 3, 4, 5, 6, 7, 8, 9, 10, 11, 12, 13, 14, 15, 16, 17, 18, 19, 20, 21, 22, 23, 24, 25, 26, 27, 28, 29, 30, 31, 32, 33, 34, 35, 36, 37, 38, 39, 40, 41, 42, 43, 44, 45, 46, 47, 48, 49, 50, 51, 52, 53, 54, 55, 56, 57, 58, 59, 60, 61, 62, 63, 64, 65, 66, 67, 68, 69, 70, 71, 72, 73, 74, 75, 76, 77, 78, 79, 80, 81, 82, 83, 84, 85, 86, 87, 88, 89, 90, 91, 92, 93, 94, 95, 96, 97, 98, 99], \"y\": [69.24352247543756, 93.57701953866864, 78.3061565588851, 66.61411154731202, 67.53438631342262, 69.01549605901728, 68.51173160616206, 65.66172944379775, 73.01051010216139, 71.78423284035361, 61.934331161541174, 62.292409159201945, 61.23874230147725, 62.56034839350874, 62.30234240563535, 63.46690617345315, 63.90844197563045, 66.61846455948128, 74.45130823462048, 62.7074584539424, 68.38159234484256, 61.624013953446024, 61.892333436407434, 63.81318782574564, 63.656162944287885, 68.67109743402808, 65.72287035778741, 62.86887085635359, 62.358616022773866, 77.95282968763489, 63.81448220943219, 61.77207549500861, 61.47306392732905, 63.680284822843355, 63.259008628887365, 66.1863801229066, 68.33788699998381, 63.764692738569906, 82.91439482125129, 89.70474765840815, 68.69451714615795, 62.13111070243035, 62.56125324734008, 61.67383881036748, 63.512987252757036, 70.56599641241421, 65.29369478594532, 61.76463578155686, 63.41402239298952, 62.21313888591956, 63.895069817811745, 62.10867515058148, 61.382917878377505, 82.7913991179914, 63.247834263585546, 62.75622536200845, 62.455718762308194, 66.85397359942863, 61.93508303099574, 63.45755023850921, 80.73760067428672, 61.97015619014508, 62.80380261668843, 61.76794414625642, 62.88202612966464, 63.14910094118908, 64.73369191628134, 61.12148570487513, 63.15189595512264, 62.2553134517775, 71.98668337658624, 61.684579132670194, 62.28569674096713, 61.99595416580116, 63.242278589069514, 63.79079795542343, 63.66532602889762, 62.07818585601301, 61.9523811340332, 63.393686010034045, 69.36124137751963, 61.83560237568386, 62.24695497586582, 62.45370396988168, 62.47283313814448, 64.09316570587579, 61.33200984765153, 64.00674223504673, 62.309062346569085, 63.75000164390269, 61.59660730309249, 61.94502556521589, 62.5385721533338, 61.739686913253195, 62.55977867716584, 62.12588022558729, 63.428979146546425, 63.128558459202885, 62.04946664683727, 62.937129173489566]}, {\"name\": \"Best Value\", \"type\": \"scatter\", \"x\": [0, 1, 2, 3, 4, 5, 6, 7, 8, 9, 10, 11, 12, 13, 14, 15, 16, 17, 18, 19, 20, 21, 22, 23, 24, 25, 26, 27, 28, 29, 30, 31, 32, 33, 34, 35, 36, 37, 38, 39, 40, 41, 42, 43, 44, 45, 46, 47, 48, 49, 50, 51, 52, 53, 54, 55, 56, 57, 58, 59, 60, 61, 62, 63, 64, 65, 66, 67, 68, 69, 70, 71, 72, 73, 74, 75, 76, 77, 78, 79, 80, 81, 82, 83, 84, 85, 86, 87, 88, 89, 90, 91, 92, 93, 94, 95, 96, 97, 98, 99], \"y\": [69.24352247543756, 69.24352247543756, 69.24352247543756, 66.61411154731202, 66.61411154731202, 66.61411154731202, 66.61411154731202, 65.66172944379775, 65.66172944379775, 65.66172944379775, 61.934331161541174, 61.934331161541174, 61.23874230147725, 61.23874230147725, 61.23874230147725, 61.23874230147725, 61.23874230147725, 61.23874230147725, 61.23874230147725, 61.23874230147725, 61.23874230147725, 61.23874230147725, 61.23874230147725, 61.23874230147725, 61.23874230147725, 61.23874230147725, 61.23874230147725, 61.23874230147725, 61.23874230147725, 61.23874230147725, 61.23874230147725, 61.23874230147725, 61.23874230147725, 61.23874230147725, 61.23874230147725, 61.23874230147725, 61.23874230147725, 61.23874230147725, 61.23874230147725, 61.23874230147725, 61.23874230147725, 61.23874230147725, 61.23874230147725, 61.23874230147725, 61.23874230147725, 61.23874230147725, 61.23874230147725, 61.23874230147725, 61.23874230147725, 61.23874230147725, 61.23874230147725, 61.23874230147725, 61.23874230147725, 61.23874230147725, 61.23874230147725, 61.23874230147725, 61.23874230147725, 61.23874230147725, 61.23874230147725, 61.23874230147725, 61.23874230147725, 61.23874230147725, 61.23874230147725, 61.23874230147725, 61.23874230147725, 61.23874230147725, 61.23874230147725, 61.12148570487513, 61.12148570487513, 61.12148570487513, 61.12148570487513, 61.12148570487513, 61.12148570487513, 61.12148570487513, 61.12148570487513, 61.12148570487513, 61.12148570487513, 61.12148570487513, 61.12148570487513, 61.12148570487513, 61.12148570487513, 61.12148570487513, 61.12148570487513, 61.12148570487513, 61.12148570487513, 61.12148570487513, 61.12148570487513, 61.12148570487513, 61.12148570487513, 61.12148570487513, 61.12148570487513, 61.12148570487513, 61.12148570487513, 61.12148570487513, 61.12148570487513, 61.12148570487513, 61.12148570487513, 61.12148570487513, 61.12148570487513, 61.12148570487513]}],                        {\"template\": {\"data\": {\"bar\": [{\"error_x\": {\"color\": \"#2a3f5f\"}, \"error_y\": {\"color\": \"#2a3f5f\"}, \"marker\": {\"line\": {\"color\": \"#E5ECF6\", \"width\": 0.5}}, \"type\": \"bar\"}], \"barpolar\": [{\"marker\": {\"line\": {\"color\": \"#E5ECF6\", \"width\": 0.5}}, \"type\": \"barpolar\"}], \"carpet\": [{\"aaxis\": {\"endlinecolor\": \"#2a3f5f\", \"gridcolor\": \"white\", \"linecolor\": \"white\", \"minorgridcolor\": \"white\", \"startlinecolor\": \"#2a3f5f\"}, \"baxis\": {\"endlinecolor\": \"#2a3f5f\", \"gridcolor\": \"white\", \"linecolor\": \"white\", \"minorgridcolor\": \"white\", \"startlinecolor\": \"#2a3f5f\"}, \"type\": \"carpet\"}], \"choropleth\": [{\"colorbar\": {\"outlinewidth\": 0, \"ticks\": \"\"}, \"type\": \"choropleth\"}], \"contour\": [{\"colorbar\": {\"outlinewidth\": 0, \"ticks\": \"\"}, \"colorscale\": [[0.0, \"#0d0887\"], [0.1111111111111111, \"#46039f\"], [0.2222222222222222, \"#7201a8\"], [0.3333333333333333, \"#9c179e\"], [0.4444444444444444, \"#bd3786\"], [0.5555555555555556, \"#d8576b\"], [0.6666666666666666, \"#ed7953\"], [0.7777777777777778, \"#fb9f3a\"], [0.8888888888888888, \"#fdca26\"], [1.0, \"#f0f921\"]], \"type\": \"contour\"}], \"contourcarpet\": [{\"colorbar\": {\"outlinewidth\": 0, \"ticks\": \"\"}, \"type\": \"contourcarpet\"}], \"heatmap\": [{\"colorbar\": {\"outlinewidth\": 0, \"ticks\": \"\"}, \"colorscale\": [[0.0, \"#0d0887\"], [0.1111111111111111, \"#46039f\"], [0.2222222222222222, \"#7201a8\"], [0.3333333333333333, \"#9c179e\"], [0.4444444444444444, \"#bd3786\"], [0.5555555555555556, \"#d8576b\"], [0.6666666666666666, \"#ed7953\"], [0.7777777777777778, \"#fb9f3a\"], [0.8888888888888888, \"#fdca26\"], [1.0, \"#f0f921\"]], \"type\": \"heatmap\"}], \"heatmapgl\": [{\"colorbar\": {\"outlinewidth\": 0, \"ticks\": \"\"}, \"colorscale\": [[0.0, \"#0d0887\"], [0.1111111111111111, \"#46039f\"], [0.2222222222222222, \"#7201a8\"], [0.3333333333333333, \"#9c179e\"], [0.4444444444444444, \"#bd3786\"], [0.5555555555555556, \"#d8576b\"], [0.6666666666666666, \"#ed7953\"], [0.7777777777777778, \"#fb9f3a\"], [0.8888888888888888, \"#fdca26\"], [1.0, \"#f0f921\"]], \"type\": \"heatmapgl\"}], \"histogram\": [{\"marker\": {\"colorbar\": {\"outlinewidth\": 0, \"ticks\": \"\"}}, \"type\": \"histogram\"}], \"histogram2d\": [{\"colorbar\": {\"outlinewidth\": 0, \"ticks\": \"\"}, \"colorscale\": [[0.0, \"#0d0887\"], [0.1111111111111111, \"#46039f\"], [0.2222222222222222, \"#7201a8\"], [0.3333333333333333, \"#9c179e\"], [0.4444444444444444, \"#bd3786\"], [0.5555555555555556, \"#d8576b\"], [0.6666666666666666, \"#ed7953\"], [0.7777777777777778, \"#fb9f3a\"], [0.8888888888888888, \"#fdca26\"], [1.0, \"#f0f921\"]], \"type\": \"histogram2d\"}], \"histogram2dcontour\": [{\"colorbar\": {\"outlinewidth\": 0, \"ticks\": \"\"}, \"colorscale\": [[0.0, \"#0d0887\"], [0.1111111111111111, \"#46039f\"], [0.2222222222222222, \"#7201a8\"], [0.3333333333333333, \"#9c179e\"], [0.4444444444444444, \"#bd3786\"], [0.5555555555555556, \"#d8576b\"], [0.6666666666666666, \"#ed7953\"], [0.7777777777777778, \"#fb9f3a\"], [0.8888888888888888, \"#fdca26\"], [1.0, \"#f0f921\"]], \"type\": \"histogram2dcontour\"}], \"mesh3d\": [{\"colorbar\": {\"outlinewidth\": 0, \"ticks\": \"\"}, \"type\": \"mesh3d\"}], \"parcoords\": [{\"line\": {\"colorbar\": {\"outlinewidth\": 0, \"ticks\": \"\"}}, \"type\": \"parcoords\"}], \"pie\": [{\"automargin\": true, \"type\": \"pie\"}], \"scatter\": [{\"marker\": {\"colorbar\": {\"outlinewidth\": 0, \"ticks\": \"\"}}, \"type\": \"scatter\"}], \"scatter3d\": [{\"line\": {\"colorbar\": {\"outlinewidth\": 0, \"ticks\": \"\"}}, \"marker\": {\"colorbar\": {\"outlinewidth\": 0, \"ticks\": \"\"}}, \"type\": \"scatter3d\"}], \"scattercarpet\": [{\"marker\": {\"colorbar\": {\"outlinewidth\": 0, \"ticks\": \"\"}}, \"type\": \"scattercarpet\"}], \"scattergeo\": [{\"marker\": {\"colorbar\": {\"outlinewidth\": 0, \"ticks\": \"\"}}, \"type\": \"scattergeo\"}], \"scattergl\": [{\"marker\": {\"colorbar\": {\"outlinewidth\": 0, \"ticks\": \"\"}}, \"type\": \"scattergl\"}], \"scattermapbox\": [{\"marker\": {\"colorbar\": {\"outlinewidth\": 0, \"ticks\": \"\"}}, \"type\": \"scattermapbox\"}], \"scatterpolar\": [{\"marker\": {\"colorbar\": {\"outlinewidth\": 0, \"ticks\": \"\"}}, \"type\": \"scatterpolar\"}], \"scatterpolargl\": [{\"marker\": {\"colorbar\": {\"outlinewidth\": 0, \"ticks\": \"\"}}, \"type\": \"scatterpolargl\"}], \"scatterternary\": [{\"marker\": {\"colorbar\": {\"outlinewidth\": 0, \"ticks\": \"\"}}, \"type\": \"scatterternary\"}], \"surface\": [{\"colorbar\": {\"outlinewidth\": 0, \"ticks\": \"\"}, \"colorscale\": [[0.0, \"#0d0887\"], [0.1111111111111111, \"#46039f\"], [0.2222222222222222, \"#7201a8\"], [0.3333333333333333, \"#9c179e\"], [0.4444444444444444, \"#bd3786\"], [0.5555555555555556, \"#d8576b\"], [0.6666666666666666, \"#ed7953\"], [0.7777777777777778, \"#fb9f3a\"], [0.8888888888888888, \"#fdca26\"], [1.0, \"#f0f921\"]], \"type\": \"surface\"}], \"table\": [{\"cells\": {\"fill\": {\"color\": \"#EBF0F8\"}, \"line\": {\"color\": \"white\"}}, \"header\": {\"fill\": {\"color\": \"#C8D4E3\"}, \"line\": {\"color\": \"white\"}}, \"type\": \"table\"}]}, \"layout\": {\"annotationdefaults\": {\"arrowcolor\": \"#2a3f5f\", \"arrowhead\": 0, \"arrowwidth\": 1}, \"autotypenumbers\": \"strict\", \"coloraxis\": {\"colorbar\": {\"outlinewidth\": 0, \"ticks\": \"\"}}, \"colorscale\": {\"diverging\": [[0, \"#8e0152\"], [0.1, \"#c51b7d\"], [0.2, \"#de77ae\"], [0.3, \"#f1b6da\"], [0.4, \"#fde0ef\"], [0.5, \"#f7f7f7\"], [0.6, \"#e6f5d0\"], [0.7, \"#b8e186\"], [0.8, \"#7fbc41\"], [0.9, \"#4d9221\"], [1, \"#276419\"]], \"sequential\": [[0.0, \"#0d0887\"], [0.1111111111111111, \"#46039f\"], [0.2222222222222222, \"#7201a8\"], [0.3333333333333333, \"#9c179e\"], [0.4444444444444444, \"#bd3786\"], [0.5555555555555556, \"#d8576b\"], [0.6666666666666666, \"#ed7953\"], [0.7777777777777778, \"#fb9f3a\"], [0.8888888888888888, \"#fdca26\"], [1.0, \"#f0f921\"]], \"sequentialminus\": [[0.0, \"#0d0887\"], [0.1111111111111111, \"#46039f\"], [0.2222222222222222, \"#7201a8\"], [0.3333333333333333, \"#9c179e\"], [0.4444444444444444, \"#bd3786\"], [0.5555555555555556, \"#d8576b\"], [0.6666666666666666, \"#ed7953\"], [0.7777777777777778, \"#fb9f3a\"], [0.8888888888888888, \"#fdca26\"], [1.0, \"#f0f921\"]]}, \"colorway\": [\"#636efa\", \"#EF553B\", \"#00cc96\", \"#ab63fa\", \"#FFA15A\", \"#19d3f3\", \"#FF6692\", \"#B6E880\", \"#FF97FF\", \"#FECB52\"], \"font\": {\"color\": \"#2a3f5f\"}, \"geo\": {\"bgcolor\": \"white\", \"lakecolor\": \"white\", \"landcolor\": \"#E5ECF6\", \"showlakes\": true, \"showland\": true, \"subunitcolor\": \"white\"}, \"hoverlabel\": {\"align\": \"left\"}, \"hovermode\": \"closest\", \"mapbox\": {\"style\": \"light\"}, \"paper_bgcolor\": \"white\", \"plot_bgcolor\": \"#E5ECF6\", \"polar\": {\"angularaxis\": {\"gridcolor\": \"white\", \"linecolor\": \"white\", \"ticks\": \"\"}, \"bgcolor\": \"#E5ECF6\", \"radialaxis\": {\"gridcolor\": \"white\", \"linecolor\": \"white\", \"ticks\": \"\"}}, \"scene\": {\"xaxis\": {\"backgroundcolor\": \"#E5ECF6\", \"gridcolor\": \"white\", \"gridwidth\": 2, \"linecolor\": \"white\", \"showbackground\": true, \"ticks\": \"\", \"zerolinecolor\": \"white\"}, \"yaxis\": {\"backgroundcolor\": \"#E5ECF6\", \"gridcolor\": \"white\", \"gridwidth\": 2, \"linecolor\": \"white\", \"showbackground\": true, \"ticks\": \"\", \"zerolinecolor\": \"white\"}, \"zaxis\": {\"backgroundcolor\": \"#E5ECF6\", \"gridcolor\": \"white\", \"gridwidth\": 2, \"linecolor\": \"white\", \"showbackground\": true, \"ticks\": \"\", \"zerolinecolor\": \"white\"}}, \"shapedefaults\": {\"line\": {\"color\": \"#2a3f5f\"}}, \"ternary\": {\"aaxis\": {\"gridcolor\": \"white\", \"linecolor\": \"white\", \"ticks\": \"\"}, \"baxis\": {\"gridcolor\": \"white\", \"linecolor\": \"white\", \"ticks\": \"\"}, \"bgcolor\": \"#E5ECF6\", \"caxis\": {\"gridcolor\": \"white\", \"linecolor\": \"white\", \"ticks\": \"\"}}, \"title\": {\"x\": 0.05}, \"xaxis\": {\"automargin\": true, \"gridcolor\": \"white\", \"linecolor\": \"white\", \"ticks\": \"\", \"title\": {\"standoff\": 15}, \"zerolinecolor\": \"white\", \"zerolinewidth\": 2}, \"yaxis\": {\"automargin\": true, \"gridcolor\": \"white\", \"linecolor\": \"white\", \"ticks\": \"\", \"title\": {\"standoff\": 15}, \"zerolinecolor\": \"white\", \"zerolinewidth\": 2}}}, \"title\": {\"text\": \"Optimization History Plot\"}, \"xaxis\": {\"title\": {\"text\": \"#Trials\"}}, \"yaxis\": {\"title\": {\"text\": \"Objective Value\"}}},                        {\"responsive\": true}                    ).then(function(){\n",
       "                            \n",
       "var gd = document.getElementById('0a640c6a-e0fa-4704-a821-52f8207aa438');\n",
       "var x = new MutationObserver(function (mutations, observer) {{\n",
       "        var display = window.getComputedStyle(gd).display;\n",
       "        if (!display || display === 'none') {{\n",
       "            console.log([gd, 'removed!']);\n",
       "            Plotly.purge(gd);\n",
       "            observer.disconnect();\n",
       "        }}\n",
       "}});\n",
       "\n",
       "// Listen for the removal of the full notebook cells\n",
       "var notebookContainer = gd.closest('#notebook-container');\n",
       "if (notebookContainer) {{\n",
       "    x.observe(notebookContainer, {childList: true});\n",
       "}}\n",
       "\n",
       "// Listen for the clearing of the current output cell\n",
       "var outputEl = gd.closest('.output');\n",
       "if (outputEl) {{\n",
       "    x.observe(outputEl, {childList: true});\n",
       "}}\n",
       "\n",
       "                        })                };                });            </script>        </div>"
      ]
     },
     "metadata": {},
     "output_type": "display_data"
    }
   ],
   "source": [
    "# 시각화\n",
    "optuna.visualization.plot_optimization_history(study)"
   ]
  },
  {
   "cell_type": "code",
   "execution_count": 35,
   "id": "02c96c9b",
   "metadata": {},
   "outputs": [
    {
     "data": {
      "application/vnd.plotly.v1+json": {
       "config": {
        "plotlyServerURL": "https://plot.ly"
       },
       "data": [
        {
         "cliponaxis": false,
         "hovertemplate": [
          "lambda (LogUniformDistribution): 0.009495498274657049<extra></extra>",
          "max_depth (IntUniformDistribution): 0.014442476041240628<extra></extra>",
          "subsample (UniformDistribution): 0.040974073919194255<extra></extra>",
          "min_child_weight (IntUniformDistribution): 0.935087951764908<extra></extra>"
         ],
         "marker": {
          "color": "rgb(66,146,198)"
         },
         "orientation": "h",
         "text": [
          "0.009495498274657049",
          "0.014442476041240628",
          "0.040974073919194255",
          "0.935087951764908"
         ],
         "textposition": "outside",
         "texttemplate": "%{text:.2f}",
         "type": "bar",
         "x": [
          0.009495498274657049,
          0.014442476041240628,
          0.040974073919194255,
          0.935087951764908
         ],
         "y": [
          "lambda",
          "max_depth",
          "subsample",
          "min_child_weight"
         ]
        }
       ],
       "layout": {
        "showlegend": false,
        "template": {
         "data": {
          "bar": [
           {
            "error_x": {
             "color": "#2a3f5f"
            },
            "error_y": {
             "color": "#2a3f5f"
            },
            "marker": {
             "line": {
              "color": "#E5ECF6",
              "width": 0.5
             }
            },
            "type": "bar"
           }
          ],
          "barpolar": [
           {
            "marker": {
             "line": {
              "color": "#E5ECF6",
              "width": 0.5
             }
            },
            "type": "barpolar"
           }
          ],
          "carpet": [
           {
            "aaxis": {
             "endlinecolor": "#2a3f5f",
             "gridcolor": "white",
             "linecolor": "white",
             "minorgridcolor": "white",
             "startlinecolor": "#2a3f5f"
            },
            "baxis": {
             "endlinecolor": "#2a3f5f",
             "gridcolor": "white",
             "linecolor": "white",
             "minorgridcolor": "white",
             "startlinecolor": "#2a3f5f"
            },
            "type": "carpet"
           }
          ],
          "choropleth": [
           {
            "colorbar": {
             "outlinewidth": 0,
             "ticks": ""
            },
            "type": "choropleth"
           }
          ],
          "contour": [
           {
            "colorbar": {
             "outlinewidth": 0,
             "ticks": ""
            },
            "colorscale": [
             [
              0,
              "#0d0887"
             ],
             [
              0.1111111111111111,
              "#46039f"
             ],
             [
              0.2222222222222222,
              "#7201a8"
             ],
             [
              0.3333333333333333,
              "#9c179e"
             ],
             [
              0.4444444444444444,
              "#bd3786"
             ],
             [
              0.5555555555555556,
              "#d8576b"
             ],
             [
              0.6666666666666666,
              "#ed7953"
             ],
             [
              0.7777777777777778,
              "#fb9f3a"
             ],
             [
              0.8888888888888888,
              "#fdca26"
             ],
             [
              1,
              "#f0f921"
             ]
            ],
            "type": "contour"
           }
          ],
          "contourcarpet": [
           {
            "colorbar": {
             "outlinewidth": 0,
             "ticks": ""
            },
            "type": "contourcarpet"
           }
          ],
          "heatmap": [
           {
            "colorbar": {
             "outlinewidth": 0,
             "ticks": ""
            },
            "colorscale": [
             [
              0,
              "#0d0887"
             ],
             [
              0.1111111111111111,
              "#46039f"
             ],
             [
              0.2222222222222222,
              "#7201a8"
             ],
             [
              0.3333333333333333,
              "#9c179e"
             ],
             [
              0.4444444444444444,
              "#bd3786"
             ],
             [
              0.5555555555555556,
              "#d8576b"
             ],
             [
              0.6666666666666666,
              "#ed7953"
             ],
             [
              0.7777777777777778,
              "#fb9f3a"
             ],
             [
              0.8888888888888888,
              "#fdca26"
             ],
             [
              1,
              "#f0f921"
             ]
            ],
            "type": "heatmap"
           }
          ],
          "heatmapgl": [
           {
            "colorbar": {
             "outlinewidth": 0,
             "ticks": ""
            },
            "colorscale": [
             [
              0,
              "#0d0887"
             ],
             [
              0.1111111111111111,
              "#46039f"
             ],
             [
              0.2222222222222222,
              "#7201a8"
             ],
             [
              0.3333333333333333,
              "#9c179e"
             ],
             [
              0.4444444444444444,
              "#bd3786"
             ],
             [
              0.5555555555555556,
              "#d8576b"
             ],
             [
              0.6666666666666666,
              "#ed7953"
             ],
             [
              0.7777777777777778,
              "#fb9f3a"
             ],
             [
              0.8888888888888888,
              "#fdca26"
             ],
             [
              1,
              "#f0f921"
             ]
            ],
            "type": "heatmapgl"
           }
          ],
          "histogram": [
           {
            "marker": {
             "colorbar": {
              "outlinewidth": 0,
              "ticks": ""
             }
            },
            "type": "histogram"
           }
          ],
          "histogram2d": [
           {
            "colorbar": {
             "outlinewidth": 0,
             "ticks": ""
            },
            "colorscale": [
             [
              0,
              "#0d0887"
             ],
             [
              0.1111111111111111,
              "#46039f"
             ],
             [
              0.2222222222222222,
              "#7201a8"
             ],
             [
              0.3333333333333333,
              "#9c179e"
             ],
             [
              0.4444444444444444,
              "#bd3786"
             ],
             [
              0.5555555555555556,
              "#d8576b"
             ],
             [
              0.6666666666666666,
              "#ed7953"
             ],
             [
              0.7777777777777778,
              "#fb9f3a"
             ],
             [
              0.8888888888888888,
              "#fdca26"
             ],
             [
              1,
              "#f0f921"
             ]
            ],
            "type": "histogram2d"
           }
          ],
          "histogram2dcontour": [
           {
            "colorbar": {
             "outlinewidth": 0,
             "ticks": ""
            },
            "colorscale": [
             [
              0,
              "#0d0887"
             ],
             [
              0.1111111111111111,
              "#46039f"
             ],
             [
              0.2222222222222222,
              "#7201a8"
             ],
             [
              0.3333333333333333,
              "#9c179e"
             ],
             [
              0.4444444444444444,
              "#bd3786"
             ],
             [
              0.5555555555555556,
              "#d8576b"
             ],
             [
              0.6666666666666666,
              "#ed7953"
             ],
             [
              0.7777777777777778,
              "#fb9f3a"
             ],
             [
              0.8888888888888888,
              "#fdca26"
             ],
             [
              1,
              "#f0f921"
             ]
            ],
            "type": "histogram2dcontour"
           }
          ],
          "mesh3d": [
           {
            "colorbar": {
             "outlinewidth": 0,
             "ticks": ""
            },
            "type": "mesh3d"
           }
          ],
          "parcoords": [
           {
            "line": {
             "colorbar": {
              "outlinewidth": 0,
              "ticks": ""
             }
            },
            "type": "parcoords"
           }
          ],
          "pie": [
           {
            "automargin": true,
            "type": "pie"
           }
          ],
          "scatter": [
           {
            "marker": {
             "colorbar": {
              "outlinewidth": 0,
              "ticks": ""
             }
            },
            "type": "scatter"
           }
          ],
          "scatter3d": [
           {
            "line": {
             "colorbar": {
              "outlinewidth": 0,
              "ticks": ""
             }
            },
            "marker": {
             "colorbar": {
              "outlinewidth": 0,
              "ticks": ""
             }
            },
            "type": "scatter3d"
           }
          ],
          "scattercarpet": [
           {
            "marker": {
             "colorbar": {
              "outlinewidth": 0,
              "ticks": ""
             }
            },
            "type": "scattercarpet"
           }
          ],
          "scattergeo": [
           {
            "marker": {
             "colorbar": {
              "outlinewidth": 0,
              "ticks": ""
             }
            },
            "type": "scattergeo"
           }
          ],
          "scattergl": [
           {
            "marker": {
             "colorbar": {
              "outlinewidth": 0,
              "ticks": ""
             }
            },
            "type": "scattergl"
           }
          ],
          "scattermapbox": [
           {
            "marker": {
             "colorbar": {
              "outlinewidth": 0,
              "ticks": ""
             }
            },
            "type": "scattermapbox"
           }
          ],
          "scatterpolar": [
           {
            "marker": {
             "colorbar": {
              "outlinewidth": 0,
              "ticks": ""
             }
            },
            "type": "scatterpolar"
           }
          ],
          "scatterpolargl": [
           {
            "marker": {
             "colorbar": {
              "outlinewidth": 0,
              "ticks": ""
             }
            },
            "type": "scatterpolargl"
           }
          ],
          "scatterternary": [
           {
            "marker": {
             "colorbar": {
              "outlinewidth": 0,
              "ticks": ""
             }
            },
            "type": "scatterternary"
           }
          ],
          "surface": [
           {
            "colorbar": {
             "outlinewidth": 0,
             "ticks": ""
            },
            "colorscale": [
             [
              0,
              "#0d0887"
             ],
             [
              0.1111111111111111,
              "#46039f"
             ],
             [
              0.2222222222222222,
              "#7201a8"
             ],
             [
              0.3333333333333333,
              "#9c179e"
             ],
             [
              0.4444444444444444,
              "#bd3786"
             ],
             [
              0.5555555555555556,
              "#d8576b"
             ],
             [
              0.6666666666666666,
              "#ed7953"
             ],
             [
              0.7777777777777778,
              "#fb9f3a"
             ],
             [
              0.8888888888888888,
              "#fdca26"
             ],
             [
              1,
              "#f0f921"
             ]
            ],
            "type": "surface"
           }
          ],
          "table": [
           {
            "cells": {
             "fill": {
              "color": "#EBF0F8"
             },
             "line": {
              "color": "white"
             }
            },
            "header": {
             "fill": {
              "color": "#C8D4E3"
             },
             "line": {
              "color": "white"
             }
            },
            "type": "table"
           }
          ]
         },
         "layout": {
          "annotationdefaults": {
           "arrowcolor": "#2a3f5f",
           "arrowhead": 0,
           "arrowwidth": 1
          },
          "autotypenumbers": "strict",
          "coloraxis": {
           "colorbar": {
            "outlinewidth": 0,
            "ticks": ""
           }
          },
          "colorscale": {
           "diverging": [
            [
             0,
             "#8e0152"
            ],
            [
             0.1,
             "#c51b7d"
            ],
            [
             0.2,
             "#de77ae"
            ],
            [
             0.3,
             "#f1b6da"
            ],
            [
             0.4,
             "#fde0ef"
            ],
            [
             0.5,
             "#f7f7f7"
            ],
            [
             0.6,
             "#e6f5d0"
            ],
            [
             0.7,
             "#b8e186"
            ],
            [
             0.8,
             "#7fbc41"
            ],
            [
             0.9,
             "#4d9221"
            ],
            [
             1,
             "#276419"
            ]
           ],
           "sequential": [
            [
             0,
             "#0d0887"
            ],
            [
             0.1111111111111111,
             "#46039f"
            ],
            [
             0.2222222222222222,
             "#7201a8"
            ],
            [
             0.3333333333333333,
             "#9c179e"
            ],
            [
             0.4444444444444444,
             "#bd3786"
            ],
            [
             0.5555555555555556,
             "#d8576b"
            ],
            [
             0.6666666666666666,
             "#ed7953"
            ],
            [
             0.7777777777777778,
             "#fb9f3a"
            ],
            [
             0.8888888888888888,
             "#fdca26"
            ],
            [
             1,
             "#f0f921"
            ]
           ],
           "sequentialminus": [
            [
             0,
             "#0d0887"
            ],
            [
             0.1111111111111111,
             "#46039f"
            ],
            [
             0.2222222222222222,
             "#7201a8"
            ],
            [
             0.3333333333333333,
             "#9c179e"
            ],
            [
             0.4444444444444444,
             "#bd3786"
            ],
            [
             0.5555555555555556,
             "#d8576b"
            ],
            [
             0.6666666666666666,
             "#ed7953"
            ],
            [
             0.7777777777777778,
             "#fb9f3a"
            ],
            [
             0.8888888888888888,
             "#fdca26"
            ],
            [
             1,
             "#f0f921"
            ]
           ]
          },
          "colorway": [
           "#636efa",
           "#EF553B",
           "#00cc96",
           "#ab63fa",
           "#FFA15A",
           "#19d3f3",
           "#FF6692",
           "#B6E880",
           "#FF97FF",
           "#FECB52"
          ],
          "font": {
           "color": "#2a3f5f"
          },
          "geo": {
           "bgcolor": "white",
           "lakecolor": "white",
           "landcolor": "#E5ECF6",
           "showlakes": true,
           "showland": true,
           "subunitcolor": "white"
          },
          "hoverlabel": {
           "align": "left"
          },
          "hovermode": "closest",
          "mapbox": {
           "style": "light"
          },
          "paper_bgcolor": "white",
          "plot_bgcolor": "#E5ECF6",
          "polar": {
           "angularaxis": {
            "gridcolor": "white",
            "linecolor": "white",
            "ticks": ""
           },
           "bgcolor": "#E5ECF6",
           "radialaxis": {
            "gridcolor": "white",
            "linecolor": "white",
            "ticks": ""
           }
          },
          "scene": {
           "xaxis": {
            "backgroundcolor": "#E5ECF6",
            "gridcolor": "white",
            "gridwidth": 2,
            "linecolor": "white",
            "showbackground": true,
            "ticks": "",
            "zerolinecolor": "white"
           },
           "yaxis": {
            "backgroundcolor": "#E5ECF6",
            "gridcolor": "white",
            "gridwidth": 2,
            "linecolor": "white",
            "showbackground": true,
            "ticks": "",
            "zerolinecolor": "white"
           },
           "zaxis": {
            "backgroundcolor": "#E5ECF6",
            "gridcolor": "white",
            "gridwidth": 2,
            "linecolor": "white",
            "showbackground": true,
            "ticks": "",
            "zerolinecolor": "white"
           }
          },
          "shapedefaults": {
           "line": {
            "color": "#2a3f5f"
           }
          },
          "ternary": {
           "aaxis": {
            "gridcolor": "white",
            "linecolor": "white",
            "ticks": ""
           },
           "baxis": {
            "gridcolor": "white",
            "linecolor": "white",
            "ticks": ""
           },
           "bgcolor": "#E5ECF6",
           "caxis": {
            "gridcolor": "white",
            "linecolor": "white",
            "ticks": ""
           }
          },
          "title": {
           "x": 0.05
          },
          "xaxis": {
           "automargin": true,
           "gridcolor": "white",
           "linecolor": "white",
           "ticks": "",
           "title": {
            "standoff": 15
           },
           "zerolinecolor": "white",
           "zerolinewidth": 2
          },
          "yaxis": {
           "automargin": true,
           "gridcolor": "white",
           "linecolor": "white",
           "ticks": "",
           "title": {
            "standoff": 15
           },
           "zerolinecolor": "white",
           "zerolinewidth": 2
          }
         }
        },
        "title": {
         "text": "Hyperparameter Importances"
        },
        "xaxis": {
         "title": {
          "text": "Importance for Objective Value"
         }
        },
        "yaxis": {
         "title": {
          "text": "Hyperparameter"
         }
        }
       }
      },
      "text/html": [
       "<div>                            <div id=\"0bfcf5ac-aec1-4b91-b19a-6977f4b39550\" class=\"plotly-graph-div\" style=\"height:525px; width:100%;\"></div>            <script type=\"text/javascript\">                require([\"plotly\"], function(Plotly) {                    window.PLOTLYENV=window.PLOTLYENV || {};                                    if (document.getElementById(\"0bfcf5ac-aec1-4b91-b19a-6977f4b39550\")) {                    Plotly.newPlot(                        \"0bfcf5ac-aec1-4b91-b19a-6977f4b39550\",                        [{\"cliponaxis\": false, \"hovertemplate\": [\"lambda (LogUniformDistribution): 0.009495498274657049<extra></extra>\", \"max_depth (IntUniformDistribution): 0.014442476041240628<extra></extra>\", \"subsample (UniformDistribution): 0.040974073919194255<extra></extra>\", \"min_child_weight (IntUniformDistribution): 0.935087951764908<extra></extra>\"], \"marker\": {\"color\": \"rgb(66,146,198)\"}, \"orientation\": \"h\", \"text\": [\"0.009495498274657049\", \"0.014442476041240628\", \"0.040974073919194255\", \"0.935087951764908\"], \"textposition\": \"outside\", \"texttemplate\": \"%{text:.2f}\", \"type\": \"bar\", \"x\": [0.009495498274657049, 0.014442476041240628, 0.040974073919194255, 0.935087951764908], \"y\": [\"lambda\", \"max_depth\", \"subsample\", \"min_child_weight\"]}],                        {\"showlegend\": false, \"template\": {\"data\": {\"bar\": [{\"error_x\": {\"color\": \"#2a3f5f\"}, \"error_y\": {\"color\": \"#2a3f5f\"}, \"marker\": {\"line\": {\"color\": \"#E5ECF6\", \"width\": 0.5}}, \"type\": \"bar\"}], \"barpolar\": [{\"marker\": {\"line\": {\"color\": \"#E5ECF6\", \"width\": 0.5}}, \"type\": \"barpolar\"}], \"carpet\": [{\"aaxis\": {\"endlinecolor\": \"#2a3f5f\", \"gridcolor\": \"white\", \"linecolor\": \"white\", \"minorgridcolor\": \"white\", \"startlinecolor\": \"#2a3f5f\"}, \"baxis\": {\"endlinecolor\": \"#2a3f5f\", \"gridcolor\": \"white\", \"linecolor\": \"white\", \"minorgridcolor\": \"white\", \"startlinecolor\": \"#2a3f5f\"}, \"type\": \"carpet\"}], \"choropleth\": [{\"colorbar\": {\"outlinewidth\": 0, \"ticks\": \"\"}, \"type\": \"choropleth\"}], \"contour\": [{\"colorbar\": {\"outlinewidth\": 0, \"ticks\": \"\"}, \"colorscale\": [[0.0, \"#0d0887\"], [0.1111111111111111, \"#46039f\"], [0.2222222222222222, \"#7201a8\"], [0.3333333333333333, \"#9c179e\"], [0.4444444444444444, \"#bd3786\"], [0.5555555555555556, \"#d8576b\"], [0.6666666666666666, \"#ed7953\"], [0.7777777777777778, \"#fb9f3a\"], [0.8888888888888888, \"#fdca26\"], [1.0, \"#f0f921\"]], \"type\": \"contour\"}], \"contourcarpet\": [{\"colorbar\": {\"outlinewidth\": 0, \"ticks\": \"\"}, \"type\": \"contourcarpet\"}], \"heatmap\": [{\"colorbar\": {\"outlinewidth\": 0, \"ticks\": \"\"}, \"colorscale\": [[0.0, \"#0d0887\"], [0.1111111111111111, \"#46039f\"], [0.2222222222222222, \"#7201a8\"], [0.3333333333333333, \"#9c179e\"], [0.4444444444444444, \"#bd3786\"], [0.5555555555555556, \"#d8576b\"], [0.6666666666666666, \"#ed7953\"], [0.7777777777777778, \"#fb9f3a\"], [0.8888888888888888, \"#fdca26\"], [1.0, \"#f0f921\"]], \"type\": \"heatmap\"}], \"heatmapgl\": [{\"colorbar\": {\"outlinewidth\": 0, \"ticks\": \"\"}, \"colorscale\": [[0.0, \"#0d0887\"], [0.1111111111111111, \"#46039f\"], [0.2222222222222222, \"#7201a8\"], [0.3333333333333333, \"#9c179e\"], [0.4444444444444444, \"#bd3786\"], [0.5555555555555556, \"#d8576b\"], [0.6666666666666666, \"#ed7953\"], [0.7777777777777778, \"#fb9f3a\"], [0.8888888888888888, \"#fdca26\"], [1.0, \"#f0f921\"]], \"type\": \"heatmapgl\"}], \"histogram\": [{\"marker\": {\"colorbar\": {\"outlinewidth\": 0, \"ticks\": \"\"}}, \"type\": \"histogram\"}], \"histogram2d\": [{\"colorbar\": {\"outlinewidth\": 0, \"ticks\": \"\"}, \"colorscale\": [[0.0, \"#0d0887\"], [0.1111111111111111, \"#46039f\"], [0.2222222222222222, \"#7201a8\"], [0.3333333333333333, \"#9c179e\"], [0.4444444444444444, \"#bd3786\"], [0.5555555555555556, \"#d8576b\"], [0.6666666666666666, \"#ed7953\"], [0.7777777777777778, \"#fb9f3a\"], [0.8888888888888888, \"#fdca26\"], [1.0, \"#f0f921\"]], \"type\": \"histogram2d\"}], \"histogram2dcontour\": [{\"colorbar\": {\"outlinewidth\": 0, \"ticks\": \"\"}, \"colorscale\": [[0.0, \"#0d0887\"], [0.1111111111111111, \"#46039f\"], [0.2222222222222222, \"#7201a8\"], [0.3333333333333333, \"#9c179e\"], [0.4444444444444444, \"#bd3786\"], [0.5555555555555556, \"#d8576b\"], [0.6666666666666666, \"#ed7953\"], [0.7777777777777778, \"#fb9f3a\"], [0.8888888888888888, \"#fdca26\"], [1.0, \"#f0f921\"]], \"type\": \"histogram2dcontour\"}], \"mesh3d\": [{\"colorbar\": {\"outlinewidth\": 0, \"ticks\": \"\"}, \"type\": \"mesh3d\"}], \"parcoords\": [{\"line\": {\"colorbar\": {\"outlinewidth\": 0, \"ticks\": \"\"}}, \"type\": \"parcoords\"}], \"pie\": [{\"automargin\": true, \"type\": \"pie\"}], \"scatter\": [{\"marker\": {\"colorbar\": {\"outlinewidth\": 0, \"ticks\": \"\"}}, \"type\": \"scatter\"}], \"scatter3d\": [{\"line\": {\"colorbar\": {\"outlinewidth\": 0, \"ticks\": \"\"}}, \"marker\": {\"colorbar\": {\"outlinewidth\": 0, \"ticks\": \"\"}}, \"type\": \"scatter3d\"}], \"scattercarpet\": [{\"marker\": {\"colorbar\": {\"outlinewidth\": 0, \"ticks\": \"\"}}, \"type\": \"scattercarpet\"}], \"scattergeo\": [{\"marker\": {\"colorbar\": {\"outlinewidth\": 0, \"ticks\": \"\"}}, \"type\": \"scattergeo\"}], \"scattergl\": [{\"marker\": {\"colorbar\": {\"outlinewidth\": 0, \"ticks\": \"\"}}, \"type\": \"scattergl\"}], \"scattermapbox\": [{\"marker\": {\"colorbar\": {\"outlinewidth\": 0, \"ticks\": \"\"}}, \"type\": \"scattermapbox\"}], \"scatterpolar\": [{\"marker\": {\"colorbar\": {\"outlinewidth\": 0, \"ticks\": \"\"}}, \"type\": \"scatterpolar\"}], \"scatterpolargl\": [{\"marker\": {\"colorbar\": {\"outlinewidth\": 0, \"ticks\": \"\"}}, \"type\": \"scatterpolargl\"}], \"scatterternary\": [{\"marker\": {\"colorbar\": {\"outlinewidth\": 0, \"ticks\": \"\"}}, \"type\": \"scatterternary\"}], \"surface\": [{\"colorbar\": {\"outlinewidth\": 0, \"ticks\": \"\"}, \"colorscale\": [[0.0, \"#0d0887\"], [0.1111111111111111, \"#46039f\"], [0.2222222222222222, \"#7201a8\"], [0.3333333333333333, \"#9c179e\"], [0.4444444444444444, \"#bd3786\"], [0.5555555555555556, \"#d8576b\"], [0.6666666666666666, \"#ed7953\"], [0.7777777777777778, \"#fb9f3a\"], [0.8888888888888888, \"#fdca26\"], [1.0, \"#f0f921\"]], \"type\": \"surface\"}], \"table\": [{\"cells\": {\"fill\": {\"color\": \"#EBF0F8\"}, \"line\": {\"color\": \"white\"}}, \"header\": {\"fill\": {\"color\": \"#C8D4E3\"}, \"line\": {\"color\": \"white\"}}, \"type\": \"table\"}]}, \"layout\": {\"annotationdefaults\": {\"arrowcolor\": \"#2a3f5f\", \"arrowhead\": 0, \"arrowwidth\": 1}, \"autotypenumbers\": \"strict\", \"coloraxis\": {\"colorbar\": {\"outlinewidth\": 0, \"ticks\": \"\"}}, \"colorscale\": {\"diverging\": [[0, \"#8e0152\"], [0.1, \"#c51b7d\"], [0.2, \"#de77ae\"], [0.3, \"#f1b6da\"], [0.4, \"#fde0ef\"], [0.5, \"#f7f7f7\"], [0.6, \"#e6f5d0\"], [0.7, \"#b8e186\"], [0.8, \"#7fbc41\"], [0.9, \"#4d9221\"], [1, \"#276419\"]], \"sequential\": [[0.0, \"#0d0887\"], [0.1111111111111111, \"#46039f\"], [0.2222222222222222, \"#7201a8\"], [0.3333333333333333, \"#9c179e\"], [0.4444444444444444, \"#bd3786\"], [0.5555555555555556, \"#d8576b\"], [0.6666666666666666, \"#ed7953\"], [0.7777777777777778, \"#fb9f3a\"], [0.8888888888888888, \"#fdca26\"], [1.0, \"#f0f921\"]], \"sequentialminus\": [[0.0, \"#0d0887\"], [0.1111111111111111, \"#46039f\"], [0.2222222222222222, \"#7201a8\"], [0.3333333333333333, \"#9c179e\"], [0.4444444444444444, \"#bd3786\"], [0.5555555555555556, \"#d8576b\"], [0.6666666666666666, \"#ed7953\"], [0.7777777777777778, \"#fb9f3a\"], [0.8888888888888888, \"#fdca26\"], [1.0, \"#f0f921\"]]}, \"colorway\": [\"#636efa\", \"#EF553B\", \"#00cc96\", \"#ab63fa\", \"#FFA15A\", \"#19d3f3\", \"#FF6692\", \"#B6E880\", \"#FF97FF\", \"#FECB52\"], \"font\": {\"color\": \"#2a3f5f\"}, \"geo\": {\"bgcolor\": \"white\", \"lakecolor\": \"white\", \"landcolor\": \"#E5ECF6\", \"showlakes\": true, \"showland\": true, \"subunitcolor\": \"white\"}, \"hoverlabel\": {\"align\": \"left\"}, \"hovermode\": \"closest\", \"mapbox\": {\"style\": \"light\"}, \"paper_bgcolor\": \"white\", \"plot_bgcolor\": \"#E5ECF6\", \"polar\": {\"angularaxis\": {\"gridcolor\": \"white\", \"linecolor\": \"white\", \"ticks\": \"\"}, \"bgcolor\": \"#E5ECF6\", \"radialaxis\": {\"gridcolor\": \"white\", \"linecolor\": \"white\", \"ticks\": \"\"}}, \"scene\": {\"xaxis\": {\"backgroundcolor\": \"#E5ECF6\", \"gridcolor\": \"white\", \"gridwidth\": 2, \"linecolor\": \"white\", \"showbackground\": true, \"ticks\": \"\", \"zerolinecolor\": \"white\"}, \"yaxis\": {\"backgroundcolor\": \"#E5ECF6\", \"gridcolor\": \"white\", \"gridwidth\": 2, \"linecolor\": \"white\", \"showbackground\": true, \"ticks\": \"\", \"zerolinecolor\": \"white\"}, \"zaxis\": {\"backgroundcolor\": \"#E5ECF6\", \"gridcolor\": \"white\", \"gridwidth\": 2, \"linecolor\": \"white\", \"showbackground\": true, \"ticks\": \"\", \"zerolinecolor\": \"white\"}}, \"shapedefaults\": {\"line\": {\"color\": \"#2a3f5f\"}}, \"ternary\": {\"aaxis\": {\"gridcolor\": \"white\", \"linecolor\": \"white\", \"ticks\": \"\"}, \"baxis\": {\"gridcolor\": \"white\", \"linecolor\": \"white\", \"ticks\": \"\"}, \"bgcolor\": \"#E5ECF6\", \"caxis\": {\"gridcolor\": \"white\", \"linecolor\": \"white\", \"ticks\": \"\"}}, \"title\": {\"x\": 0.05}, \"xaxis\": {\"automargin\": true, \"gridcolor\": \"white\", \"linecolor\": \"white\", \"ticks\": \"\", \"title\": {\"standoff\": 15}, \"zerolinecolor\": \"white\", \"zerolinewidth\": 2}, \"yaxis\": {\"automargin\": true, \"gridcolor\": \"white\", \"linecolor\": \"white\", \"ticks\": \"\", \"title\": {\"standoff\": 15}, \"zerolinecolor\": \"white\", \"zerolinewidth\": 2}}}, \"title\": {\"text\": \"Hyperparameter Importances\"}, \"xaxis\": {\"title\": {\"text\": \"Importance for Objective Value\"}}, \"yaxis\": {\"title\": {\"text\": \"Hyperparameter\"}}},                        {\"responsive\": true}                    ).then(function(){\n",
       "                            \n",
       "var gd = document.getElementById('0bfcf5ac-aec1-4b91-b19a-6977f4b39550');\n",
       "var x = new MutationObserver(function (mutations, observer) {{\n",
       "        var display = window.getComputedStyle(gd).display;\n",
       "        if (!display || display === 'none') {{\n",
       "            console.log([gd, 'removed!']);\n",
       "            Plotly.purge(gd);\n",
       "            observer.disconnect();\n",
       "        }}\n",
       "}});\n",
       "\n",
       "// Listen for the removal of the full notebook cells\n",
       "var notebookContainer = gd.closest('#notebook-container');\n",
       "if (notebookContainer) {{\n",
       "    x.observe(notebookContainer, {childList: true});\n",
       "}}\n",
       "\n",
       "// Listen for the clearing of the current output cell\n",
       "var outputEl = gd.closest('.output');\n",
       "if (outputEl) {{\n",
       "    x.observe(outputEl, {childList: true});\n",
       "}}\n",
       "\n",
       "                        })                };                });            </script>        </div>"
      ]
     },
     "metadata": {},
     "output_type": "display_data"
    }
   ],
   "source": [
    "# 하이퍼파라미터 중요도\n",
    "optuna.visualization.plot_param_importances(study)"
   ]
  },
  {
   "cell_type": "code",
   "execution_count": 36,
   "id": "839f0485",
   "metadata": {},
   "outputs": [],
   "source": [
    "lunch_params = study.best_trial.params\n",
    "lunch_params[\"n_estimators\"] = 10000\n",
    "lunch_params[\"random_state\"] = 42\n",
    "lunch_params[\"learning_rate\"] = 0.02"
   ]
  },
  {
   "cell_type": "code",
   "execution_count": null,
   "id": "ca276b66",
   "metadata": {},
   "outputs": [],
   "source": [
    "lunch_model = XGBRegressor(**lunch_params)\n",
    "lunch_model.fit(X_lunch, y_lunch)"
   ]
  },
  {
   "cell_type": "code",
   "execution_count": null,
   "id": "83fd292a",
   "metadata": {},
   "outputs": [],
   "source": [
    "test_x = test[[\"월\", \"일\", \"요일\", \"식사가능자수\", \"본사출장자수\", \"본사시간외근무명령서승인건수\"]]\n",
    "predict_lunch = lunch_model.predict(test_x)"
   ]
  },
  {
   "cell_type": "code",
   "execution_count": null,
   "id": "8cd74723",
   "metadata": {},
   "outputs": [],
   "source": [
    "submit[\"중식계\"] = predict_lunch"
   ]
  },
  {
   "cell_type": "code",
   "execution_count": 12,
   "id": "e5a40209",
   "metadata": {},
   "outputs": [],
   "source": [
    "X_dinner = train[[\"월\", \"일\", \"요일(석식)\", \"식사가능자수\", \"본사출장자수\", \"본사시간외근무명령서승인건수\"]]\n",
    "y_dinner = train[\"석식계\"]\n",
    "\n",
    "train_x, test_x, train_y, test_y = train_test_split(\n",
    "    X_dinner, y_dinner, test_size=0.3, random_state=42\n",
    ")"
   ]
  },
  {
   "cell_type": "code",
   "execution_count": 37,
   "id": "eb8e70ef",
   "metadata": {},
   "outputs": [],
   "source": [
    "def objective(trial):\n",
    "    param = {\n",
    "#         \"lambda\": trial.suggest_loguniform(\"lambda\", 1e-3, 1e-01),\n",
    "#         \"alpha\": trial.suggest_loguniform(\"alpha\", 1e-3, 1e-01),\n",
    "        \"colsample_bytree\": trial.suggest_float(\"colsample_bytree\", 0.5, 1),\n",
    "        \"subsample\": trial.suggest_float(\"subsample\", 0.5, 1),\n",
    "        \"learning_rate\": trial.suggest_float(\"learning_rate\", 1e-02, 1e-01),\n",
    "        \"n_estimators\": 10000,\n",
    "        \"max_depth\": trial.suggest_int(\"max_depth\", 3, 20),\n",
    "        \"random_state\": 42,\n",
    "        \"min_child_weight\": trial.suggest_int(\"min_child_weight\", 1, 300),\n",
    "    }\n",
    "    model = XGBRegressor(**param)\n",
    "\n",
    "    model.fit(\n",
    "        train_x,\n",
    "        train_y,\n",
    "        eval_set=[(test_x, test_y)],\n",
    "        early_stopping_rounds=100,\n",
    "        verbose=False,\n",
    "    )\n",
    "\n",
    "    preds = model.predict(test_x)\n",
    "\n",
    "    mae = mean_absolute_error(test_y, preds)\n",
    "\n",
    "    return mae"
   ]
  },
  {
   "cell_type": "code",
   "execution_count": 38,
   "id": "c99c80b4",
   "metadata": {
    "scrolled": false
   },
   "outputs": [
    {
     "name": "stderr",
     "output_type": "stream",
     "text": [
      "\u001b[32m[I 2021-07-09 18:35:40,613]\u001b[0m A new study created in memory with name: no-name-8462cc0b-9a05-4104-93c8-290445ee0ecb\u001b[0m\n",
      "\u001b[32m[I 2021-07-09 18:35:41,174]\u001b[0m Trial 0 finished with value: 64.72776107366572 and parameters: {'colsample_bytree': 0.6872700594236812, 'subsample': 0.9753571532049581, 'learning_rate': 0.07587945476302646, 'max_depth': 13, 'min_child_weight': 47}. Best is trial 0 with value: 64.72776107366572.\u001b[0m\n",
      "\u001b[32m[I 2021-07-09 18:35:41,393]\u001b[0m Trial 1 finished with value: 82.76895714859936 and parameters: {'colsample_bytree': 0.5779972601681014, 'subsample': 0.5290418060840998, 'learning_rate': 0.08795585311974417, 'max_depth': 13, 'min_child_weight': 213}. Best is trial 0 with value: 64.72776107366572.\u001b[0m\n",
      "\u001b[32m[I 2021-07-09 18:35:42,230]\u001b[0m Trial 2 finished with value: 64.63486510218836 and parameters: {'colsample_bytree': 0.5102922471479012, 'subsample': 0.9849549260809971, 'learning_rate': 0.08491983767203796, 'max_depth': 6, 'min_child_weight': 55}. Best is trial 2 with value: 64.63486510218836.\u001b[0m\n",
      "\u001b[32m[I 2021-07-09 18:35:43,490]\u001b[0m Trial 3 finished with value: 68.79080276067744 and parameters: {'colsample_bytree': 0.5917022549267169, 'subsample': 0.6521211214797689, 'learning_rate': 0.05722807884690141, 'max_depth': 10, 'min_child_weight': 88}. Best is trial 2 with value: 64.63486510218836.\u001b[0m\n",
      "\u001b[32m[I 2021-07-09 18:35:45,598]\u001b[0m Trial 4 finished with value: 72.25014382040962 and parameters: {'colsample_bytree': 0.8059264473611898, 'subsample': 0.569746930326021, 'learning_rate': 0.03629301836816964, 'max_depth': 9, 'min_child_weight': 137}. Best is trial 2 with value: 64.63486510218836.\u001b[0m\n",
      "\u001b[32m[I 2021-07-09 18:35:46,104]\u001b[0m Trial 5 finished with value: 62.12086450987758 and parameters: {'colsample_bytree': 0.8925879806965068, 'subsample': 0.5998368910791798, 'learning_rate': 0.05628109945722505, 'max_depth': 13, 'min_child_weight': 14}. Best is trial 5 with value: 62.12086450987758.\u001b[0m\n",
      "\u001b[32m[I 2021-07-09 18:35:46,700]\u001b[0m Trial 6 finished with value: 97.91679188428004 and parameters: {'colsample_bytree': 0.8037724259507192, 'subsample': 0.5852620618436457, 'learning_rate': 0.015854643368675158, 'max_depth': 20, 'min_child_weight': 290}. Best is trial 5 with value: 62.12086450987758.\u001b[0m\n",
      "\u001b[32m[I 2021-07-09 18:35:49,801]\u001b[0m Trial 7 finished with value: 70.24591072883395 and parameters: {'colsample_bytree': 0.9041986740582306, 'subsample': 0.6523068845866853, 'learning_rate': 0.018790490260574548, 'max_depth': 15, 'min_child_weight': 133}. Best is trial 5 with value: 62.12086450987758.\u001b[0m\n",
      "\u001b[32m[I 2021-07-09 18:35:53,657]\u001b[0m Trial 8 finished with value: 67.27152968770233 and parameters: {'colsample_bytree': 0.5610191174223894, 'subsample': 0.7475884550556351, 'learning_rate': 0.013094966900369657, 'max_depth': 19, 'min_child_weight': 78}. Best is trial 5 with value: 62.12086450987758.\u001b[0m\n",
      "\u001b[32m[I 2021-07-09 18:35:54,383]\u001b[0m Trial 9 finished with value: 67.01169383855157 and parameters: {'colsample_bytree': 0.831261142176991, 'subsample': 0.6558555380447055, 'learning_rate': 0.05680612190600298, 'max_depth': 12, 'min_child_weight': 56}. Best is trial 5 with value: 62.12086450987758.\u001b[0m\n",
      "\u001b[32m[I 2021-07-09 18:35:55,376]\u001b[0m Trial 10 finished with value: 70.5498654275968 and parameters: {'colsample_bytree': 0.9847923138822793, 'subsample': 0.8875664116805573, 'learning_rate': 0.09455490474077703, 'max_depth': 19, 'min_child_weight': 180}. Best is trial 5 with value: 62.12086450987758.\u001b[0m\n",
      "\u001b[32m[I 2021-07-09 18:35:57,150]\u001b[0m Trial 11 finished with value: 68.9526847291388 and parameters: {'colsample_bytree': 0.9609371175115584, 'subsample': 0.5442462510259598, 'learning_rate': 0.027638457617723072, 'max_depth': 3, 'min_child_weight': 98}. Best is trial 5 with value: 62.12086450987758.\u001b[0m\n",
      "\u001b[32m[I 2021-07-09 18:35:58,527]\u001b[0m Trial 12 finished with value: 68.18412300236318 and parameters: {'colsample_bytree': 0.6943386448447411, 'subsample': 0.6356745158869479, 'learning_rate': 0.08458637582367365, 'max_depth': 9, 'min_child_weight': 85}. Best is trial 5 with value: 62.12086450987758.\u001b[0m\n",
      "\u001b[32m[I 2021-07-09 18:35:58,780]\u001b[0m Trial 13 finished with value: 97.90327344019768 and parameters: {'colsample_bytree': 0.7713480415791243, 'subsample': 0.5704621124873813, 'learning_rate': 0.08219772826786358, 'max_depth': 4, 'min_child_weight': 297}. Best is trial 5 with value: 62.12086450987758.\u001b[0m\n",
      "\u001b[32m[I 2021-07-09 18:35:59,776]\u001b[0m Trial 14 finished with value: 81.20715939010704 and parameters: {'colsample_bytree': 0.8861223846483287, 'subsample': 0.5993578407670862, 'learning_rate': 0.010496990541124216, 'max_depth': 17, 'min_child_weight': 213}. Best is trial 5 with value: 62.12086450987758.\u001b[0m\n",
      "\u001b[32m[I 2021-07-09 18:36:01,350]\u001b[0m Trial 15 finished with value: 63.688399825965504 and parameters: {'colsample_bytree': 0.8645035840204937, 'subsample': 0.8856351733429728, 'learning_rate': 0.016664018656068133, 'max_depth': 9, 'min_child_weight': 35}. Best is trial 5 with value: 62.12086450987758.\u001b[0m\n",
      "\u001b[32m[I 2021-07-09 18:36:03,021]\u001b[0m Trial 16 finished with value: 68.123543923731 and parameters: {'colsample_bytree': 0.9315517129377968, 'subsample': 0.811649063413779, 'learning_rate': 0.03978082223673843, 'max_depth': 4, 'min_child_weight': 94}. Best is trial 5 with value: 62.12086450987758.\u001b[0m\n",
      "\u001b[32m[I 2021-07-09 18:36:04,510]\u001b[0m Trial 17 finished with value: 69.17457770247486 and parameters: {'colsample_bytree': 0.6625916610133735, 'subsample': 0.864803089169032, 'learning_rate': 0.06738017242196918, 'max_depth': 18, 'min_child_weight': 142}. Best is trial 5 with value: 62.12086450987758.\u001b[0m\n",
      "\u001b[32m[I 2021-07-09 18:36:06,097]\u001b[0m Trial 18 finished with value: 75.0436698534212 and parameters: {'colsample_bytree': 0.5597971229691509, 'subsample': 0.8566223936114975, 'learning_rate': 0.07847065437552077, 'max_depth': 13, 'min_child_weight': 232}. Best is trial 5 with value: 62.12086450987758.\u001b[0m\n",
      "\u001b[32m[I 2021-07-09 18:36:06,723]\u001b[0m Trial 19 finished with value: 62.99308123509528 and parameters: {'colsample_bytree': 0.8483319170797338, 'subsample': 0.7457279672285952, 'learning_rate': 0.047323616448134716, 'max_depth': 7, 'min_child_weight': 3}. Best is trial 5 with value: 62.12086450987758.\u001b[0m\n",
      "\u001b[32m[I 2021-07-09 18:36:08,146]\u001b[0m Trial 20 finished with value: 67.61563342183993 and parameters: {'colsample_bytree': 0.960446789890347, 'subsample': 0.5036348383301955, 'learning_rate': 0.05571051256151439, 'max_depth': 16, 'min_child_weight': 66}. Best is trial 5 with value: 62.12086450987758.\u001b[0m\n",
      "\u001b[32m[I 2021-07-09 18:36:11,771]\u001b[0m Trial 21 finished with value: 66.7774830180637 and parameters: {'colsample_bytree': 0.7827296468171147, 'subsample': 0.848742656839186, 'learning_rate': 0.019197962154605813, 'max_depth': 13, 'min_child_weight': 81}. Best is trial 5 with value: 62.12086450987758.\u001b[0m\n",
      "\u001b[32m[I 2021-07-09 18:36:12,915]\u001b[0m Trial 22 finished with value: 63.29534389432622 and parameters: {'colsample_bytree': 0.7781535586334785, 'subsample': 0.9616567070804563, 'learning_rate': 0.040242272569945385, 'max_depth': 5, 'min_child_weight': 30}. Best is trial 5 with value: 62.12086450987758.\u001b[0m\n",
      "\u001b[32m[I 2021-07-09 18:36:14,340]\u001b[0m Trial 23 finished with value: 66.4883656370047 and parameters: {'colsample_bytree': 0.7579805369042253, 'subsample': 0.956355342611367, 'learning_rate': 0.051210236338386804, 'max_depth': 4, 'min_child_weight': 78}. Best is trial 5 with value: 62.12086450987758.\u001b[0m\n",
      "\u001b[32m[I 2021-07-09 18:36:15,167]\u001b[0m Trial 24 finished with value: 63.173077051152184 and parameters: {'colsample_bytree': 0.8346007512871569, 'subsample': 0.7684446149809054, 'learning_rate': 0.06204984833818758, 'max_depth': 8, 'min_child_weight': 1}. Best is trial 5 with value: 62.12086450987758.\u001b[0m\n",
      "\u001b[32m[I 2021-07-09 18:36:15,615]\u001b[0m Trial 25 finished with value: 63.138420948007486 and parameters: {'colsample_bytree': 0.8373127126987704, 'subsample': 0.7664102700708826, 'learning_rate': 0.08745626279033952, 'max_depth': 5, 'min_child_weight': 18}. Best is trial 5 with value: 62.12086450987758.\u001b[0m\n",
      "\u001b[32m[I 2021-07-09 18:36:16,321]\u001b[0m Trial 26 finished with value: 67.69529252025963 and parameters: {'colsample_bytree': 0.9005377730190557, 'subsample': 0.6226833302734401, 'learning_rate': 0.09289558839399253, 'max_depth': 3, 'min_child_weight': 69}. Best is trial 5 with value: 62.12086450987758.\u001b[0m\n"
     ]
    },
    {
     "name": "stderr",
     "output_type": "stream",
     "text": [
      "\u001b[32m[I 2021-07-09 18:36:16,951]\u001b[0m Trial 27 finished with value: 64.04473257328266 and parameters: {'colsample_bytree': 0.7682871161825013, 'subsample': 0.8500613846819234, 'learning_rate': 0.09714404046923503, 'max_depth': 6, 'min_child_weight': 58}. Best is trial 5 with value: 62.12086450987758.\u001b[0m\n",
      "\u001b[32m[I 2021-07-09 18:36:17,294]\u001b[0m Trial 28 finished with value: 63.42593830593383 and parameters: {'colsample_bytree': 0.9732476398164983, 'subsample': 0.796756063161515, 'learning_rate': 0.09974604067818804, 'max_depth': 4, 'min_child_weight': 6}. Best is trial 5 with value: 62.12086450987758.\u001b[0m\n",
      "\u001b[32m[I 2021-07-09 18:36:17,892]\u001b[0m Trial 29 finished with value: 66.05056535078018 and parameters: {'colsample_bytree': 0.955989203411005, 'subsample': 0.7663067108103108, 'learning_rate': 0.07871040119996349, 'max_depth': 15, 'min_child_weight': 62}. Best is trial 5 with value: 62.12086450987758.\u001b[0m\n",
      "\u001b[32m[I 2021-07-09 18:36:18,722]\u001b[0m Trial 30 finished with value: 63.2214839787773 and parameters: {'colsample_bytree': 0.8696372304321526, 'subsample': 0.7308623310021687, 'learning_rate': 0.025826087724506088, 'max_depth': 3, 'min_child_weight': 4}. Best is trial 5 with value: 62.12086450987758.\u001b[0m\n",
      "\u001b[32m[I 2021-07-09 18:36:19,190]\u001b[0m Trial 31 finished with value: 63.42313800200573 and parameters: {'colsample_bytree': 0.8094953293550355, 'subsample': 0.7654087157579758, 'learning_rate': 0.07831401354425893, 'max_depth': 3, 'min_child_weight': 7}. Best is trial 5 with value: 62.12086450987758.\u001b[0m\n",
      "\u001b[32m[I 2021-07-09 18:36:20,239]\u001b[0m Trial 32 finished with value: 63.165742473707674 and parameters: {'colsample_bytree': 0.898498584056366, 'subsample': 0.8687353245124667, 'learning_rate': 0.05294616585003084, 'max_depth': 10, 'min_child_weight': 2}. Best is trial 5 with value: 62.12086450987758.\u001b[0m\n",
      "\u001b[32m[I 2021-07-09 18:36:20,814]\u001b[0m Trial 33 finished with value: 61.30953867791107 and parameters: {'colsample_bytree': 0.9180273953670711, 'subsample': 0.9129162759755789, 'learning_rate': 0.06726699604963414, 'max_depth': 13, 'min_child_weight': 20}. Best is trial 33 with value: 61.30953867791107.\u001b[0m\n",
      "\u001b[32m[I 2021-07-09 18:36:21,548]\u001b[0m Trial 34 finished with value: 63.46755970907475 and parameters: {'colsample_bytree': 0.9178875410492313, 'subsample': 0.5096025728914022, 'learning_rate': 0.07429249640949241, 'max_depth': 12, 'min_child_weight': 4}. Best is trial 33 with value: 61.30953867791107.\u001b[0m\n",
      "\u001b[32m[I 2021-07-09 18:36:22,037]\u001b[0m Trial 35 finished with value: 63.378318070048124 and parameters: {'colsample_bytree': 0.7808868333692829, 'subsample': 0.8917883326299099, 'learning_rate': 0.0851505878348092, 'max_depth': 13, 'min_child_weight': 24}. Best is trial 33 with value: 61.30953867791107.\u001b[0m\n",
      "\u001b[32m[I 2021-07-09 18:36:23,175]\u001b[0m Trial 36 finished with value: 63.063895820912734 and parameters: {'colsample_bytree': 0.8622710829131471, 'subsample': 0.5887267002589103, 'learning_rate': 0.019883046441672846, 'max_depth': 13, 'min_child_weight': 24}. Best is trial 33 with value: 61.30953867791107.\u001b[0m\n",
      "\u001b[32m[I 2021-07-09 18:36:24,150]\u001b[0m Trial 37 finished with value: 62.35941951182666 and parameters: {'colsample_bytree': 0.8899534095533148, 'subsample': 0.6060835568602955, 'learning_rate': 0.022557405121672987, 'max_depth': 10, 'min_child_weight': 15}. Best is trial 33 with value: 61.30953867791107.\u001b[0m\n",
      "\u001b[32m[I 2021-07-09 18:36:25,821]\u001b[0m Trial 38 finished with value: 61.80756429809233 and parameters: {'colsample_bytree': 0.9911279818565222, 'subsample': 0.6186456467332633, 'learning_rate': 0.019708333668666974, 'max_depth': 8, 'min_child_weight': 4}. Best is trial 33 with value: 61.30953867791107.\u001b[0m\n",
      "\u001b[32m[I 2021-07-09 18:36:26,903]\u001b[0m Trial 39 finished with value: 62.66630840828405 and parameters: {'colsample_bytree': 0.9943435141688706, 'subsample': 0.6711671873560736, 'learning_rate': 0.026562795595594747, 'max_depth': 9, 'min_child_weight': 18}. Best is trial 33 with value: 61.30953867791107.\u001b[0m\n",
      "\u001b[32m[I 2021-07-09 18:36:27,810]\u001b[0m Trial 40 finished with value: 62.212728869190535 and parameters: {'colsample_bytree': 0.886722303865305, 'subsample': 0.561191112872488, 'learning_rate': 0.03051647990306027, 'max_depth': 7, 'min_child_weight': 4}. Best is trial 33 with value: 61.30953867791107.\u001b[0m\n",
      "\u001b[32m[I 2021-07-09 18:36:28,413]\u001b[0m Trial 41 finished with value: 62.382210494405 and parameters: {'colsample_bytree': 0.9515201051746148, 'subsample': 0.9803585545313754, 'learning_rate': 0.0614550340302268, 'max_depth': 14, 'min_child_weight': 27}. Best is trial 33 with value: 61.30953867791107.\u001b[0m\n",
      "\u001b[32m[I 2021-07-09 18:36:29,544]\u001b[0m Trial 42 finished with value: 61.8550758256438 and parameters: {'colsample_bytree': 0.8745232817465383, 'subsample': 0.5923501170517045, 'learning_rate': 0.020193818735316692, 'max_depth': 8, 'min_child_weight': 7}. Best is trial 33 with value: 61.30953867791107.\u001b[0m\n",
      "\u001b[32m[I 2021-07-09 18:36:30,514]\u001b[0m Trial 43 finished with value: 63.16425108514438 and parameters: {'colsample_bytree': 0.9022615225878076, 'subsample': 0.5620386775123165, 'learning_rate': 0.04167181183119216, 'max_depth': 7, 'min_child_weight': 19}. Best is trial 33 with value: 61.30953867791107.\u001b[0m\n",
      "\u001b[32m[I 2021-07-09 18:36:31,506]\u001b[0m Trial 44 finished with value: 63.846099389850764 and parameters: {'colsample_bytree': 0.9321036849113329, 'subsample': 0.5223212250045219, 'learning_rate': 0.017834628965933137, 'max_depth': 6, 'min_child_weight': 25}. Best is trial 33 with value: 61.30953867791107.\u001b[0m\n",
      "\u001b[32m[I 2021-07-09 18:36:32,610]\u001b[0m Trial 45 finished with value: 61.7666410899294 and parameters: {'colsample_bytree': 0.8915736628160199, 'subsample': 0.6789880598083738, 'learning_rate': 0.04371974095041098, 'max_depth': 16, 'min_child_weight': 11}. Best is trial 33 with value: 61.30953867791107.\u001b[0m\n",
      "\u001b[32m[I 2021-07-09 18:36:33,133]\u001b[0m Trial 46 finished with value: 62.16708532091004 and parameters: {'colsample_bytree': 0.8395701162974911, 'subsample': 0.7269220426185172, 'learning_rate': 0.05943490452493773, 'max_depth': 16, 'min_child_weight': 22}. Best is trial 33 with value: 61.30953867791107.\u001b[0m\n",
      "\u001b[32m[I 2021-07-09 18:36:34,570]\u001b[0m Trial 47 finished with value: 66.62941101242824 and parameters: {'colsample_bytree': 0.9095503037750776, 'subsample': 0.689005633441158, 'learning_rate': 0.03955117183124664, 'max_depth': 20, 'min_child_weight': 65}. Best is trial 33 with value: 61.30953867791107.\u001b[0m\n",
      "\u001b[32m[I 2021-07-09 18:36:35,341]\u001b[0m Trial 48 finished with value: 64.29527700013219 and parameters: {'colsample_bytree': 0.652114039628415, 'subsample': 0.5662592389452821, 'learning_rate': 0.027122223554954722, 'max_depth': 8, 'min_child_weight': 4}. Best is trial 33 with value: 61.30953867791107.\u001b[0m\n",
      "\u001b[32m[I 2021-07-09 18:36:36,030]\u001b[0m Trial 49 finished with value: 62.02531987395734 and parameters: {'colsample_bytree': 0.894352778146918, 'subsample': 0.6405470957277739, 'learning_rate': 0.056288068666468974, 'max_depth': 12, 'min_child_weight': 16}. Best is trial 33 with value: 61.30953867791107.\u001b[0m\n",
      "\u001b[32m[I 2021-07-09 18:36:38,845]\u001b[0m Trial 50 finished with value: 62.64663114600419 and parameters: {'colsample_bytree': 0.8754846707881163, 'subsample': 0.5573931890656274, 'learning_rate': 0.04802718126925385, 'max_depth': 19, 'min_child_weight': 1}. Best is trial 33 with value: 61.30953867791107.\u001b[0m\n",
      "\u001b[32m[I 2021-07-09 18:36:41,907]\u001b[0m Trial 51 finished with value: 75.13426372886363 and parameters: {'colsample_bytree': 0.5465258547556023, 'subsample': 0.940463799835663, 'learning_rate': 0.029237032115095006, 'max_depth': 6, 'min_child_weight': 254}. Best is trial 33 with value: 61.30953867791107.\u001b[0m\n",
      "\u001b[32m[I 2021-07-09 18:36:42,664]\u001b[0m Trial 52 finished with value: 62.36136498635645 and parameters: {'colsample_bytree': 0.9226171022029196, 'subsample': 0.6312944648350793, 'learning_rate': 0.043325241756985766, 'max_depth': 14, 'min_child_weight': 15}. Best is trial 33 with value: 61.30953867791107.\u001b[0m\n",
      "\u001b[32m[I 2021-07-09 18:36:43,914]\u001b[0m Trial 53 finished with value: 68.72259399245458 and parameters: {'colsample_bytree': 0.9861193569588255, 'subsample': 0.6399007706762929, 'learning_rate': 0.0687441416191153, 'max_depth': 9, 'min_child_weight': 118}. Best is trial 33 with value: 61.30953867791107.\u001b[0m\n"
     ]
    },
    {
     "name": "stderr",
     "output_type": "stream",
     "text": [
      "\u001b[32m[I 2021-07-09 18:36:44,595]\u001b[0m Trial 54 finished with value: 64.1027688295143 and parameters: {'colsample_bytree': 0.9369736724647377, 'subsample': 0.6313824296633149, 'learning_rate': 0.05765548400903546, 'max_depth': 11, 'min_child_weight': 37}. Best is trial 33 with value: 61.30953867791107.\u001b[0m\n",
      "\u001b[32m[I 2021-07-09 18:36:45,718]\u001b[0m Trial 55 finished with value: 64.2081126007586 and parameters: {'colsample_bytree': 0.7775367536793598, 'subsample': 0.55797901080397, 'learning_rate': 0.05597371185788331, 'max_depth': 11, 'min_child_weight': 34}. Best is trial 33 with value: 61.30953867791107.\u001b[0m\n",
      "\u001b[32m[I 2021-07-09 18:36:46,630]\u001b[0m Trial 56 finished with value: 62.60627085859604 and parameters: {'colsample_bytree': 0.9754595090839572, 'subsample': 0.7624917842333185, 'learning_rate': 0.05954042216522823, 'max_depth': 15, 'min_child_weight': 9}. Best is trial 33 with value: 61.30953867791107.\u001b[0m\n",
      "\u001b[32m[I 2021-07-09 18:36:47,044]\u001b[0m Trial 57 finished with value: 81.77243497226779 and parameters: {'colsample_bytree': 0.893814106437455, 'subsample': 0.8340419382464217, 'learning_rate': 0.05524840654287109, 'max_depth': 14, 'min_child_weight': 295}. Best is trial 33 with value: 61.30953867791107.\u001b[0m\n",
      "\u001b[32m[I 2021-07-09 18:36:49,431]\u001b[0m Trial 58 finished with value: 79.36159561747345 and parameters: {'colsample_bytree': 0.6097262502682868, 'subsample': 0.6093549901257558, 'learning_rate': 0.03632872800182797, 'max_depth': 11, 'min_child_weight': 211}. Best is trial 33 with value: 61.30953867791107.\u001b[0m\n",
      "\u001b[32m[I 2021-07-09 18:36:50,137]\u001b[0m Trial 59 finished with value: 62.661489960897036 and parameters: {'colsample_bytree': 0.8990287257009482, 'subsample': 0.9638549937872172, 'learning_rate': 0.08980257816866759, 'max_depth': 9, 'min_child_weight': 24}. Best is trial 33 with value: 61.30953867791107.\u001b[0m\n",
      "\u001b[32m[I 2021-07-09 18:36:50,804]\u001b[0m Trial 60 finished with value: 63.17598281776049 and parameters: {'colsample_bytree': 0.8061566340536522, 'subsample': 0.9596389845183563, 'learning_rate': 0.06089111146499444, 'max_depth': 18, 'min_child_weight': 31}. Best is trial 33 with value: 61.30953867791107.\u001b[0m\n",
      "\u001b[32m[I 2021-07-09 18:36:51,543]\u001b[0m Trial 61 finished with value: 63.25386797657329 and parameters: {'colsample_bytree': 0.77254722150893, 'subsample': 0.7323603619155906, 'learning_rate': 0.06086602985374276, 'max_depth': 16, 'min_child_weight': 11}. Best is trial 33 with value: 61.30953867791107.\u001b[0m\n",
      "\u001b[32m[I 2021-07-09 18:36:52,449]\u001b[0m Trial 62 finished with value: 62.000997933234956 and parameters: {'colsample_bytree': 0.7957392237902723, 'subsample': 0.7358215398317524, 'learning_rate': 0.03283387688272937, 'max_depth': 18, 'min_child_weight': 15}. Best is trial 33 with value: 61.30953867791107.\u001b[0m\n",
      "\u001b[32m[I 2021-07-09 18:36:53,791]\u001b[0m Trial 63 finished with value: 64.61343404864738 and parameters: {'colsample_bytree': 0.807698394838297, 'subsample': 0.7899125149923443, 'learning_rate': 0.03369715111715261, 'max_depth': 17, 'min_child_weight': 44}. Best is trial 33 with value: 61.30953867791107.\u001b[0m\n",
      "\u001b[32m[I 2021-07-09 18:36:55,027]\u001b[0m Trial 64 finished with value: 63.28425383172641 and parameters: {'colsample_bytree': 0.7805739809318438, 'subsample': 0.6202090597001878, 'learning_rate': 0.026325559963370094, 'max_depth': 20, 'min_child_weight': 23}. Best is trial 33 with value: 61.30953867791107.\u001b[0m\n",
      "\u001b[32m[I 2021-07-09 18:36:56,132]\u001b[0m Trial 65 finished with value: 62.73048645356742 and parameters: {'colsample_bytree': 0.7733868084004661, 'subsample': 0.7279876165930048, 'learning_rate': 0.03381217580164155, 'max_depth': 16, 'min_child_weight': 10}. Best is trial 33 with value: 61.30953867791107.\u001b[0m\n",
      "\u001b[32m[I 2021-07-09 18:36:56,530]\u001b[0m Trial 66 finished with value: 82.36457681392437 and parameters: {'colsample_bytree': 0.5001310561523564, 'subsample': 0.6457235098479962, 'learning_rate': 0.07576838120144597, 'max_depth': 5, 'min_child_weight': 249}. Best is trial 33 with value: 61.30953867791107.\u001b[0m\n",
      "\u001b[32m[I 2021-07-09 18:36:57,720]\u001b[0m Trial 67 finished with value: 76.72298511484051 and parameters: {'colsample_bytree': 0.7587945662296518, 'subsample': 0.6207341365969647, 'learning_rate': 0.094923311576492, 'max_depth': 19, 'min_child_weight': 200}. Best is trial 33 with value: 61.30953867791107.\u001b[0m\n",
      "\u001b[32m[I 2021-07-09 18:36:58,420]\u001b[0m Trial 68 finished with value: 64.42826552417397 and parameters: {'colsample_bytree': 0.809280260260577, 'subsample': 0.6335341729904739, 'learning_rate': 0.056032559274520076, 'max_depth': 13, 'min_child_weight': 25}. Best is trial 33 with value: 61.30953867791107.\u001b[0m\n",
      "\u001b[32m[I 2021-07-09 18:37:05,025]\u001b[0m Trial 69 finished with value: 70.56825694721707 and parameters: {'colsample_bytree': 0.6466728939201725, 'subsample': 0.932163241771968, 'learning_rate': 0.0218801406745174, 'max_depth': 18, 'min_child_weight': 200}. Best is trial 33 with value: 61.30953867791107.\u001b[0m\n",
      "\u001b[32m[I 2021-07-09 18:37:06,284]\u001b[0m Trial 70 finished with value: 64.88807834182656 and parameters: {'colsample_bytree': 0.5549262350898682, 'subsample': 0.664861689169391, 'learning_rate': 0.043389542090558605, 'max_depth': 17, 'min_child_weight': 42}. Best is trial 33 with value: 61.30953867791107.\u001b[0m\n",
      "\u001b[32m[I 2021-07-09 18:37:06,979]\u001b[0m Trial 71 finished with value: 63.18681053035167 and parameters: {'colsample_bytree': 0.8427650867368532, 'subsample': 0.6730710580788037, 'learning_rate': 0.09011580505778322, 'max_depth': 19, 'min_child_weight': 47}. Best is trial 33 with value: 61.30953867791107.\u001b[0m\n",
      "\u001b[32m[I 2021-07-09 18:37:09,822]\u001b[0m Trial 72 finished with value: 62.08546578423094 and parameters: {'colsample_bytree': 0.8920813819183696, 'subsample': 0.7340300473019519, 'learning_rate': 0.020192074752541735, 'max_depth': 19, 'min_child_weight': 2}. Best is trial 33 with value: 61.30953867791107.\u001b[0m\n",
      "\u001b[32m[I 2021-07-09 18:37:11,279]\u001b[0m Trial 73 finished with value: 63.63770096078103 and parameters: {'colsample_bytree': 0.9190941294239623, 'subsample': 0.6796778574352381, 'learning_rate': 0.01936667002186487, 'max_depth': 17, 'min_child_weight': 29}. Best is trial 33 with value: 61.30953867791107.\u001b[0m\n",
      "\u001b[32m[I 2021-07-09 18:37:11,938]\u001b[0m Trial 74 finished with value: 61.81237436789834 and parameters: {'colsample_bytree': 0.8488591069111565, 'subsample': 0.731446327414668, 'learning_rate': 0.03865580043261405, 'max_depth': 19, 'min_child_weight': 18}. Best is trial 33 with value: 61.30953867791107.\u001b[0m\n",
      "\u001b[32m[I 2021-07-09 18:37:13,173]\u001b[0m Trial 75 finished with value: 64.19606688272887 and parameters: {'colsample_bytree': 0.8743796184105305, 'subsample': 0.7722735991205012, 'learning_rate': 0.022764542677866286, 'max_depth': 19, 'min_child_weight': 48}. Best is trial 33 with value: 61.30953867791107.\u001b[0m\n",
      "\u001b[32m[I 2021-07-09 18:37:15,025]\u001b[0m Trial 76 finished with value: 61.60854569324472 and parameters: {'colsample_bytree': 0.9351766684263679, 'subsample': 0.6543749830844818, 'learning_rate': 0.010749859213898942, 'max_depth': 7, 'min_child_weight': 9}. Best is trial 33 with value: 61.30953867791107.\u001b[0m\n",
      "\u001b[32m[I 2021-07-09 18:37:18,823]\u001b[0m Trial 77 finished with value: 67.57073114721814 and parameters: {'colsample_bytree': 0.9094560616904547, 'subsample': 0.7478940797447909, 'learning_rate': 0.013820810497787663, 'max_depth': 7, 'min_child_weight': 84}. Best is trial 33 with value: 61.30953867791107.\u001b[0m\n",
      "\u001b[32m[I 2021-07-09 18:37:21,345]\u001b[0m Trial 78 finished with value: 63.730567953204584 and parameters: {'colsample_bytree': 0.8553344246963439, 'subsample': 0.6588003841580363, 'learning_rate': 0.01384595455455535, 'max_depth': 8, 'min_child_weight': 28}. Best is trial 33 with value: 61.30953867791107.\u001b[0m\n",
      "\u001b[32m[I 2021-07-09 18:37:24,185]\u001b[0m Trial 79 finished with value: 63.80772347213155 and parameters: {'colsample_bytree': 0.941645700816644, 'subsample': 0.6215571524094627, 'learning_rate': 0.015762262582181056, 'max_depth': 7, 'min_child_weight': 31}. Best is trial 33 with value: 61.30953867791107.\u001b[0m\n",
      "\u001b[32m[I 2021-07-09 18:37:25,415]\u001b[0m Trial 80 finished with value: 64.46376054458197 and parameters: {'colsample_bytree': 0.6667808544426067, 'subsample': 0.8167261952918367, 'learning_rate': 0.020059549769124083, 'max_depth': 19, 'min_child_weight': 46}. Best is trial 33 with value: 61.30953867791107.\u001b[0m\n"
     ]
    },
    {
     "name": "stderr",
     "output_type": "stream",
     "text": [
      "\u001b[32m[I 2021-07-09 18:37:27,789]\u001b[0m Trial 81 finished with value: 62.386746274832205 and parameters: {'colsample_bytree': 0.9838205614806013, 'subsample': 0.8657486201527167, 'learning_rate': 0.010652223917633308, 'max_depth': 14, 'min_child_weight': 26}. Best is trial 33 with value: 61.30953867791107.\u001b[0m\n",
      "\u001b[32m[I 2021-07-09 18:37:29,152]\u001b[0m Trial 82 finished with value: 62.69941079155516 and parameters: {'colsample_bytree': 0.7871481086174992, 'subsample': 0.7200898951609719, 'learning_rate': 0.015944764852986352, 'max_depth': 20, 'min_child_weight': 21}. Best is trial 33 with value: 61.30953867791107.\u001b[0m\n",
      "\u001b[32m[I 2021-07-09 18:37:30,390]\u001b[0m Trial 83 finished with value: 68.04526490269446 and parameters: {'colsample_bytree': 0.8993181806962331, 'subsample': 0.901878799172228, 'learning_rate': 0.0660173278871285, 'max_depth': 12, 'min_child_weight': 97}. Best is trial 33 with value: 61.30953867791107.\u001b[0m\n",
      "\u001b[32m[I 2021-07-09 18:37:31,247]\u001b[0m Trial 84 finished with value: 64.24622779129618 and parameters: {'colsample_bytree': 0.9276726570583349, 'subsample': 0.7181360777231868, 'learning_rate': 0.03677830857593361, 'max_depth': 16, 'min_child_weight': 36}. Best is trial 33 with value: 61.30953867791107.\u001b[0m\n",
      "\u001b[32m[I 2021-07-09 18:37:31,920]\u001b[0m Trial 85 finished with value: 61.82400481081799 and parameters: {'colsample_bytree': 0.8819177654649417, 'subsample': 0.6873837601074241, 'learning_rate': 0.04365676670222098, 'max_depth': 18, 'min_child_weight': 13}. Best is trial 33 with value: 61.30953867791107.\u001b[0m\n",
      "\u001b[32m[I 2021-07-09 18:37:33,955]\u001b[0m Trial 86 finished with value: 69.07464253968297 and parameters: {'colsample_bytree': 0.9798043133493205, 'subsample': 0.5467904843096236, 'learning_rate': 0.02388984551186582, 'max_depth': 12, 'min_child_weight': 83}. Best is trial 33 with value: 61.30953867791107.\u001b[0m\n",
      "\u001b[32m[I 2021-07-09 18:37:35,444]\u001b[0m Trial 87 finished with value: 61.71023270833558 and parameters: {'colsample_bytree': 0.9000875859766524, 'subsample': 0.6601577949669374, 'learning_rate': 0.012981827638469376, 'max_depth': 6, 'min_child_weight': 7}. Best is trial 33 with value: 61.30953867791107.\u001b[0m\n",
      "\u001b[32m[I 2021-07-09 18:37:38,141]\u001b[0m Trial 88 finished with value: 61.992897054767084 and parameters: {'colsample_bytree': 0.9029188363135437, 'subsample': 0.5862597603623939, 'learning_rate': 0.01036693754786154, 'max_depth': 8, 'min_child_weight': 4}. Best is trial 33 with value: 61.30953867791107.\u001b[0m\n",
      "\u001b[32m[I 2021-07-09 18:37:42,286]\u001b[0m Trial 89 finished with value: 61.976468460335916 and parameters: {'colsample_bytree': 0.9761433633110128, 'subsample': 0.7442850509668517, 'learning_rate': 0.014946475275834502, 'max_depth': 9, 'min_child_weight': 15}. Best is trial 33 with value: 61.30953867791107.\u001b[0m\n",
      "\u001b[32m[I 2021-07-09 18:37:43,849]\u001b[0m Trial 90 finished with value: 62.763609259168085 and parameters: {'colsample_bytree': 0.9889188755822899, 'subsample': 0.8639299734774534, 'learning_rate': 0.019830347636527287, 'max_depth': 9, 'min_child_weight': 26}. Best is trial 33 with value: 61.30953867791107.\u001b[0m\n",
      "\u001b[32m[I 2021-07-09 18:37:45,597]\u001b[0m Trial 91 finished with value: 61.86497796833186 and parameters: {'colsample_bytree': 0.9209157429871582, 'subsample': 0.6697738061491857, 'learning_rate': 0.010249391092900227, 'max_depth': 12, 'min_child_weight': 8}. Best is trial 33 with value: 61.30953867791107.\u001b[0m\n",
      "\u001b[32m[I 2021-07-09 18:37:49,356]\u001b[0m Trial 92 finished with value: 64.34970815669107 and parameters: {'colsample_bytree': 0.9848402985006074, 'subsample': 0.7389746008482948, 'learning_rate': 0.014602147998129457, 'max_depth': 6, 'min_child_weight': 39}. Best is trial 33 with value: 61.30953867791107.\u001b[0m\n",
      "\u001b[32m[I 2021-07-09 18:37:51,298]\u001b[0m Trial 93 finished with value: 62.780029655161485 and parameters: {'colsample_bytree': 0.881510279440866, 'subsample': 0.670223499495455, 'learning_rate': 0.012955701836136136, 'max_depth': 13, 'min_child_weight': 25}. Best is trial 33 with value: 61.30953867791107.\u001b[0m\n",
      "\u001b[32m[I 2021-07-09 18:37:52,801]\u001b[0m Trial 94 finished with value: 62.09882275702545 and parameters: {'colsample_bytree': 0.9521405740385667, 'subsample': 0.6923644326892097, 'learning_rate': 0.01560515833331181, 'max_depth': 6, 'min_child_weight': 4}. Best is trial 33 with value: 61.30953867791107.\u001b[0m\n",
      "\u001b[32m[I 2021-07-09 18:37:55,132]\u001b[0m Trial 95 finished with value: 62.751736551358555 and parameters: {'colsample_bytree': 0.9973322283896826, 'subsample': 0.6486508575775282, 'learning_rate': 0.016922688562949165, 'max_depth': 13, 'min_child_weight': 22}. Best is trial 33 with value: 61.30953867791107.\u001b[0m\n",
      "\u001b[32m[I 2021-07-09 18:37:56,083]\u001b[0m Trial 96 finished with value: 76.76967667216095 and parameters: {'colsample_bytree': 0.9131395321223439, 'subsample': 0.8956595987896903, 'learning_rate': 0.08870164612498688, 'max_depth': 7, 'min_child_weight': 286}. Best is trial 33 with value: 61.30953867791107.\u001b[0m\n",
      "\u001b[32m[I 2021-07-09 18:37:56,765]\u001b[0m Trial 97 finished with value: 61.18659065836701 and parameters: {'colsample_bytree': 0.9407078053937545, 'subsample': 0.6567160279948582, 'learning_rate': 0.0520414339956619, 'max_depth': 19, 'min_child_weight': 8}. Best is trial 97 with value: 61.18659065836701.\u001b[0m\n",
      "\u001b[32m[I 2021-07-09 18:37:57,375]\u001b[0m Trial 98 finished with value: 63.71723638713689 and parameters: {'colsample_bytree': 0.9819928859856867, 'subsample': 0.6235639536378923, 'learning_rate': 0.05214693448048698, 'max_depth': 17, 'min_child_weight': 28}. Best is trial 97 with value: 61.18659065836701.\u001b[0m\n",
      "\u001b[32m[I 2021-07-09 18:37:58,005]\u001b[0m Trial 99 finished with value: 63.388818266642026 and parameters: {'colsample_bytree': 0.9830690690351844, 'subsample': 0.7020684794276696, 'learning_rate': 0.050452741317911304, 'max_depth': 19, 'min_child_weight': 31}. Best is trial 97 with value: 61.18659065836701.\u001b[0m\n"
     ]
    },
    {
     "name": "stdout",
     "output_type": "stream",
     "text": [
      "Number of finished trials: 100\n",
      "Best trial: {'colsample_bytree': 0.9407078053937545, 'subsample': 0.6567160279948582, 'learning_rate': 0.0520414339956619, 'max_depth': 19, 'min_child_weight': 8}\n"
     ]
    }
   ],
   "source": [
    "sampler = TPESampler(\n",
    "    seed=42,\n",
    "    constant_liar=True,\n",
    "    multivariate=True,\n",
    "    group=True,\n",
    "    n_startup_trials=20,\n",
    ")\n",
    "study = optuna.create_study(direction=\"minimize\", sampler=sampler)\n",
    "study.optimize(objective, n_trials=100)\n",
    "print(\"Number of finished trials:\", len(study.trials))\n",
    "print(\"Best trial:\", study.best_trial.params)"
   ]
  },
  {
   "cell_type": "code",
   "execution_count": 39,
   "id": "680566ed",
   "metadata": {},
   "outputs": [
    {
     "data": {
      "application/vnd.plotly.v1+json": {
       "config": {
        "plotlyServerURL": "https://plot.ly"
       },
       "data": [
        {
         "mode": "markers",
         "name": "Objective Value",
         "type": "scatter",
         "x": [
          0,
          1,
          2,
          3,
          4,
          5,
          6,
          7,
          8,
          9,
          10,
          11,
          12,
          13,
          14,
          15,
          16,
          17,
          18,
          19,
          20,
          21,
          22,
          23,
          24,
          25,
          26,
          27,
          28,
          29,
          30,
          31,
          32,
          33,
          34,
          35,
          36,
          37,
          38,
          39,
          40,
          41,
          42,
          43,
          44,
          45,
          46,
          47,
          48,
          49,
          50,
          51,
          52,
          53,
          54,
          55,
          56,
          57,
          58,
          59,
          60,
          61,
          62,
          63,
          64,
          65,
          66,
          67,
          68,
          69,
          70,
          71,
          72,
          73,
          74,
          75,
          76,
          77,
          78,
          79,
          80,
          81,
          82,
          83,
          84,
          85,
          86,
          87,
          88,
          89,
          90,
          91,
          92,
          93,
          94,
          95,
          96,
          97,
          98,
          99
         ],
         "y": [
          64.72776107366572,
          82.76895714859936,
          64.63486510218836,
          68.79080276067744,
          72.25014382040962,
          62.12086450987758,
          97.91679188428004,
          70.24591072883395,
          67.27152968770233,
          67.01169383855157,
          70.5498654275968,
          68.9526847291388,
          68.18412300236318,
          97.90327344019768,
          81.20715939010704,
          63.688399825965504,
          68.123543923731,
          69.17457770247486,
          75.0436698534212,
          62.99308123509528,
          67.61563342183993,
          66.7774830180637,
          63.29534389432622,
          66.4883656370047,
          63.173077051152184,
          63.138420948007486,
          67.69529252025963,
          64.04473257328266,
          63.42593830593383,
          66.05056535078018,
          63.2214839787773,
          63.42313800200573,
          63.165742473707674,
          61.30953867791107,
          63.46755970907475,
          63.378318070048124,
          63.063895820912734,
          62.35941951182666,
          61.80756429809233,
          62.66630840828405,
          62.212728869190535,
          62.382210494405,
          61.8550758256438,
          63.16425108514438,
          63.846099389850764,
          61.7666410899294,
          62.16708532091004,
          66.62941101242824,
          64.29527700013219,
          62.02531987395734,
          62.64663114600419,
          75.13426372886363,
          62.36136498635645,
          68.72259399245458,
          64.1027688295143,
          64.2081126007586,
          62.60627085859604,
          81.77243497226779,
          79.36159561747345,
          62.661489960897036,
          63.17598281776049,
          63.25386797657329,
          62.000997933234956,
          64.61343404864738,
          63.28425383172641,
          62.73048645356742,
          82.36457681392437,
          76.72298511484051,
          64.42826552417397,
          70.56825694721707,
          64.88807834182656,
          63.18681053035167,
          62.08546578423094,
          63.63770096078103,
          61.81237436789834,
          64.19606688272887,
          61.60854569324472,
          67.57073114721814,
          63.730567953204584,
          63.80772347213155,
          64.46376054458197,
          62.386746274832205,
          62.69941079155516,
          68.04526490269446,
          64.24622779129618,
          61.82400481081799,
          69.07464253968297,
          61.71023270833558,
          61.992897054767084,
          61.976468460335916,
          62.763609259168085,
          61.86497796833186,
          64.34970815669107,
          62.780029655161485,
          62.09882275702545,
          62.751736551358555,
          76.76967667216095,
          61.18659065836701,
          63.71723638713689,
          63.388818266642026
         ]
        },
        {
         "name": "Best Value",
         "type": "scatter",
         "x": [
          0,
          1,
          2,
          3,
          4,
          5,
          6,
          7,
          8,
          9,
          10,
          11,
          12,
          13,
          14,
          15,
          16,
          17,
          18,
          19,
          20,
          21,
          22,
          23,
          24,
          25,
          26,
          27,
          28,
          29,
          30,
          31,
          32,
          33,
          34,
          35,
          36,
          37,
          38,
          39,
          40,
          41,
          42,
          43,
          44,
          45,
          46,
          47,
          48,
          49,
          50,
          51,
          52,
          53,
          54,
          55,
          56,
          57,
          58,
          59,
          60,
          61,
          62,
          63,
          64,
          65,
          66,
          67,
          68,
          69,
          70,
          71,
          72,
          73,
          74,
          75,
          76,
          77,
          78,
          79,
          80,
          81,
          82,
          83,
          84,
          85,
          86,
          87,
          88,
          89,
          90,
          91,
          92,
          93,
          94,
          95,
          96,
          97,
          98,
          99
         ],
         "y": [
          64.72776107366572,
          64.72776107366572,
          64.63486510218836,
          64.63486510218836,
          64.63486510218836,
          62.12086450987758,
          62.12086450987758,
          62.12086450987758,
          62.12086450987758,
          62.12086450987758,
          62.12086450987758,
          62.12086450987758,
          62.12086450987758,
          62.12086450987758,
          62.12086450987758,
          62.12086450987758,
          62.12086450987758,
          62.12086450987758,
          62.12086450987758,
          62.12086450987758,
          62.12086450987758,
          62.12086450987758,
          62.12086450987758,
          62.12086450987758,
          62.12086450987758,
          62.12086450987758,
          62.12086450987758,
          62.12086450987758,
          62.12086450987758,
          62.12086450987758,
          62.12086450987758,
          62.12086450987758,
          62.12086450987758,
          61.30953867791107,
          61.30953867791107,
          61.30953867791107,
          61.30953867791107,
          61.30953867791107,
          61.30953867791107,
          61.30953867791107,
          61.30953867791107,
          61.30953867791107,
          61.30953867791107,
          61.30953867791107,
          61.30953867791107,
          61.30953867791107,
          61.30953867791107,
          61.30953867791107,
          61.30953867791107,
          61.30953867791107,
          61.30953867791107,
          61.30953867791107,
          61.30953867791107,
          61.30953867791107,
          61.30953867791107,
          61.30953867791107,
          61.30953867791107,
          61.30953867791107,
          61.30953867791107,
          61.30953867791107,
          61.30953867791107,
          61.30953867791107,
          61.30953867791107,
          61.30953867791107,
          61.30953867791107,
          61.30953867791107,
          61.30953867791107,
          61.30953867791107,
          61.30953867791107,
          61.30953867791107,
          61.30953867791107,
          61.30953867791107,
          61.30953867791107,
          61.30953867791107,
          61.30953867791107,
          61.30953867791107,
          61.30953867791107,
          61.30953867791107,
          61.30953867791107,
          61.30953867791107,
          61.30953867791107,
          61.30953867791107,
          61.30953867791107,
          61.30953867791107,
          61.30953867791107,
          61.30953867791107,
          61.30953867791107,
          61.30953867791107,
          61.30953867791107,
          61.30953867791107,
          61.30953867791107,
          61.30953867791107,
          61.30953867791107,
          61.30953867791107,
          61.30953867791107,
          61.30953867791107,
          61.30953867791107,
          61.18659065836701,
          61.18659065836701,
          61.18659065836701
         ]
        }
       ],
       "layout": {
        "template": {
         "data": {
          "bar": [
           {
            "error_x": {
             "color": "#2a3f5f"
            },
            "error_y": {
             "color": "#2a3f5f"
            },
            "marker": {
             "line": {
              "color": "#E5ECF6",
              "width": 0.5
             }
            },
            "type": "bar"
           }
          ],
          "barpolar": [
           {
            "marker": {
             "line": {
              "color": "#E5ECF6",
              "width": 0.5
             }
            },
            "type": "barpolar"
           }
          ],
          "carpet": [
           {
            "aaxis": {
             "endlinecolor": "#2a3f5f",
             "gridcolor": "white",
             "linecolor": "white",
             "minorgridcolor": "white",
             "startlinecolor": "#2a3f5f"
            },
            "baxis": {
             "endlinecolor": "#2a3f5f",
             "gridcolor": "white",
             "linecolor": "white",
             "minorgridcolor": "white",
             "startlinecolor": "#2a3f5f"
            },
            "type": "carpet"
           }
          ],
          "choropleth": [
           {
            "colorbar": {
             "outlinewidth": 0,
             "ticks": ""
            },
            "type": "choropleth"
           }
          ],
          "contour": [
           {
            "colorbar": {
             "outlinewidth": 0,
             "ticks": ""
            },
            "colorscale": [
             [
              0,
              "#0d0887"
             ],
             [
              0.1111111111111111,
              "#46039f"
             ],
             [
              0.2222222222222222,
              "#7201a8"
             ],
             [
              0.3333333333333333,
              "#9c179e"
             ],
             [
              0.4444444444444444,
              "#bd3786"
             ],
             [
              0.5555555555555556,
              "#d8576b"
             ],
             [
              0.6666666666666666,
              "#ed7953"
             ],
             [
              0.7777777777777778,
              "#fb9f3a"
             ],
             [
              0.8888888888888888,
              "#fdca26"
             ],
             [
              1,
              "#f0f921"
             ]
            ],
            "type": "contour"
           }
          ],
          "contourcarpet": [
           {
            "colorbar": {
             "outlinewidth": 0,
             "ticks": ""
            },
            "type": "contourcarpet"
           }
          ],
          "heatmap": [
           {
            "colorbar": {
             "outlinewidth": 0,
             "ticks": ""
            },
            "colorscale": [
             [
              0,
              "#0d0887"
             ],
             [
              0.1111111111111111,
              "#46039f"
             ],
             [
              0.2222222222222222,
              "#7201a8"
             ],
             [
              0.3333333333333333,
              "#9c179e"
             ],
             [
              0.4444444444444444,
              "#bd3786"
             ],
             [
              0.5555555555555556,
              "#d8576b"
             ],
             [
              0.6666666666666666,
              "#ed7953"
             ],
             [
              0.7777777777777778,
              "#fb9f3a"
             ],
             [
              0.8888888888888888,
              "#fdca26"
             ],
             [
              1,
              "#f0f921"
             ]
            ],
            "type": "heatmap"
           }
          ],
          "heatmapgl": [
           {
            "colorbar": {
             "outlinewidth": 0,
             "ticks": ""
            },
            "colorscale": [
             [
              0,
              "#0d0887"
             ],
             [
              0.1111111111111111,
              "#46039f"
             ],
             [
              0.2222222222222222,
              "#7201a8"
             ],
             [
              0.3333333333333333,
              "#9c179e"
             ],
             [
              0.4444444444444444,
              "#bd3786"
             ],
             [
              0.5555555555555556,
              "#d8576b"
             ],
             [
              0.6666666666666666,
              "#ed7953"
             ],
             [
              0.7777777777777778,
              "#fb9f3a"
             ],
             [
              0.8888888888888888,
              "#fdca26"
             ],
             [
              1,
              "#f0f921"
             ]
            ],
            "type": "heatmapgl"
           }
          ],
          "histogram": [
           {
            "marker": {
             "colorbar": {
              "outlinewidth": 0,
              "ticks": ""
             }
            },
            "type": "histogram"
           }
          ],
          "histogram2d": [
           {
            "colorbar": {
             "outlinewidth": 0,
             "ticks": ""
            },
            "colorscale": [
             [
              0,
              "#0d0887"
             ],
             [
              0.1111111111111111,
              "#46039f"
             ],
             [
              0.2222222222222222,
              "#7201a8"
             ],
             [
              0.3333333333333333,
              "#9c179e"
             ],
             [
              0.4444444444444444,
              "#bd3786"
             ],
             [
              0.5555555555555556,
              "#d8576b"
             ],
             [
              0.6666666666666666,
              "#ed7953"
             ],
             [
              0.7777777777777778,
              "#fb9f3a"
             ],
             [
              0.8888888888888888,
              "#fdca26"
             ],
             [
              1,
              "#f0f921"
             ]
            ],
            "type": "histogram2d"
           }
          ],
          "histogram2dcontour": [
           {
            "colorbar": {
             "outlinewidth": 0,
             "ticks": ""
            },
            "colorscale": [
             [
              0,
              "#0d0887"
             ],
             [
              0.1111111111111111,
              "#46039f"
             ],
             [
              0.2222222222222222,
              "#7201a8"
             ],
             [
              0.3333333333333333,
              "#9c179e"
             ],
             [
              0.4444444444444444,
              "#bd3786"
             ],
             [
              0.5555555555555556,
              "#d8576b"
             ],
             [
              0.6666666666666666,
              "#ed7953"
             ],
             [
              0.7777777777777778,
              "#fb9f3a"
             ],
             [
              0.8888888888888888,
              "#fdca26"
             ],
             [
              1,
              "#f0f921"
             ]
            ],
            "type": "histogram2dcontour"
           }
          ],
          "mesh3d": [
           {
            "colorbar": {
             "outlinewidth": 0,
             "ticks": ""
            },
            "type": "mesh3d"
           }
          ],
          "parcoords": [
           {
            "line": {
             "colorbar": {
              "outlinewidth": 0,
              "ticks": ""
             }
            },
            "type": "parcoords"
           }
          ],
          "pie": [
           {
            "automargin": true,
            "type": "pie"
           }
          ],
          "scatter": [
           {
            "marker": {
             "colorbar": {
              "outlinewidth": 0,
              "ticks": ""
             }
            },
            "type": "scatter"
           }
          ],
          "scatter3d": [
           {
            "line": {
             "colorbar": {
              "outlinewidth": 0,
              "ticks": ""
             }
            },
            "marker": {
             "colorbar": {
              "outlinewidth": 0,
              "ticks": ""
             }
            },
            "type": "scatter3d"
           }
          ],
          "scattercarpet": [
           {
            "marker": {
             "colorbar": {
              "outlinewidth": 0,
              "ticks": ""
             }
            },
            "type": "scattercarpet"
           }
          ],
          "scattergeo": [
           {
            "marker": {
             "colorbar": {
              "outlinewidth": 0,
              "ticks": ""
             }
            },
            "type": "scattergeo"
           }
          ],
          "scattergl": [
           {
            "marker": {
             "colorbar": {
              "outlinewidth": 0,
              "ticks": ""
             }
            },
            "type": "scattergl"
           }
          ],
          "scattermapbox": [
           {
            "marker": {
             "colorbar": {
              "outlinewidth": 0,
              "ticks": ""
             }
            },
            "type": "scattermapbox"
           }
          ],
          "scatterpolar": [
           {
            "marker": {
             "colorbar": {
              "outlinewidth": 0,
              "ticks": ""
             }
            },
            "type": "scatterpolar"
           }
          ],
          "scatterpolargl": [
           {
            "marker": {
             "colorbar": {
              "outlinewidth": 0,
              "ticks": ""
             }
            },
            "type": "scatterpolargl"
           }
          ],
          "scatterternary": [
           {
            "marker": {
             "colorbar": {
              "outlinewidth": 0,
              "ticks": ""
             }
            },
            "type": "scatterternary"
           }
          ],
          "surface": [
           {
            "colorbar": {
             "outlinewidth": 0,
             "ticks": ""
            },
            "colorscale": [
             [
              0,
              "#0d0887"
             ],
             [
              0.1111111111111111,
              "#46039f"
             ],
             [
              0.2222222222222222,
              "#7201a8"
             ],
             [
              0.3333333333333333,
              "#9c179e"
             ],
             [
              0.4444444444444444,
              "#bd3786"
             ],
             [
              0.5555555555555556,
              "#d8576b"
             ],
             [
              0.6666666666666666,
              "#ed7953"
             ],
             [
              0.7777777777777778,
              "#fb9f3a"
             ],
             [
              0.8888888888888888,
              "#fdca26"
             ],
             [
              1,
              "#f0f921"
             ]
            ],
            "type": "surface"
           }
          ],
          "table": [
           {
            "cells": {
             "fill": {
              "color": "#EBF0F8"
             },
             "line": {
              "color": "white"
             }
            },
            "header": {
             "fill": {
              "color": "#C8D4E3"
             },
             "line": {
              "color": "white"
             }
            },
            "type": "table"
           }
          ]
         },
         "layout": {
          "annotationdefaults": {
           "arrowcolor": "#2a3f5f",
           "arrowhead": 0,
           "arrowwidth": 1
          },
          "autotypenumbers": "strict",
          "coloraxis": {
           "colorbar": {
            "outlinewidth": 0,
            "ticks": ""
           }
          },
          "colorscale": {
           "diverging": [
            [
             0,
             "#8e0152"
            ],
            [
             0.1,
             "#c51b7d"
            ],
            [
             0.2,
             "#de77ae"
            ],
            [
             0.3,
             "#f1b6da"
            ],
            [
             0.4,
             "#fde0ef"
            ],
            [
             0.5,
             "#f7f7f7"
            ],
            [
             0.6,
             "#e6f5d0"
            ],
            [
             0.7,
             "#b8e186"
            ],
            [
             0.8,
             "#7fbc41"
            ],
            [
             0.9,
             "#4d9221"
            ],
            [
             1,
             "#276419"
            ]
           ],
           "sequential": [
            [
             0,
             "#0d0887"
            ],
            [
             0.1111111111111111,
             "#46039f"
            ],
            [
             0.2222222222222222,
             "#7201a8"
            ],
            [
             0.3333333333333333,
             "#9c179e"
            ],
            [
             0.4444444444444444,
             "#bd3786"
            ],
            [
             0.5555555555555556,
             "#d8576b"
            ],
            [
             0.6666666666666666,
             "#ed7953"
            ],
            [
             0.7777777777777778,
             "#fb9f3a"
            ],
            [
             0.8888888888888888,
             "#fdca26"
            ],
            [
             1,
             "#f0f921"
            ]
           ],
           "sequentialminus": [
            [
             0,
             "#0d0887"
            ],
            [
             0.1111111111111111,
             "#46039f"
            ],
            [
             0.2222222222222222,
             "#7201a8"
            ],
            [
             0.3333333333333333,
             "#9c179e"
            ],
            [
             0.4444444444444444,
             "#bd3786"
            ],
            [
             0.5555555555555556,
             "#d8576b"
            ],
            [
             0.6666666666666666,
             "#ed7953"
            ],
            [
             0.7777777777777778,
             "#fb9f3a"
            ],
            [
             0.8888888888888888,
             "#fdca26"
            ],
            [
             1,
             "#f0f921"
            ]
           ]
          },
          "colorway": [
           "#636efa",
           "#EF553B",
           "#00cc96",
           "#ab63fa",
           "#FFA15A",
           "#19d3f3",
           "#FF6692",
           "#B6E880",
           "#FF97FF",
           "#FECB52"
          ],
          "font": {
           "color": "#2a3f5f"
          },
          "geo": {
           "bgcolor": "white",
           "lakecolor": "white",
           "landcolor": "#E5ECF6",
           "showlakes": true,
           "showland": true,
           "subunitcolor": "white"
          },
          "hoverlabel": {
           "align": "left"
          },
          "hovermode": "closest",
          "mapbox": {
           "style": "light"
          },
          "paper_bgcolor": "white",
          "plot_bgcolor": "#E5ECF6",
          "polar": {
           "angularaxis": {
            "gridcolor": "white",
            "linecolor": "white",
            "ticks": ""
           },
           "bgcolor": "#E5ECF6",
           "radialaxis": {
            "gridcolor": "white",
            "linecolor": "white",
            "ticks": ""
           }
          },
          "scene": {
           "xaxis": {
            "backgroundcolor": "#E5ECF6",
            "gridcolor": "white",
            "gridwidth": 2,
            "linecolor": "white",
            "showbackground": true,
            "ticks": "",
            "zerolinecolor": "white"
           },
           "yaxis": {
            "backgroundcolor": "#E5ECF6",
            "gridcolor": "white",
            "gridwidth": 2,
            "linecolor": "white",
            "showbackground": true,
            "ticks": "",
            "zerolinecolor": "white"
           },
           "zaxis": {
            "backgroundcolor": "#E5ECF6",
            "gridcolor": "white",
            "gridwidth": 2,
            "linecolor": "white",
            "showbackground": true,
            "ticks": "",
            "zerolinecolor": "white"
           }
          },
          "shapedefaults": {
           "line": {
            "color": "#2a3f5f"
           }
          },
          "ternary": {
           "aaxis": {
            "gridcolor": "white",
            "linecolor": "white",
            "ticks": ""
           },
           "baxis": {
            "gridcolor": "white",
            "linecolor": "white",
            "ticks": ""
           },
           "bgcolor": "#E5ECF6",
           "caxis": {
            "gridcolor": "white",
            "linecolor": "white",
            "ticks": ""
           }
          },
          "title": {
           "x": 0.05
          },
          "xaxis": {
           "automargin": true,
           "gridcolor": "white",
           "linecolor": "white",
           "ticks": "",
           "title": {
            "standoff": 15
           },
           "zerolinecolor": "white",
           "zerolinewidth": 2
          },
          "yaxis": {
           "automargin": true,
           "gridcolor": "white",
           "linecolor": "white",
           "ticks": "",
           "title": {
            "standoff": 15
           },
           "zerolinecolor": "white",
           "zerolinewidth": 2
          }
         }
        },
        "title": {
         "text": "Optimization History Plot"
        },
        "xaxis": {
         "title": {
          "text": "#Trials"
         }
        },
        "yaxis": {
         "title": {
          "text": "Objective Value"
         }
        }
       }
      },
      "text/html": [
       "<div>                            <div id=\"193def67-f776-4c40-b041-d7f80614355d\" class=\"plotly-graph-div\" style=\"height:525px; width:100%;\"></div>            <script type=\"text/javascript\">                require([\"plotly\"], function(Plotly) {                    window.PLOTLYENV=window.PLOTLYENV || {};                                    if (document.getElementById(\"193def67-f776-4c40-b041-d7f80614355d\")) {                    Plotly.newPlot(                        \"193def67-f776-4c40-b041-d7f80614355d\",                        [{\"mode\": \"markers\", \"name\": \"Objective Value\", \"type\": \"scatter\", \"x\": [0, 1, 2, 3, 4, 5, 6, 7, 8, 9, 10, 11, 12, 13, 14, 15, 16, 17, 18, 19, 20, 21, 22, 23, 24, 25, 26, 27, 28, 29, 30, 31, 32, 33, 34, 35, 36, 37, 38, 39, 40, 41, 42, 43, 44, 45, 46, 47, 48, 49, 50, 51, 52, 53, 54, 55, 56, 57, 58, 59, 60, 61, 62, 63, 64, 65, 66, 67, 68, 69, 70, 71, 72, 73, 74, 75, 76, 77, 78, 79, 80, 81, 82, 83, 84, 85, 86, 87, 88, 89, 90, 91, 92, 93, 94, 95, 96, 97, 98, 99], \"y\": [64.72776107366572, 82.76895714859936, 64.63486510218836, 68.79080276067744, 72.25014382040962, 62.12086450987758, 97.91679188428004, 70.24591072883395, 67.27152968770233, 67.01169383855157, 70.5498654275968, 68.9526847291388, 68.18412300236318, 97.90327344019768, 81.20715939010704, 63.688399825965504, 68.123543923731, 69.17457770247486, 75.0436698534212, 62.99308123509528, 67.61563342183993, 66.7774830180637, 63.29534389432622, 66.4883656370047, 63.173077051152184, 63.138420948007486, 67.69529252025963, 64.04473257328266, 63.42593830593383, 66.05056535078018, 63.2214839787773, 63.42313800200573, 63.165742473707674, 61.30953867791107, 63.46755970907475, 63.378318070048124, 63.063895820912734, 62.35941951182666, 61.80756429809233, 62.66630840828405, 62.212728869190535, 62.382210494405, 61.8550758256438, 63.16425108514438, 63.846099389850764, 61.7666410899294, 62.16708532091004, 66.62941101242824, 64.29527700013219, 62.02531987395734, 62.64663114600419, 75.13426372886363, 62.36136498635645, 68.72259399245458, 64.1027688295143, 64.2081126007586, 62.60627085859604, 81.77243497226779, 79.36159561747345, 62.661489960897036, 63.17598281776049, 63.25386797657329, 62.000997933234956, 64.61343404864738, 63.28425383172641, 62.73048645356742, 82.36457681392437, 76.72298511484051, 64.42826552417397, 70.56825694721707, 64.88807834182656, 63.18681053035167, 62.08546578423094, 63.63770096078103, 61.81237436789834, 64.19606688272887, 61.60854569324472, 67.57073114721814, 63.730567953204584, 63.80772347213155, 64.46376054458197, 62.386746274832205, 62.69941079155516, 68.04526490269446, 64.24622779129618, 61.82400481081799, 69.07464253968297, 61.71023270833558, 61.992897054767084, 61.976468460335916, 62.763609259168085, 61.86497796833186, 64.34970815669107, 62.780029655161485, 62.09882275702545, 62.751736551358555, 76.76967667216095, 61.18659065836701, 63.71723638713689, 63.388818266642026]}, {\"name\": \"Best Value\", \"type\": \"scatter\", \"x\": [0, 1, 2, 3, 4, 5, 6, 7, 8, 9, 10, 11, 12, 13, 14, 15, 16, 17, 18, 19, 20, 21, 22, 23, 24, 25, 26, 27, 28, 29, 30, 31, 32, 33, 34, 35, 36, 37, 38, 39, 40, 41, 42, 43, 44, 45, 46, 47, 48, 49, 50, 51, 52, 53, 54, 55, 56, 57, 58, 59, 60, 61, 62, 63, 64, 65, 66, 67, 68, 69, 70, 71, 72, 73, 74, 75, 76, 77, 78, 79, 80, 81, 82, 83, 84, 85, 86, 87, 88, 89, 90, 91, 92, 93, 94, 95, 96, 97, 98, 99], \"y\": [64.72776107366572, 64.72776107366572, 64.63486510218836, 64.63486510218836, 64.63486510218836, 62.12086450987758, 62.12086450987758, 62.12086450987758, 62.12086450987758, 62.12086450987758, 62.12086450987758, 62.12086450987758, 62.12086450987758, 62.12086450987758, 62.12086450987758, 62.12086450987758, 62.12086450987758, 62.12086450987758, 62.12086450987758, 62.12086450987758, 62.12086450987758, 62.12086450987758, 62.12086450987758, 62.12086450987758, 62.12086450987758, 62.12086450987758, 62.12086450987758, 62.12086450987758, 62.12086450987758, 62.12086450987758, 62.12086450987758, 62.12086450987758, 62.12086450987758, 61.30953867791107, 61.30953867791107, 61.30953867791107, 61.30953867791107, 61.30953867791107, 61.30953867791107, 61.30953867791107, 61.30953867791107, 61.30953867791107, 61.30953867791107, 61.30953867791107, 61.30953867791107, 61.30953867791107, 61.30953867791107, 61.30953867791107, 61.30953867791107, 61.30953867791107, 61.30953867791107, 61.30953867791107, 61.30953867791107, 61.30953867791107, 61.30953867791107, 61.30953867791107, 61.30953867791107, 61.30953867791107, 61.30953867791107, 61.30953867791107, 61.30953867791107, 61.30953867791107, 61.30953867791107, 61.30953867791107, 61.30953867791107, 61.30953867791107, 61.30953867791107, 61.30953867791107, 61.30953867791107, 61.30953867791107, 61.30953867791107, 61.30953867791107, 61.30953867791107, 61.30953867791107, 61.30953867791107, 61.30953867791107, 61.30953867791107, 61.30953867791107, 61.30953867791107, 61.30953867791107, 61.30953867791107, 61.30953867791107, 61.30953867791107, 61.30953867791107, 61.30953867791107, 61.30953867791107, 61.30953867791107, 61.30953867791107, 61.30953867791107, 61.30953867791107, 61.30953867791107, 61.30953867791107, 61.30953867791107, 61.30953867791107, 61.30953867791107, 61.30953867791107, 61.30953867791107, 61.18659065836701, 61.18659065836701, 61.18659065836701]}],                        {\"template\": {\"data\": {\"bar\": [{\"error_x\": {\"color\": \"#2a3f5f\"}, \"error_y\": {\"color\": \"#2a3f5f\"}, \"marker\": {\"line\": {\"color\": \"#E5ECF6\", \"width\": 0.5}}, \"type\": \"bar\"}], \"barpolar\": [{\"marker\": {\"line\": {\"color\": \"#E5ECF6\", \"width\": 0.5}}, \"type\": \"barpolar\"}], \"carpet\": [{\"aaxis\": {\"endlinecolor\": \"#2a3f5f\", \"gridcolor\": \"white\", \"linecolor\": \"white\", \"minorgridcolor\": \"white\", \"startlinecolor\": \"#2a3f5f\"}, \"baxis\": {\"endlinecolor\": \"#2a3f5f\", \"gridcolor\": \"white\", \"linecolor\": \"white\", \"minorgridcolor\": \"white\", \"startlinecolor\": \"#2a3f5f\"}, \"type\": \"carpet\"}], \"choropleth\": [{\"colorbar\": {\"outlinewidth\": 0, \"ticks\": \"\"}, \"type\": \"choropleth\"}], \"contour\": [{\"colorbar\": {\"outlinewidth\": 0, \"ticks\": \"\"}, \"colorscale\": [[0.0, \"#0d0887\"], [0.1111111111111111, \"#46039f\"], [0.2222222222222222, \"#7201a8\"], [0.3333333333333333, \"#9c179e\"], [0.4444444444444444, \"#bd3786\"], [0.5555555555555556, \"#d8576b\"], [0.6666666666666666, \"#ed7953\"], [0.7777777777777778, \"#fb9f3a\"], [0.8888888888888888, \"#fdca26\"], [1.0, \"#f0f921\"]], \"type\": \"contour\"}], \"contourcarpet\": [{\"colorbar\": {\"outlinewidth\": 0, \"ticks\": \"\"}, \"type\": \"contourcarpet\"}], \"heatmap\": [{\"colorbar\": {\"outlinewidth\": 0, \"ticks\": \"\"}, \"colorscale\": [[0.0, \"#0d0887\"], [0.1111111111111111, \"#46039f\"], [0.2222222222222222, \"#7201a8\"], [0.3333333333333333, \"#9c179e\"], [0.4444444444444444, \"#bd3786\"], [0.5555555555555556, \"#d8576b\"], [0.6666666666666666, \"#ed7953\"], [0.7777777777777778, \"#fb9f3a\"], [0.8888888888888888, \"#fdca26\"], [1.0, \"#f0f921\"]], \"type\": \"heatmap\"}], \"heatmapgl\": [{\"colorbar\": {\"outlinewidth\": 0, \"ticks\": \"\"}, \"colorscale\": [[0.0, \"#0d0887\"], [0.1111111111111111, \"#46039f\"], [0.2222222222222222, \"#7201a8\"], [0.3333333333333333, \"#9c179e\"], [0.4444444444444444, \"#bd3786\"], [0.5555555555555556, \"#d8576b\"], [0.6666666666666666, \"#ed7953\"], [0.7777777777777778, \"#fb9f3a\"], [0.8888888888888888, \"#fdca26\"], [1.0, \"#f0f921\"]], \"type\": \"heatmapgl\"}], \"histogram\": [{\"marker\": {\"colorbar\": {\"outlinewidth\": 0, \"ticks\": \"\"}}, \"type\": \"histogram\"}], \"histogram2d\": [{\"colorbar\": {\"outlinewidth\": 0, \"ticks\": \"\"}, \"colorscale\": [[0.0, \"#0d0887\"], [0.1111111111111111, \"#46039f\"], [0.2222222222222222, \"#7201a8\"], [0.3333333333333333, \"#9c179e\"], [0.4444444444444444, \"#bd3786\"], [0.5555555555555556, \"#d8576b\"], [0.6666666666666666, \"#ed7953\"], [0.7777777777777778, \"#fb9f3a\"], [0.8888888888888888, \"#fdca26\"], [1.0, \"#f0f921\"]], \"type\": \"histogram2d\"}], \"histogram2dcontour\": [{\"colorbar\": {\"outlinewidth\": 0, \"ticks\": \"\"}, \"colorscale\": [[0.0, \"#0d0887\"], [0.1111111111111111, \"#46039f\"], [0.2222222222222222, \"#7201a8\"], [0.3333333333333333, \"#9c179e\"], [0.4444444444444444, \"#bd3786\"], [0.5555555555555556, \"#d8576b\"], [0.6666666666666666, \"#ed7953\"], [0.7777777777777778, \"#fb9f3a\"], [0.8888888888888888, \"#fdca26\"], [1.0, \"#f0f921\"]], \"type\": \"histogram2dcontour\"}], \"mesh3d\": [{\"colorbar\": {\"outlinewidth\": 0, \"ticks\": \"\"}, \"type\": \"mesh3d\"}], \"parcoords\": [{\"line\": {\"colorbar\": {\"outlinewidth\": 0, \"ticks\": \"\"}}, \"type\": \"parcoords\"}], \"pie\": [{\"automargin\": true, \"type\": \"pie\"}], \"scatter\": [{\"marker\": {\"colorbar\": {\"outlinewidth\": 0, \"ticks\": \"\"}}, \"type\": \"scatter\"}], \"scatter3d\": [{\"line\": {\"colorbar\": {\"outlinewidth\": 0, \"ticks\": \"\"}}, \"marker\": {\"colorbar\": {\"outlinewidth\": 0, \"ticks\": \"\"}}, \"type\": \"scatter3d\"}], \"scattercarpet\": [{\"marker\": {\"colorbar\": {\"outlinewidth\": 0, \"ticks\": \"\"}}, \"type\": \"scattercarpet\"}], \"scattergeo\": [{\"marker\": {\"colorbar\": {\"outlinewidth\": 0, \"ticks\": \"\"}}, \"type\": \"scattergeo\"}], \"scattergl\": [{\"marker\": {\"colorbar\": {\"outlinewidth\": 0, \"ticks\": \"\"}}, \"type\": \"scattergl\"}], \"scattermapbox\": [{\"marker\": {\"colorbar\": {\"outlinewidth\": 0, \"ticks\": \"\"}}, \"type\": \"scattermapbox\"}], \"scatterpolar\": [{\"marker\": {\"colorbar\": {\"outlinewidth\": 0, \"ticks\": \"\"}}, \"type\": \"scatterpolar\"}], \"scatterpolargl\": [{\"marker\": {\"colorbar\": {\"outlinewidth\": 0, \"ticks\": \"\"}}, \"type\": \"scatterpolargl\"}], \"scatterternary\": [{\"marker\": {\"colorbar\": {\"outlinewidth\": 0, \"ticks\": \"\"}}, \"type\": \"scatterternary\"}], \"surface\": [{\"colorbar\": {\"outlinewidth\": 0, \"ticks\": \"\"}, \"colorscale\": [[0.0, \"#0d0887\"], [0.1111111111111111, \"#46039f\"], [0.2222222222222222, \"#7201a8\"], [0.3333333333333333, \"#9c179e\"], [0.4444444444444444, \"#bd3786\"], [0.5555555555555556, \"#d8576b\"], [0.6666666666666666, \"#ed7953\"], [0.7777777777777778, \"#fb9f3a\"], [0.8888888888888888, \"#fdca26\"], [1.0, \"#f0f921\"]], \"type\": \"surface\"}], \"table\": [{\"cells\": {\"fill\": {\"color\": \"#EBF0F8\"}, \"line\": {\"color\": \"white\"}}, \"header\": {\"fill\": {\"color\": \"#C8D4E3\"}, \"line\": {\"color\": \"white\"}}, \"type\": \"table\"}]}, \"layout\": {\"annotationdefaults\": {\"arrowcolor\": \"#2a3f5f\", \"arrowhead\": 0, \"arrowwidth\": 1}, \"autotypenumbers\": \"strict\", \"coloraxis\": {\"colorbar\": {\"outlinewidth\": 0, \"ticks\": \"\"}}, \"colorscale\": {\"diverging\": [[0, \"#8e0152\"], [0.1, \"#c51b7d\"], [0.2, \"#de77ae\"], [0.3, \"#f1b6da\"], [0.4, \"#fde0ef\"], [0.5, \"#f7f7f7\"], [0.6, \"#e6f5d0\"], [0.7, \"#b8e186\"], [0.8, \"#7fbc41\"], [0.9, \"#4d9221\"], [1, \"#276419\"]], \"sequential\": [[0.0, \"#0d0887\"], [0.1111111111111111, \"#46039f\"], [0.2222222222222222, \"#7201a8\"], [0.3333333333333333, \"#9c179e\"], [0.4444444444444444, \"#bd3786\"], [0.5555555555555556, \"#d8576b\"], [0.6666666666666666, \"#ed7953\"], [0.7777777777777778, \"#fb9f3a\"], [0.8888888888888888, \"#fdca26\"], [1.0, \"#f0f921\"]], \"sequentialminus\": [[0.0, \"#0d0887\"], [0.1111111111111111, \"#46039f\"], [0.2222222222222222, \"#7201a8\"], [0.3333333333333333, \"#9c179e\"], [0.4444444444444444, \"#bd3786\"], [0.5555555555555556, \"#d8576b\"], [0.6666666666666666, \"#ed7953\"], [0.7777777777777778, \"#fb9f3a\"], [0.8888888888888888, \"#fdca26\"], [1.0, \"#f0f921\"]]}, \"colorway\": [\"#636efa\", \"#EF553B\", \"#00cc96\", \"#ab63fa\", \"#FFA15A\", \"#19d3f3\", \"#FF6692\", \"#B6E880\", \"#FF97FF\", \"#FECB52\"], \"font\": {\"color\": \"#2a3f5f\"}, \"geo\": {\"bgcolor\": \"white\", \"lakecolor\": \"white\", \"landcolor\": \"#E5ECF6\", \"showlakes\": true, \"showland\": true, \"subunitcolor\": \"white\"}, \"hoverlabel\": {\"align\": \"left\"}, \"hovermode\": \"closest\", \"mapbox\": {\"style\": \"light\"}, \"paper_bgcolor\": \"white\", \"plot_bgcolor\": \"#E5ECF6\", \"polar\": {\"angularaxis\": {\"gridcolor\": \"white\", \"linecolor\": \"white\", \"ticks\": \"\"}, \"bgcolor\": \"#E5ECF6\", \"radialaxis\": {\"gridcolor\": \"white\", \"linecolor\": \"white\", \"ticks\": \"\"}}, \"scene\": {\"xaxis\": {\"backgroundcolor\": \"#E5ECF6\", \"gridcolor\": \"white\", \"gridwidth\": 2, \"linecolor\": \"white\", \"showbackground\": true, \"ticks\": \"\", \"zerolinecolor\": \"white\"}, \"yaxis\": {\"backgroundcolor\": \"#E5ECF6\", \"gridcolor\": \"white\", \"gridwidth\": 2, \"linecolor\": \"white\", \"showbackground\": true, \"ticks\": \"\", \"zerolinecolor\": \"white\"}, \"zaxis\": {\"backgroundcolor\": \"#E5ECF6\", \"gridcolor\": \"white\", \"gridwidth\": 2, \"linecolor\": \"white\", \"showbackground\": true, \"ticks\": \"\", \"zerolinecolor\": \"white\"}}, \"shapedefaults\": {\"line\": {\"color\": \"#2a3f5f\"}}, \"ternary\": {\"aaxis\": {\"gridcolor\": \"white\", \"linecolor\": \"white\", \"ticks\": \"\"}, \"baxis\": {\"gridcolor\": \"white\", \"linecolor\": \"white\", \"ticks\": \"\"}, \"bgcolor\": \"#E5ECF6\", \"caxis\": {\"gridcolor\": \"white\", \"linecolor\": \"white\", \"ticks\": \"\"}}, \"title\": {\"x\": 0.05}, \"xaxis\": {\"automargin\": true, \"gridcolor\": \"white\", \"linecolor\": \"white\", \"ticks\": \"\", \"title\": {\"standoff\": 15}, \"zerolinecolor\": \"white\", \"zerolinewidth\": 2}, \"yaxis\": {\"automargin\": true, \"gridcolor\": \"white\", \"linecolor\": \"white\", \"ticks\": \"\", \"title\": {\"standoff\": 15}, \"zerolinecolor\": \"white\", \"zerolinewidth\": 2}}}, \"title\": {\"text\": \"Optimization History Plot\"}, \"xaxis\": {\"title\": {\"text\": \"#Trials\"}}, \"yaxis\": {\"title\": {\"text\": \"Objective Value\"}}},                        {\"responsive\": true}                    ).then(function(){\n",
       "                            \n",
       "var gd = document.getElementById('193def67-f776-4c40-b041-d7f80614355d');\n",
       "var x = new MutationObserver(function (mutations, observer) {{\n",
       "        var display = window.getComputedStyle(gd).display;\n",
       "        if (!display || display === 'none') {{\n",
       "            console.log([gd, 'removed!']);\n",
       "            Plotly.purge(gd);\n",
       "            observer.disconnect();\n",
       "        }}\n",
       "}});\n",
       "\n",
       "// Listen for the removal of the full notebook cells\n",
       "var notebookContainer = gd.closest('#notebook-container');\n",
       "if (notebookContainer) {{\n",
       "    x.observe(notebookContainer, {childList: true});\n",
       "}}\n",
       "\n",
       "// Listen for the clearing of the current output cell\n",
       "var outputEl = gd.closest('.output');\n",
       "if (outputEl) {{\n",
       "    x.observe(outputEl, {childList: true});\n",
       "}}\n",
       "\n",
       "                        })                };                });            </script>        </div>"
      ]
     },
     "metadata": {},
     "output_type": "display_data"
    }
   ],
   "source": [
    "# 시각화\n",
    "optuna.visualization.plot_optimization_history(study)"
   ]
  },
  {
   "cell_type": "code",
   "execution_count": 40,
   "id": "d825c4b1",
   "metadata": {},
   "outputs": [
    {
     "data": {
      "application/vnd.plotly.v1+json": {
       "config": {
        "plotlyServerURL": "https://plot.ly"
       },
       "data": [
        {
         "cliponaxis": false,
         "hovertemplate": [
          "colsample_bytree (UniformDistribution): 0.0012903227535603133<extra></extra>",
          "max_depth (IntUniformDistribution): 0.01297548644902375<extra></extra>",
          "learning_rate (UniformDistribution): 0.014506324979023611<extra></extra>",
          "subsample (UniformDistribution): 0.04729958403243375<extra></extra>",
          "min_child_weight (IntUniformDistribution): 0.9239282817859584<extra></extra>"
         ],
         "marker": {
          "color": "rgb(66,146,198)"
         },
         "orientation": "h",
         "text": [
          "0.0012903227535603133",
          "0.01297548644902375",
          "0.014506324979023611",
          "0.04729958403243375",
          "0.9239282817859584"
         ],
         "textposition": "outside",
         "texttemplate": "%{text:.2f}",
         "type": "bar",
         "x": [
          0.0012903227535603133,
          0.01297548644902375,
          0.014506324979023611,
          0.04729958403243375,
          0.9239282817859584
         ],
         "y": [
          "colsample_bytree",
          "max_depth",
          "learning_rate",
          "subsample",
          "min_child_weight"
         ]
        }
       ],
       "layout": {
        "showlegend": false,
        "template": {
         "data": {
          "bar": [
           {
            "error_x": {
             "color": "#2a3f5f"
            },
            "error_y": {
             "color": "#2a3f5f"
            },
            "marker": {
             "line": {
              "color": "#E5ECF6",
              "width": 0.5
             }
            },
            "type": "bar"
           }
          ],
          "barpolar": [
           {
            "marker": {
             "line": {
              "color": "#E5ECF6",
              "width": 0.5
             }
            },
            "type": "barpolar"
           }
          ],
          "carpet": [
           {
            "aaxis": {
             "endlinecolor": "#2a3f5f",
             "gridcolor": "white",
             "linecolor": "white",
             "minorgridcolor": "white",
             "startlinecolor": "#2a3f5f"
            },
            "baxis": {
             "endlinecolor": "#2a3f5f",
             "gridcolor": "white",
             "linecolor": "white",
             "minorgridcolor": "white",
             "startlinecolor": "#2a3f5f"
            },
            "type": "carpet"
           }
          ],
          "choropleth": [
           {
            "colorbar": {
             "outlinewidth": 0,
             "ticks": ""
            },
            "type": "choropleth"
           }
          ],
          "contour": [
           {
            "colorbar": {
             "outlinewidth": 0,
             "ticks": ""
            },
            "colorscale": [
             [
              0,
              "#0d0887"
             ],
             [
              0.1111111111111111,
              "#46039f"
             ],
             [
              0.2222222222222222,
              "#7201a8"
             ],
             [
              0.3333333333333333,
              "#9c179e"
             ],
             [
              0.4444444444444444,
              "#bd3786"
             ],
             [
              0.5555555555555556,
              "#d8576b"
             ],
             [
              0.6666666666666666,
              "#ed7953"
             ],
             [
              0.7777777777777778,
              "#fb9f3a"
             ],
             [
              0.8888888888888888,
              "#fdca26"
             ],
             [
              1,
              "#f0f921"
             ]
            ],
            "type": "contour"
           }
          ],
          "contourcarpet": [
           {
            "colorbar": {
             "outlinewidth": 0,
             "ticks": ""
            },
            "type": "contourcarpet"
           }
          ],
          "heatmap": [
           {
            "colorbar": {
             "outlinewidth": 0,
             "ticks": ""
            },
            "colorscale": [
             [
              0,
              "#0d0887"
             ],
             [
              0.1111111111111111,
              "#46039f"
             ],
             [
              0.2222222222222222,
              "#7201a8"
             ],
             [
              0.3333333333333333,
              "#9c179e"
             ],
             [
              0.4444444444444444,
              "#bd3786"
             ],
             [
              0.5555555555555556,
              "#d8576b"
             ],
             [
              0.6666666666666666,
              "#ed7953"
             ],
             [
              0.7777777777777778,
              "#fb9f3a"
             ],
             [
              0.8888888888888888,
              "#fdca26"
             ],
             [
              1,
              "#f0f921"
             ]
            ],
            "type": "heatmap"
           }
          ],
          "heatmapgl": [
           {
            "colorbar": {
             "outlinewidth": 0,
             "ticks": ""
            },
            "colorscale": [
             [
              0,
              "#0d0887"
             ],
             [
              0.1111111111111111,
              "#46039f"
             ],
             [
              0.2222222222222222,
              "#7201a8"
             ],
             [
              0.3333333333333333,
              "#9c179e"
             ],
             [
              0.4444444444444444,
              "#bd3786"
             ],
             [
              0.5555555555555556,
              "#d8576b"
             ],
             [
              0.6666666666666666,
              "#ed7953"
             ],
             [
              0.7777777777777778,
              "#fb9f3a"
             ],
             [
              0.8888888888888888,
              "#fdca26"
             ],
             [
              1,
              "#f0f921"
             ]
            ],
            "type": "heatmapgl"
           }
          ],
          "histogram": [
           {
            "marker": {
             "colorbar": {
              "outlinewidth": 0,
              "ticks": ""
             }
            },
            "type": "histogram"
           }
          ],
          "histogram2d": [
           {
            "colorbar": {
             "outlinewidth": 0,
             "ticks": ""
            },
            "colorscale": [
             [
              0,
              "#0d0887"
             ],
             [
              0.1111111111111111,
              "#46039f"
             ],
             [
              0.2222222222222222,
              "#7201a8"
             ],
             [
              0.3333333333333333,
              "#9c179e"
             ],
             [
              0.4444444444444444,
              "#bd3786"
             ],
             [
              0.5555555555555556,
              "#d8576b"
             ],
             [
              0.6666666666666666,
              "#ed7953"
             ],
             [
              0.7777777777777778,
              "#fb9f3a"
             ],
             [
              0.8888888888888888,
              "#fdca26"
             ],
             [
              1,
              "#f0f921"
             ]
            ],
            "type": "histogram2d"
           }
          ],
          "histogram2dcontour": [
           {
            "colorbar": {
             "outlinewidth": 0,
             "ticks": ""
            },
            "colorscale": [
             [
              0,
              "#0d0887"
             ],
             [
              0.1111111111111111,
              "#46039f"
             ],
             [
              0.2222222222222222,
              "#7201a8"
             ],
             [
              0.3333333333333333,
              "#9c179e"
             ],
             [
              0.4444444444444444,
              "#bd3786"
             ],
             [
              0.5555555555555556,
              "#d8576b"
             ],
             [
              0.6666666666666666,
              "#ed7953"
             ],
             [
              0.7777777777777778,
              "#fb9f3a"
             ],
             [
              0.8888888888888888,
              "#fdca26"
             ],
             [
              1,
              "#f0f921"
             ]
            ],
            "type": "histogram2dcontour"
           }
          ],
          "mesh3d": [
           {
            "colorbar": {
             "outlinewidth": 0,
             "ticks": ""
            },
            "type": "mesh3d"
           }
          ],
          "parcoords": [
           {
            "line": {
             "colorbar": {
              "outlinewidth": 0,
              "ticks": ""
             }
            },
            "type": "parcoords"
           }
          ],
          "pie": [
           {
            "automargin": true,
            "type": "pie"
           }
          ],
          "scatter": [
           {
            "marker": {
             "colorbar": {
              "outlinewidth": 0,
              "ticks": ""
             }
            },
            "type": "scatter"
           }
          ],
          "scatter3d": [
           {
            "line": {
             "colorbar": {
              "outlinewidth": 0,
              "ticks": ""
             }
            },
            "marker": {
             "colorbar": {
              "outlinewidth": 0,
              "ticks": ""
             }
            },
            "type": "scatter3d"
           }
          ],
          "scattercarpet": [
           {
            "marker": {
             "colorbar": {
              "outlinewidth": 0,
              "ticks": ""
             }
            },
            "type": "scattercarpet"
           }
          ],
          "scattergeo": [
           {
            "marker": {
             "colorbar": {
              "outlinewidth": 0,
              "ticks": ""
             }
            },
            "type": "scattergeo"
           }
          ],
          "scattergl": [
           {
            "marker": {
             "colorbar": {
              "outlinewidth": 0,
              "ticks": ""
             }
            },
            "type": "scattergl"
           }
          ],
          "scattermapbox": [
           {
            "marker": {
             "colorbar": {
              "outlinewidth": 0,
              "ticks": ""
             }
            },
            "type": "scattermapbox"
           }
          ],
          "scatterpolar": [
           {
            "marker": {
             "colorbar": {
              "outlinewidth": 0,
              "ticks": ""
             }
            },
            "type": "scatterpolar"
           }
          ],
          "scatterpolargl": [
           {
            "marker": {
             "colorbar": {
              "outlinewidth": 0,
              "ticks": ""
             }
            },
            "type": "scatterpolargl"
           }
          ],
          "scatterternary": [
           {
            "marker": {
             "colorbar": {
              "outlinewidth": 0,
              "ticks": ""
             }
            },
            "type": "scatterternary"
           }
          ],
          "surface": [
           {
            "colorbar": {
             "outlinewidth": 0,
             "ticks": ""
            },
            "colorscale": [
             [
              0,
              "#0d0887"
             ],
             [
              0.1111111111111111,
              "#46039f"
             ],
             [
              0.2222222222222222,
              "#7201a8"
             ],
             [
              0.3333333333333333,
              "#9c179e"
             ],
             [
              0.4444444444444444,
              "#bd3786"
             ],
             [
              0.5555555555555556,
              "#d8576b"
             ],
             [
              0.6666666666666666,
              "#ed7953"
             ],
             [
              0.7777777777777778,
              "#fb9f3a"
             ],
             [
              0.8888888888888888,
              "#fdca26"
             ],
             [
              1,
              "#f0f921"
             ]
            ],
            "type": "surface"
           }
          ],
          "table": [
           {
            "cells": {
             "fill": {
              "color": "#EBF0F8"
             },
             "line": {
              "color": "white"
             }
            },
            "header": {
             "fill": {
              "color": "#C8D4E3"
             },
             "line": {
              "color": "white"
             }
            },
            "type": "table"
           }
          ]
         },
         "layout": {
          "annotationdefaults": {
           "arrowcolor": "#2a3f5f",
           "arrowhead": 0,
           "arrowwidth": 1
          },
          "autotypenumbers": "strict",
          "coloraxis": {
           "colorbar": {
            "outlinewidth": 0,
            "ticks": ""
           }
          },
          "colorscale": {
           "diverging": [
            [
             0,
             "#8e0152"
            ],
            [
             0.1,
             "#c51b7d"
            ],
            [
             0.2,
             "#de77ae"
            ],
            [
             0.3,
             "#f1b6da"
            ],
            [
             0.4,
             "#fde0ef"
            ],
            [
             0.5,
             "#f7f7f7"
            ],
            [
             0.6,
             "#e6f5d0"
            ],
            [
             0.7,
             "#b8e186"
            ],
            [
             0.8,
             "#7fbc41"
            ],
            [
             0.9,
             "#4d9221"
            ],
            [
             1,
             "#276419"
            ]
           ],
           "sequential": [
            [
             0,
             "#0d0887"
            ],
            [
             0.1111111111111111,
             "#46039f"
            ],
            [
             0.2222222222222222,
             "#7201a8"
            ],
            [
             0.3333333333333333,
             "#9c179e"
            ],
            [
             0.4444444444444444,
             "#bd3786"
            ],
            [
             0.5555555555555556,
             "#d8576b"
            ],
            [
             0.6666666666666666,
             "#ed7953"
            ],
            [
             0.7777777777777778,
             "#fb9f3a"
            ],
            [
             0.8888888888888888,
             "#fdca26"
            ],
            [
             1,
             "#f0f921"
            ]
           ],
           "sequentialminus": [
            [
             0,
             "#0d0887"
            ],
            [
             0.1111111111111111,
             "#46039f"
            ],
            [
             0.2222222222222222,
             "#7201a8"
            ],
            [
             0.3333333333333333,
             "#9c179e"
            ],
            [
             0.4444444444444444,
             "#bd3786"
            ],
            [
             0.5555555555555556,
             "#d8576b"
            ],
            [
             0.6666666666666666,
             "#ed7953"
            ],
            [
             0.7777777777777778,
             "#fb9f3a"
            ],
            [
             0.8888888888888888,
             "#fdca26"
            ],
            [
             1,
             "#f0f921"
            ]
           ]
          },
          "colorway": [
           "#636efa",
           "#EF553B",
           "#00cc96",
           "#ab63fa",
           "#FFA15A",
           "#19d3f3",
           "#FF6692",
           "#B6E880",
           "#FF97FF",
           "#FECB52"
          ],
          "font": {
           "color": "#2a3f5f"
          },
          "geo": {
           "bgcolor": "white",
           "lakecolor": "white",
           "landcolor": "#E5ECF6",
           "showlakes": true,
           "showland": true,
           "subunitcolor": "white"
          },
          "hoverlabel": {
           "align": "left"
          },
          "hovermode": "closest",
          "mapbox": {
           "style": "light"
          },
          "paper_bgcolor": "white",
          "plot_bgcolor": "#E5ECF6",
          "polar": {
           "angularaxis": {
            "gridcolor": "white",
            "linecolor": "white",
            "ticks": ""
           },
           "bgcolor": "#E5ECF6",
           "radialaxis": {
            "gridcolor": "white",
            "linecolor": "white",
            "ticks": ""
           }
          },
          "scene": {
           "xaxis": {
            "backgroundcolor": "#E5ECF6",
            "gridcolor": "white",
            "gridwidth": 2,
            "linecolor": "white",
            "showbackground": true,
            "ticks": "",
            "zerolinecolor": "white"
           },
           "yaxis": {
            "backgroundcolor": "#E5ECF6",
            "gridcolor": "white",
            "gridwidth": 2,
            "linecolor": "white",
            "showbackground": true,
            "ticks": "",
            "zerolinecolor": "white"
           },
           "zaxis": {
            "backgroundcolor": "#E5ECF6",
            "gridcolor": "white",
            "gridwidth": 2,
            "linecolor": "white",
            "showbackground": true,
            "ticks": "",
            "zerolinecolor": "white"
           }
          },
          "shapedefaults": {
           "line": {
            "color": "#2a3f5f"
           }
          },
          "ternary": {
           "aaxis": {
            "gridcolor": "white",
            "linecolor": "white",
            "ticks": ""
           },
           "baxis": {
            "gridcolor": "white",
            "linecolor": "white",
            "ticks": ""
           },
           "bgcolor": "#E5ECF6",
           "caxis": {
            "gridcolor": "white",
            "linecolor": "white",
            "ticks": ""
           }
          },
          "title": {
           "x": 0.05
          },
          "xaxis": {
           "automargin": true,
           "gridcolor": "white",
           "linecolor": "white",
           "ticks": "",
           "title": {
            "standoff": 15
           },
           "zerolinecolor": "white",
           "zerolinewidth": 2
          },
          "yaxis": {
           "automargin": true,
           "gridcolor": "white",
           "linecolor": "white",
           "ticks": "",
           "title": {
            "standoff": 15
           },
           "zerolinecolor": "white",
           "zerolinewidth": 2
          }
         }
        },
        "title": {
         "text": "Hyperparameter Importances"
        },
        "xaxis": {
         "title": {
          "text": "Importance for Objective Value"
         }
        },
        "yaxis": {
         "title": {
          "text": "Hyperparameter"
         }
        }
       }
      },
      "text/html": [
       "<div>                            <div id=\"fc3a8a71-a89f-48ca-a149-e1fdf36e1735\" class=\"plotly-graph-div\" style=\"height:525px; width:100%;\"></div>            <script type=\"text/javascript\">                require([\"plotly\"], function(Plotly) {                    window.PLOTLYENV=window.PLOTLYENV || {};                                    if (document.getElementById(\"fc3a8a71-a89f-48ca-a149-e1fdf36e1735\")) {                    Plotly.newPlot(                        \"fc3a8a71-a89f-48ca-a149-e1fdf36e1735\",                        [{\"cliponaxis\": false, \"hovertemplate\": [\"colsample_bytree (UniformDistribution): 0.0012903227535603133<extra></extra>\", \"max_depth (IntUniformDistribution): 0.01297548644902375<extra></extra>\", \"learning_rate (UniformDistribution): 0.014506324979023611<extra></extra>\", \"subsample (UniformDistribution): 0.04729958403243375<extra></extra>\", \"min_child_weight (IntUniformDistribution): 0.9239282817859584<extra></extra>\"], \"marker\": {\"color\": \"rgb(66,146,198)\"}, \"orientation\": \"h\", \"text\": [\"0.0012903227535603133\", \"0.01297548644902375\", \"0.014506324979023611\", \"0.04729958403243375\", \"0.9239282817859584\"], \"textposition\": \"outside\", \"texttemplate\": \"%{text:.2f}\", \"type\": \"bar\", \"x\": [0.0012903227535603133, 0.01297548644902375, 0.014506324979023611, 0.04729958403243375, 0.9239282817859584], \"y\": [\"colsample_bytree\", \"max_depth\", \"learning_rate\", \"subsample\", \"min_child_weight\"]}],                        {\"showlegend\": false, \"template\": {\"data\": {\"bar\": [{\"error_x\": {\"color\": \"#2a3f5f\"}, \"error_y\": {\"color\": \"#2a3f5f\"}, \"marker\": {\"line\": {\"color\": \"#E5ECF6\", \"width\": 0.5}}, \"type\": \"bar\"}], \"barpolar\": [{\"marker\": {\"line\": {\"color\": \"#E5ECF6\", \"width\": 0.5}}, \"type\": \"barpolar\"}], \"carpet\": [{\"aaxis\": {\"endlinecolor\": \"#2a3f5f\", \"gridcolor\": \"white\", \"linecolor\": \"white\", \"minorgridcolor\": \"white\", \"startlinecolor\": \"#2a3f5f\"}, \"baxis\": {\"endlinecolor\": \"#2a3f5f\", \"gridcolor\": \"white\", \"linecolor\": \"white\", \"minorgridcolor\": \"white\", \"startlinecolor\": \"#2a3f5f\"}, \"type\": \"carpet\"}], \"choropleth\": [{\"colorbar\": {\"outlinewidth\": 0, \"ticks\": \"\"}, \"type\": \"choropleth\"}], \"contour\": [{\"colorbar\": {\"outlinewidth\": 0, \"ticks\": \"\"}, \"colorscale\": [[0.0, \"#0d0887\"], [0.1111111111111111, \"#46039f\"], [0.2222222222222222, \"#7201a8\"], [0.3333333333333333, \"#9c179e\"], [0.4444444444444444, \"#bd3786\"], [0.5555555555555556, \"#d8576b\"], [0.6666666666666666, \"#ed7953\"], [0.7777777777777778, \"#fb9f3a\"], [0.8888888888888888, \"#fdca26\"], [1.0, \"#f0f921\"]], \"type\": \"contour\"}], \"contourcarpet\": [{\"colorbar\": {\"outlinewidth\": 0, \"ticks\": \"\"}, \"type\": \"contourcarpet\"}], \"heatmap\": [{\"colorbar\": {\"outlinewidth\": 0, \"ticks\": \"\"}, \"colorscale\": [[0.0, \"#0d0887\"], [0.1111111111111111, \"#46039f\"], [0.2222222222222222, \"#7201a8\"], [0.3333333333333333, \"#9c179e\"], [0.4444444444444444, \"#bd3786\"], [0.5555555555555556, \"#d8576b\"], [0.6666666666666666, \"#ed7953\"], [0.7777777777777778, \"#fb9f3a\"], [0.8888888888888888, \"#fdca26\"], [1.0, \"#f0f921\"]], \"type\": \"heatmap\"}], \"heatmapgl\": [{\"colorbar\": {\"outlinewidth\": 0, \"ticks\": \"\"}, \"colorscale\": [[0.0, \"#0d0887\"], [0.1111111111111111, \"#46039f\"], [0.2222222222222222, \"#7201a8\"], [0.3333333333333333, \"#9c179e\"], [0.4444444444444444, \"#bd3786\"], [0.5555555555555556, \"#d8576b\"], [0.6666666666666666, \"#ed7953\"], [0.7777777777777778, \"#fb9f3a\"], [0.8888888888888888, \"#fdca26\"], [1.0, \"#f0f921\"]], \"type\": \"heatmapgl\"}], \"histogram\": [{\"marker\": {\"colorbar\": {\"outlinewidth\": 0, \"ticks\": \"\"}}, \"type\": \"histogram\"}], \"histogram2d\": [{\"colorbar\": {\"outlinewidth\": 0, \"ticks\": \"\"}, \"colorscale\": [[0.0, \"#0d0887\"], [0.1111111111111111, \"#46039f\"], [0.2222222222222222, \"#7201a8\"], [0.3333333333333333, \"#9c179e\"], [0.4444444444444444, \"#bd3786\"], [0.5555555555555556, \"#d8576b\"], [0.6666666666666666, \"#ed7953\"], [0.7777777777777778, \"#fb9f3a\"], [0.8888888888888888, \"#fdca26\"], [1.0, \"#f0f921\"]], \"type\": \"histogram2d\"}], \"histogram2dcontour\": [{\"colorbar\": {\"outlinewidth\": 0, \"ticks\": \"\"}, \"colorscale\": [[0.0, \"#0d0887\"], [0.1111111111111111, \"#46039f\"], [0.2222222222222222, \"#7201a8\"], [0.3333333333333333, \"#9c179e\"], [0.4444444444444444, \"#bd3786\"], [0.5555555555555556, \"#d8576b\"], [0.6666666666666666, \"#ed7953\"], [0.7777777777777778, \"#fb9f3a\"], [0.8888888888888888, \"#fdca26\"], [1.0, \"#f0f921\"]], \"type\": \"histogram2dcontour\"}], \"mesh3d\": [{\"colorbar\": {\"outlinewidth\": 0, \"ticks\": \"\"}, \"type\": \"mesh3d\"}], \"parcoords\": [{\"line\": {\"colorbar\": {\"outlinewidth\": 0, \"ticks\": \"\"}}, \"type\": \"parcoords\"}], \"pie\": [{\"automargin\": true, \"type\": \"pie\"}], \"scatter\": [{\"marker\": {\"colorbar\": {\"outlinewidth\": 0, \"ticks\": \"\"}}, \"type\": \"scatter\"}], \"scatter3d\": [{\"line\": {\"colorbar\": {\"outlinewidth\": 0, \"ticks\": \"\"}}, \"marker\": {\"colorbar\": {\"outlinewidth\": 0, \"ticks\": \"\"}}, \"type\": \"scatter3d\"}], \"scattercarpet\": [{\"marker\": {\"colorbar\": {\"outlinewidth\": 0, \"ticks\": \"\"}}, \"type\": \"scattercarpet\"}], \"scattergeo\": [{\"marker\": {\"colorbar\": {\"outlinewidth\": 0, \"ticks\": \"\"}}, \"type\": \"scattergeo\"}], \"scattergl\": [{\"marker\": {\"colorbar\": {\"outlinewidth\": 0, \"ticks\": \"\"}}, \"type\": \"scattergl\"}], \"scattermapbox\": [{\"marker\": {\"colorbar\": {\"outlinewidth\": 0, \"ticks\": \"\"}}, \"type\": \"scattermapbox\"}], \"scatterpolar\": [{\"marker\": {\"colorbar\": {\"outlinewidth\": 0, \"ticks\": \"\"}}, \"type\": \"scatterpolar\"}], \"scatterpolargl\": [{\"marker\": {\"colorbar\": {\"outlinewidth\": 0, \"ticks\": \"\"}}, \"type\": \"scatterpolargl\"}], \"scatterternary\": [{\"marker\": {\"colorbar\": {\"outlinewidth\": 0, \"ticks\": \"\"}}, \"type\": \"scatterternary\"}], \"surface\": [{\"colorbar\": {\"outlinewidth\": 0, \"ticks\": \"\"}, \"colorscale\": [[0.0, \"#0d0887\"], [0.1111111111111111, \"#46039f\"], [0.2222222222222222, \"#7201a8\"], [0.3333333333333333, \"#9c179e\"], [0.4444444444444444, \"#bd3786\"], [0.5555555555555556, \"#d8576b\"], [0.6666666666666666, \"#ed7953\"], [0.7777777777777778, \"#fb9f3a\"], [0.8888888888888888, \"#fdca26\"], [1.0, \"#f0f921\"]], \"type\": \"surface\"}], \"table\": [{\"cells\": {\"fill\": {\"color\": \"#EBF0F8\"}, \"line\": {\"color\": \"white\"}}, \"header\": {\"fill\": {\"color\": \"#C8D4E3\"}, \"line\": {\"color\": \"white\"}}, \"type\": \"table\"}]}, \"layout\": {\"annotationdefaults\": {\"arrowcolor\": \"#2a3f5f\", \"arrowhead\": 0, \"arrowwidth\": 1}, \"autotypenumbers\": \"strict\", \"coloraxis\": {\"colorbar\": {\"outlinewidth\": 0, \"ticks\": \"\"}}, \"colorscale\": {\"diverging\": [[0, \"#8e0152\"], [0.1, \"#c51b7d\"], [0.2, \"#de77ae\"], [0.3, \"#f1b6da\"], [0.4, \"#fde0ef\"], [0.5, \"#f7f7f7\"], [0.6, \"#e6f5d0\"], [0.7, \"#b8e186\"], [0.8, \"#7fbc41\"], [0.9, \"#4d9221\"], [1, \"#276419\"]], \"sequential\": [[0.0, \"#0d0887\"], [0.1111111111111111, \"#46039f\"], [0.2222222222222222, \"#7201a8\"], [0.3333333333333333, \"#9c179e\"], [0.4444444444444444, \"#bd3786\"], [0.5555555555555556, \"#d8576b\"], [0.6666666666666666, \"#ed7953\"], [0.7777777777777778, \"#fb9f3a\"], [0.8888888888888888, \"#fdca26\"], [1.0, \"#f0f921\"]], \"sequentialminus\": [[0.0, \"#0d0887\"], [0.1111111111111111, \"#46039f\"], [0.2222222222222222, \"#7201a8\"], [0.3333333333333333, \"#9c179e\"], [0.4444444444444444, \"#bd3786\"], [0.5555555555555556, \"#d8576b\"], [0.6666666666666666, \"#ed7953\"], [0.7777777777777778, \"#fb9f3a\"], [0.8888888888888888, \"#fdca26\"], [1.0, \"#f0f921\"]]}, \"colorway\": [\"#636efa\", \"#EF553B\", \"#00cc96\", \"#ab63fa\", \"#FFA15A\", \"#19d3f3\", \"#FF6692\", \"#B6E880\", \"#FF97FF\", \"#FECB52\"], \"font\": {\"color\": \"#2a3f5f\"}, \"geo\": {\"bgcolor\": \"white\", \"lakecolor\": \"white\", \"landcolor\": \"#E5ECF6\", \"showlakes\": true, \"showland\": true, \"subunitcolor\": \"white\"}, \"hoverlabel\": {\"align\": \"left\"}, \"hovermode\": \"closest\", \"mapbox\": {\"style\": \"light\"}, \"paper_bgcolor\": \"white\", \"plot_bgcolor\": \"#E5ECF6\", \"polar\": {\"angularaxis\": {\"gridcolor\": \"white\", \"linecolor\": \"white\", \"ticks\": \"\"}, \"bgcolor\": \"#E5ECF6\", \"radialaxis\": {\"gridcolor\": \"white\", \"linecolor\": \"white\", \"ticks\": \"\"}}, \"scene\": {\"xaxis\": {\"backgroundcolor\": \"#E5ECF6\", \"gridcolor\": \"white\", \"gridwidth\": 2, \"linecolor\": \"white\", \"showbackground\": true, \"ticks\": \"\", \"zerolinecolor\": \"white\"}, \"yaxis\": {\"backgroundcolor\": \"#E5ECF6\", \"gridcolor\": \"white\", \"gridwidth\": 2, \"linecolor\": \"white\", \"showbackground\": true, \"ticks\": \"\", \"zerolinecolor\": \"white\"}, \"zaxis\": {\"backgroundcolor\": \"#E5ECF6\", \"gridcolor\": \"white\", \"gridwidth\": 2, \"linecolor\": \"white\", \"showbackground\": true, \"ticks\": \"\", \"zerolinecolor\": \"white\"}}, \"shapedefaults\": {\"line\": {\"color\": \"#2a3f5f\"}}, \"ternary\": {\"aaxis\": {\"gridcolor\": \"white\", \"linecolor\": \"white\", \"ticks\": \"\"}, \"baxis\": {\"gridcolor\": \"white\", \"linecolor\": \"white\", \"ticks\": \"\"}, \"bgcolor\": \"#E5ECF6\", \"caxis\": {\"gridcolor\": \"white\", \"linecolor\": \"white\", \"ticks\": \"\"}}, \"title\": {\"x\": 0.05}, \"xaxis\": {\"automargin\": true, \"gridcolor\": \"white\", \"linecolor\": \"white\", \"ticks\": \"\", \"title\": {\"standoff\": 15}, \"zerolinecolor\": \"white\", \"zerolinewidth\": 2}, \"yaxis\": {\"automargin\": true, \"gridcolor\": \"white\", \"linecolor\": \"white\", \"ticks\": \"\", \"title\": {\"standoff\": 15}, \"zerolinecolor\": \"white\", \"zerolinewidth\": 2}}}, \"title\": {\"text\": \"Hyperparameter Importances\"}, \"xaxis\": {\"title\": {\"text\": \"Importance for Objective Value\"}}, \"yaxis\": {\"title\": {\"text\": \"Hyperparameter\"}}},                        {\"responsive\": true}                    ).then(function(){\n",
       "                            \n",
       "var gd = document.getElementById('fc3a8a71-a89f-48ca-a149-e1fdf36e1735');\n",
       "var x = new MutationObserver(function (mutations, observer) {{\n",
       "        var display = window.getComputedStyle(gd).display;\n",
       "        if (!display || display === 'none') {{\n",
       "            console.log([gd, 'removed!']);\n",
       "            Plotly.purge(gd);\n",
       "            observer.disconnect();\n",
       "        }}\n",
       "}});\n",
       "\n",
       "// Listen for the removal of the full notebook cells\n",
       "var notebookContainer = gd.closest('#notebook-container');\n",
       "if (notebookContainer) {{\n",
       "    x.observe(notebookContainer, {childList: true});\n",
       "}}\n",
       "\n",
       "// Listen for the clearing of the current output cell\n",
       "var outputEl = gd.closest('.output');\n",
       "if (outputEl) {{\n",
       "    x.observe(outputEl, {childList: true});\n",
       "}}\n",
       "\n",
       "                        })                };                });            </script>        </div>"
      ]
     },
     "metadata": {},
     "output_type": "display_data"
    }
   ],
   "source": [
    "# 하이퍼파라미터 중요도\n",
    "optuna.visualization.plot_param_importances(study)"
   ]
  },
  {
   "cell_type": "code",
   "execution_count": null,
   "id": "dee01591",
   "metadata": {},
   "outputs": [],
   "source": [
    "dinner_params = study.best_trial.params\n",
    "dinner_params[\"n_estimators\"] = 10000\n",
    "dinner_params[\"random_state\"] = 42"
   ]
  },
  {
   "cell_type": "code",
   "execution_count": null,
   "id": "aa0d8106",
   "metadata": {},
   "outputs": [],
   "source": [
    "dinner_model = XGBRegressor(**dinner_params)\n",
    "dinner_model.fit(X_dinner, y_dinner)"
   ]
  },
  {
   "cell_type": "code",
   "execution_count": null,
   "id": "04c19539",
   "metadata": {},
   "outputs": [],
   "source": [
    "test_x = test[[\"월\", \"일\", \"요일(석식)\", \"식사가능자수\", \"본사출장자수\", \"본사시간외근무명령서승인건수\"]]\n",
    "predict_dinner = dinner_model.predict(test_x)\n",
    "submit[\"석식계\"] = predict_dinner"
   ]
  },
  {
   "cell_type": "code",
   "execution_count": null,
   "id": "cee93c39",
   "metadata": {},
   "outputs": [],
   "source": [
    "submit"
   ]
  },
  {
   "cell_type": "code",
   "execution_count": null,
   "id": "e34959e3",
   "metadata": {},
   "outputs": [],
   "source": [
    "submit.to_csv(\"tpe_xgb.csv\", index=False)"
   ]
  },
  {
   "cell_type": "markdown",
   "id": "cbc2fb7a",
   "metadata": {},
   "source": [
    "### Bayseian Ridge"
   ]
  },
  {
   "cell_type": "code",
   "execution_count": null,
   "id": "b1c776e1",
   "metadata": {},
   "outputs": [],
   "source": []
  }
 ],
 "metadata": {
  "kernelspec": {
   "display_name": "Python 3",
   "language": "python",
   "name": "python3"
  },
  "language_info": {
   "codemirror_mode": {
    "name": "ipython",
    "version": 3
   },
   "file_extension": ".py",
   "mimetype": "text/x-python",
   "name": "python",
   "nbconvert_exporter": "python",
   "pygments_lexer": "ipython3",
   "version": "3.8.10"
  }
 },
 "nbformat": 4,
 "nbformat_minor": 5
}
