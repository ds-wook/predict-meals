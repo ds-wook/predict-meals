{
 "cells": [
  {
   "cell_type": "code",
   "execution_count": 1,
   "id": "c6a05daf",
   "metadata": {},
   "outputs": [],
   "source": [
    "import matplotlib.font_manager as fm\n",
    "import matplotlib.pyplot as plt\n",
    "import numpy as np\n",
    "import pandas as pd\n",
    "import seaborn as sns\n",
    "import optuna\n",
    "\n",
    "from xgboost import XGBRegressor\n",
    "\n",
    "path_gothic = \"/usr/share/fonts/truetype/nanum/NanumGothic.ttf\"\n",
    "fontprop = fm.FontProperties(fname=path_gothic, size=20)"
   ]
  },
  {
   "cell_type": "code",
   "execution_count": 2,
   "id": "b7d13d84",
   "metadata": {},
   "outputs": [],
   "source": [
    "path = \"../input/predict-meals/\"\n",
    "train = pd.read_csv(path + \"train.csv\")\n",
    "test = pd.read_csv(path + \"test.csv\")\n",
    "submit = pd.read_csv(path + \"sample_submission.csv\")"
   ]
  },
  {
   "cell_type": "code",
   "execution_count": 3,
   "id": "6411306d",
   "metadata": {},
   "outputs": [],
   "source": [
    "drops = [\"조식메뉴\", \"중식메뉴\", \"석식메뉴\"]\n",
    "\n",
    "train = train.drop(drops, axis=1)\n",
    "test = test.drop(drops, axis=1)"
   ]
  },
  {
   "cell_type": "code",
   "execution_count": 4,
   "id": "a768df49",
   "metadata": {},
   "outputs": [],
   "source": [
    "train[\"월\"] = pd.DatetimeIndex(train[\"일자\"]).month\n",
    "test[\"월\"] = pd.DatetimeIndex(test[\"일자\"]).month\n",
    "\n",
    "train[\"일\"] = pd.DatetimeIndex(train[\"일자\"]).day\n",
    "test[\"일\"] = pd.DatetimeIndex(test[\"일자\"]).day"
   ]
  },
  {
   "cell_type": "code",
   "execution_count": 5,
   "id": "85f8e5c1",
   "metadata": {},
   "outputs": [],
   "source": [
    "weekday = {\"월\": 1, \"화\": 2, \"수\": 3, \"목\": 4, \"금\": 5}\n",
    "\n",
    "train[\"요일\"] = train[\"요일\"].map(weekday)\n",
    "test[\"요일\"] = test[\"요일\"].map(weekday)"
   ]
  },
  {
   "cell_type": "code",
   "execution_count": 6,
   "id": "0cd54600",
   "metadata": {},
   "outputs": [],
   "source": [
    "train[\"식사가능자수\"] = train[\"본사정원수\"] - train[\"본사휴가자수\"] - train[\"현본사소속재택근무자수\"]\n",
    "test[\"식사가능자수\"] = test[\"본사정원수\"] - test[\"본사휴가자수\"] - test[\"현본사소속재택근무자수\"]"
   ]
  },
  {
   "cell_type": "code",
   "execution_count": 7,
   "id": "2a3f2af0",
   "metadata": {},
   "outputs": [],
   "source": [
    "train[\"중식참여율\"] = train[\"중식계\"] / train[\"식사가능자수\"]\n",
    "train[\"석식참여율\"] = train[\"석식계\"] / train[\"식사가능자수\"]"
   ]
  },
  {
   "cell_type": "code",
   "execution_count": 8,
   "id": "3281f022",
   "metadata": {},
   "outputs": [],
   "source": [
    "features = [\"월\", \"일\", \"요일\", \"식사가능자수\", \"본사출장자수\", \"본사시간외근무명령서승인건수\"]\n",
    "labels = [\"중식계\", \"석식계\", \"중식참여율\", \"석식참여율\"]\n",
    "\n",
    "train = train[features + labels]\n",
    "test = test[features]"
   ]
  },
  {
   "cell_type": "code",
   "execution_count": 9,
   "id": "6d7367c6",
   "metadata": {},
   "outputs": [],
   "source": [
    "# 요일을 석식 rank에 맞춰 mapping한 요일(석식) 칼럼 만들기.\n",
    "\n",
    "weekday_rank4dinner = {\n",
    "    1: 1,\n",
    "    2: 2,\n",
    "    3: 5,\n",
    "    4: 3,\n",
    "    5: 4,\n",
    "}\n",
    "\n",
    "train[\"요일(석식)\"] = train[\"요일\"].map(weekday_rank4dinner)\n",
    "test[\"요일(석식)\"] = test[\"요일\"].map(weekday_rank4dinner)"
   ]
  },
  {
   "cell_type": "code",
   "execution_count": 10,
   "id": "19a95f40",
   "metadata": {},
   "outputs": [
    {
     "name": "stdout",
     "output_type": "stream",
     "text": [
      "MAE: 79.6927486862267\n"
     ]
    }
   ],
   "source": [
    "from sklearn.model_selection import train_test_split\n",
    "from sklearn.metrics import mean_absolute_error\n",
    "\n",
    "x = train[[\"월\", \"일\", \"요일\", \"식사가능자수\", \"본사출장자수\", \"본사시간외근무명령서승인건수\"]]\n",
    "y = train[\"중식계\"]\n",
    "\n",
    "train_x, test_x, train_y, test_y = train_test_split(x, y, test_size=0.3, random_state=42)\n",
    "\n",
    "lunch_params = {\n",
    "    \"lambda\": 0.014695381889341316,\n",
    "    \"alpha\": 7.411440351007072,\n",
    "    \"colsample_bytree\": 0.9,\n",
    "    \"subsample\": 0.8,\n",
    "    \"learning_rate\": 0.014,\n",
    "    \"max_depth\": 5,\n",
    "    \"min_child_weight\": 1,\n",
    "}\n",
    "lunch_params[\"n_estimators\"] = 10000\n",
    "lunch_params[\"random_state\"] = 42\n",
    "\n",
    "lunch_model = XGBRegressor(**lunch_params)\n",
    "lunch_model.fit(train_x, train_y)\n",
    "y_pred = lunch_model.predict(test_x)\n",
    "print(f\"MAE: {mean_absolute_error(test_y, y_pred)}\")"
   ]
  },
  {
   "cell_type": "code",
   "execution_count": 11,
   "id": "87546ac7",
   "metadata": {},
   "outputs": [],
   "source": [
    "lunch_model.fit(x, y)\n",
    "test_x = test[[\"월\", \"일\", \"요일\", \"식사가능자수\", \"본사출장자수\", \"본사시간외근무명령서승인건수\"]]\n",
    "y_pred = lunch_model.predict(test_x)"
   ]
  },
  {
   "cell_type": "code",
   "execution_count": 12,
   "id": "59571b94",
   "metadata": {},
   "outputs": [],
   "source": [
    "submit['중식계'] = y_pred"
   ]
  },
  {
   "cell_type": "code",
   "execution_count": 13,
   "id": "ac4ae6bf",
   "metadata": {},
   "outputs": [
    {
     "name": "stdout",
     "output_type": "stream",
     "text": [
      "MAE: 63.43847495547974\n"
     ]
    }
   ],
   "source": [
    "x = train[[\"월\", \"일\", \"요일(석식)\", \"식사가능자수\", \"본사출장자수\", \"본사시간외근무명령서승인건수\"]]\n",
    "y = train[\"석식계\"]\n",
    "\n",
    "train_x, test_x, train_y, test_y = train_test_split(x, y, test_size=0.3, random_state=42)\n",
    "\n",
    "dinner_params = {\n",
    "    \"lambda\": 0.014750443224224807,\n",
    "    \"alpha\": 0.0010890646914942937,\n",
    "    \"colsample_bytree\": 1.0,\n",
    "    \"subsample\": 0.6,\n",
    "    \"learning_rate\": 0.012,\n",
    "    \"max_depth\": 7,\n",
    "    \"min_child_weight\": 2,\n",
    "}\n",
    "dinner_params[\"n_estimators\"] = 10000\n",
    "dinner_params[\"random_state\"] = 42\n",
    "\n",
    "dinner_model = XGBRegressor(**dinner_params)\n",
    "dinner_model.fit(train_x, train_y)\n",
    "y_pred = dinner_model.predict(test_x)\n",
    "print(f\"MAE: {mean_absolute_error(test_y, y_pred)}\")"
   ]
  },
  {
   "cell_type": "code",
   "execution_count": 14,
   "id": "9455a05a",
   "metadata": {},
   "outputs": [],
   "source": [
    "dinner_model.fit(x, y)\n",
    "test_x = test[[\"월\", \"일\", \"요일(석식)\", \"식사가능자수\", \"본사출장자수\", \"본사시간외근무명령서승인건수\"]]\n",
    "y_pred = dinner_model.predict(test_x)"
   ]
  },
  {
   "cell_type": "code",
   "execution_count": 15,
   "id": "63a9db78",
   "metadata": {},
   "outputs": [],
   "source": [
    "submit[\"석식계\"] = y_pred"
   ]
  },
  {
   "cell_type": "code",
   "execution_count": 16,
   "id": "3634da5e",
   "metadata": {},
   "outputs": [],
   "source": [
    "submit.to_csv(\"xgb_baseline3.csv\", index=False)"
   ]
  }
 ],
 "metadata": {
  "kernelspec": {
   "display_name": "Python 3",
   "language": "python",
   "name": "python3"
  },
  "language_info": {
   "codemirror_mode": {
    "name": "ipython",
    "version": 3
   },
   "file_extension": ".py",
   "mimetype": "text/x-python",
   "name": "python",
   "nbconvert_exporter": "python",
   "pygments_lexer": "ipython3",
   "version": "3.8.10"
  }
 },
 "nbformat": 4,
 "nbformat_minor": 5
}
